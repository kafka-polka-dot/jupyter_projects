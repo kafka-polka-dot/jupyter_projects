{
 "cells": [
  {
   "cell_type": "markdown",
   "metadata": {},
   "source": [
    "# Employee Turnover: Analyzing Exit Surveys"
   ]
  },
  {
   "attachments": {
    "img_899-5_3-2.jpeg": {
     "image/jpeg": "[encoded data removed]"
    }
   },
   "cell_type": "markdown",
   "metadata": {},
   "source": [
    "![img_899-5_3-2.jpeg](attachment:img_899-5_3-2.jpeg)"
   ]
  },
  {
   "cell_type": "markdown",
   "metadata": {},
   "source": [
    "## Introduction\n",
    "\n",
    "Skilled employees can be regarded as valuable assets in the knowledge economy. High turnover in the companies is [often correlated to low performance](https://hbr.org/2016/04/making-exit-interviews-count). If people are leaving an organization in ever-increasing numbers, figuring out why is crucial.\n",
    "Gathering feedback from departing employees not only helps adjust HR policies but can also promote engagement by signaling that their [views matter and turn them into corporate ambassadors for years to come.](https://hbr.org/2016/04/making-exit-interviews-count)\n",
    "\n",
    "For that project I'll work with **exit surveys** from employees of the Department of Education, Training and Employment (DETE) and the Technical and Further Education (TAFE) institute in Queensland, Australia.\n",
    "\n",
    "For that project I will answer following questions that could be a good starting point to HR department to analyse departing employees feedback:\n",
    "\n",
    " - Are employees who only worked for the institutes for a short period of time resigning due to some kind of dissatisfaction? What about employees who have been there longer?\n",
    " \n",
    " - Are younger employees resigning due to some kind of dissatisfaction? What about older employees?\n",
    "\n",
    "### Key findings\n",
    "\n",
    "The main conclusion of that research is that more experienced employees with older age resign more often because of dissatisfaction.\n",
    "\n",
    "### Data sets\n",
    "\n",
    " - Technical and Further Education (TAFE) institute survey can be found [here](https://data.gov.au/dataset/ds-qld-89970a3b-182b-41ea-aea2-6f9f17b5907e/details?q=exit%20survey) \n",
    " - Department of Education, Training and Employment survey was downloaded [here](https://data.gov.au/dataset/ds-qld-fe96ff30-d157-4a81-851d-215f2a0fe26d/details?q=exit%20survey).\n",
    "\n",
    "Authors of the challenge made changed the encoding of the files to UTF-8 (the original ones are encoded using cp1252.)\n",
    " \n",
    " \n",
    " # Data cleaning and preparation\n",
    " \n",
    " Main focus in that project will be made at data cleaning, data aggregation and combining two datasets to a single dataframe.\n",
    " \n",
    " ## Data Exploration\n",
    " \n",
    " I should find fields with following information to answer the questions:\n",
    " \n",
    " - how long does employee work there (end date - start date)\n",
    " - type of resignation (leave only voluntary resignation)\n",
    " - age of employee\n",
    " - reasons for resignation (grouped by categories)\n",
    " "
   ]
  },
  {
   "cell_type": "code",
   "execution_count": 1,
   "metadata": {},
   "outputs": [],
   "source": [
    "import numpy as np\n",
    "import pandas as pd\n",
    "import matplotlib.pyplot as plt\n",
    "%matplotlib inline\n",
    "plt.style.use('fivethirtyeight')\n",
    "plt.rcParams.update({'font.size': 14})\n",
    "\n",
    "dete_survey = pd.read_csv('dete_survey.csv')\n",
    "tafe_survey = pd.read_csv('tafe_survey.csv')"
   ]
  },
  {
   "cell_type": "markdown",
   "metadata": {},
   "source": [
    " ### Exploring key columns at DETE survey\n",
    " \n",
    " Let's have a look at the *Department of Education, Training and Employment* data set (`dete_survey`)."
   ]
  },
  {
   "cell_type": "code",
   "execution_count": 2,
   "metadata": {},
   "outputs": [
    {
     "name": "stdout",
     "output_type": "stream",
     "text": [
      "<class 'pandas.core.frame.DataFrame'>\n",
      "RangeIndex: 822 entries, 0 to 821\n",
      "Data columns (total 56 columns):\n",
      " #   Column                               Non-Null Count  Dtype \n",
      "---  ------                               --------------  ----- \n",
      " 0   ID                                   822 non-null    int64 \n",
      " 1   SeparationType                       822 non-null    object\n",
      " 2   Cease Date                           822 non-null    object\n",
      " 3   DETE Start Date                      822 non-null    object\n",
      " 4   Role Start Date                      822 non-null    object\n",
      " 5   Position                             817 non-null    object\n",
      " 6   Classification                       455 non-null    object\n",
      " 7   Region                               822 non-null    object\n",
      " 8   Business Unit                        126 non-null    object\n",
      " 9   Employment Status                    817 non-null    object\n",
      " 10  Career move to public sector         822 non-null    bool  \n",
      " 11  Career move to private sector        822 non-null    bool  \n",
      " 12  Interpersonal conflicts              822 non-null    bool  \n",
      " 13  Job dissatisfaction                  822 non-null    bool  \n",
      " 14  Dissatisfaction with the department  822 non-null    bool  \n",
      " 15  Physical work environment            822 non-null    bool  \n",
      " 16  Lack of recognition                  822 non-null    bool  \n",
      " 17  Lack of job security                 822 non-null    bool  \n",
      " 18  Work location                        822 non-null    bool  \n",
      " 19  Employment conditions                822 non-null    bool  \n",
      " 20  Maternity/family                     822 non-null    bool  \n",
      " 21  Relocation                           822 non-null    bool  \n",
      " 22  Study/Travel                         822 non-null    bool  \n",
      " 23  Ill Health                           822 non-null    bool  \n",
      " 24  Traumatic incident                   822 non-null    bool  \n",
      " 25  Work life balance                    822 non-null    bool  \n",
      " 26  Workload                             822 non-null    bool  \n",
      " 27  None of the above                    822 non-null    bool  \n",
      " 28  Professional Development             808 non-null    object\n",
      " 29  Opportunities for promotion          735 non-null    object\n",
      " 30  Staff morale                         816 non-null    object\n",
      " 31  Workplace issue                      788 non-null    object\n",
      " 32  Physical environment                 817 non-null    object\n",
      " 33  Worklife balance                     815 non-null    object\n",
      " 34  Stress and pressure support          810 non-null    object\n",
      " 35  Performance of supervisor            813 non-null    object\n",
      " 36  Peer support                         812 non-null    object\n",
      " 37  Initiative                           813 non-null    object\n",
      " 38  Skills                               811 non-null    object\n",
      " 39  Coach                                767 non-null    object\n",
      " 40  Career Aspirations                   746 non-null    object\n",
      " 41  Feedback                             792 non-null    object\n",
      " 42  Further PD                           768 non-null    object\n",
      " 43  Communication                        814 non-null    object\n",
      " 44  My say                               812 non-null    object\n",
      " 45  Information                          816 non-null    object\n",
      " 46  Kept informed                        813 non-null    object\n",
      " 47  Wellness programs                    766 non-null    object\n",
      " 48  Health & Safety                      793 non-null    object\n",
      " 49  Gender                               798 non-null    object\n",
      " 50  Age                                  811 non-null    object\n",
      " 51  Aboriginal                           16 non-null     object\n",
      " 52  Torres Strait                        3 non-null      object\n",
      " 53  South Sea                            7 non-null      object\n",
      " 54  Disability                           23 non-null     object\n",
      " 55  NESB                                 32 non-null     object\n",
      "dtypes: bool(18), int64(1), object(37)\n",
      "memory usage: 258.6+ KB\n"
     ]
    }
   ],
   "source": [
    "dete_survey.info()"
   ]
  },
  {
   "cell_type": "markdown",
   "metadata": {},
   "source": [
    "`Dete_survey` data set includes 822 rows and 56 columns, some of the columns include null values.\n",
    "\n",
    "Core columns which are interesting for us in regard to age and position of employees are:\n",
    " - `ID` that is a unique key, similar to numeric index\n",
    " - `SeparationType` - to identify main groups and narrow down the search\n",
    " - `Cease Date` - `DETE Start Date` how long did employees work there\n",
    " - `Gender` and `Age` will help to profile better certain groups of employees\n",
    " - `Position` and `Employment Status` also will differentiate full-time and part-time as well junior from senior positions\n",
    " \n",
    "There are a number of columns with booleans that were probably ticked as contributing factors of resignation by employees: from column 10 to column 27.\n",
    "Columns 28-48 seem to present evaluations of working conditions and relationships. Let's take a look at that data:"
   ]
  },
  {
   "cell_type": "code",
   "execution_count": 3,
   "metadata": {},
   "outputs": [
    {
     "data": {
      "text/html": [
       "<div>\n",
       "<style scoped>\n",
       "    .dataframe tbody tr th:only-of-type {\n",
       "        vertical-align: middle;\n",
       "    }\n",
       "\n",
       "    .dataframe tbody tr th {\n",
       "        vertical-align: top;\n",
       "    }\n",
       "\n",
       "    .dataframe thead th {\n",
       "        text-align: right;\n",
       "    }\n",
       "</style>\n",
       "<table border=\"1\" class=\"dataframe\">\n",
       "  <thead>\n",
       "    <tr style=\"text-align: right;\">\n",
       "      <th></th>\n",
       "      <th>Professional Development</th>\n",
       "      <th>Opportunities for promotion</th>\n",
       "      <th>Staff morale</th>\n",
       "      <th>Workplace issue</th>\n",
       "      <th>Physical environment</th>\n",
       "      <th>Worklife balance</th>\n",
       "      <th>Stress and pressure support</th>\n",
       "      <th>Performance of supervisor</th>\n",
       "      <th>Peer support</th>\n",
       "      <th>Initiative</th>\n",
       "      <th>...</th>\n",
       "      <th>Coach</th>\n",
       "      <th>Career Aspirations</th>\n",
       "      <th>Feedback</th>\n",
       "      <th>Further PD</th>\n",
       "      <th>Communication</th>\n",
       "      <th>My say</th>\n",
       "      <th>Information</th>\n",
       "      <th>Kept informed</th>\n",
       "      <th>Wellness programs</th>\n",
       "      <th>Health &amp; Safety</th>\n",
       "    </tr>\n",
       "  </thead>\n",
       "  <tbody>\n",
       "    <tr>\n",
       "      <th>0</th>\n",
       "      <td>A</td>\n",
       "      <td>A</td>\n",
       "      <td>N</td>\n",
       "      <td>N</td>\n",
       "      <td>N</td>\n",
       "      <td>A</td>\n",
       "      <td>A</td>\n",
       "      <td>A</td>\n",
       "      <td>A</td>\n",
       "      <td>N</td>\n",
       "      <td>...</td>\n",
       "      <td>N</td>\n",
       "      <td>A</td>\n",
       "      <td>A</td>\n",
       "      <td>A</td>\n",
       "      <td>N</td>\n",
       "      <td>A</td>\n",
       "      <td>A</td>\n",
       "      <td>N</td>\n",
       "      <td>N</td>\n",
       "      <td>N</td>\n",
       "    </tr>\n",
       "    <tr>\n",
       "      <th>1</th>\n",
       "      <td>A</td>\n",
       "      <td>A</td>\n",
       "      <td>N</td>\n",
       "      <td>N</td>\n",
       "      <td>N</td>\n",
       "      <td>N</td>\n",
       "      <td>A</td>\n",
       "      <td>A</td>\n",
       "      <td>A</td>\n",
       "      <td>N</td>\n",
       "      <td>...</td>\n",
       "      <td>N</td>\n",
       "      <td>A</td>\n",
       "      <td>A</td>\n",
       "      <td>A</td>\n",
       "      <td>N</td>\n",
       "      <td>A</td>\n",
       "      <td>A</td>\n",
       "      <td>N</td>\n",
       "      <td>N</td>\n",
       "      <td>N</td>\n",
       "    </tr>\n",
       "    <tr>\n",
       "      <th>2</th>\n",
       "      <td>N</td>\n",
       "      <td>N</td>\n",
       "      <td>N</td>\n",
       "      <td>N</td>\n",
       "      <td>N</td>\n",
       "      <td>N</td>\n",
       "      <td>N</td>\n",
       "      <td>N</td>\n",
       "      <td>N</td>\n",
       "      <td>N</td>\n",
       "      <td>...</td>\n",
       "      <td>N</td>\n",
       "      <td>N</td>\n",
       "      <td>N</td>\n",
       "      <td>N</td>\n",
       "      <td>A</td>\n",
       "      <td>A</td>\n",
       "      <td>N</td>\n",
       "      <td>N</td>\n",
       "      <td>N</td>\n",
       "      <td>N</td>\n",
       "    </tr>\n",
       "    <tr>\n",
       "      <th>3</th>\n",
       "      <td>A</td>\n",
       "      <td>N</td>\n",
       "      <td>N</td>\n",
       "      <td>N</td>\n",
       "      <td>A</td>\n",
       "      <td>A</td>\n",
       "      <td>N</td>\n",
       "      <td>N</td>\n",
       "      <td>A</td>\n",
       "      <td>A</td>\n",
       "      <td>...</td>\n",
       "      <td>A</td>\n",
       "      <td>A</td>\n",
       "      <td>A</td>\n",
       "      <td>A</td>\n",
       "      <td>A</td>\n",
       "      <td>A</td>\n",
       "      <td>A</td>\n",
       "      <td>A</td>\n",
       "      <td>N</td>\n",
       "      <td>A</td>\n",
       "    </tr>\n",
       "    <tr>\n",
       "      <th>4</th>\n",
       "      <td>A</td>\n",
       "      <td>A</td>\n",
       "      <td>N</td>\n",
       "      <td>N</td>\n",
       "      <td>D</td>\n",
       "      <td>D</td>\n",
       "      <td>N</td>\n",
       "      <td>A</td>\n",
       "      <td>A</td>\n",
       "      <td>A</td>\n",
       "      <td>...</td>\n",
       "      <td>A</td>\n",
       "      <td>A</td>\n",
       "      <td>SA</td>\n",
       "      <td>SA</td>\n",
       "      <td>D</td>\n",
       "      <td>D</td>\n",
       "      <td>A</td>\n",
       "      <td>N</td>\n",
       "      <td>A</td>\n",
       "      <td>M</td>\n",
       "    </tr>\n",
       "  </tbody>\n",
       "</table>\n",
       "<p>5 rows × 21 columns</p>\n",
       "</div>"
      ],
      "text/plain": [
       "  Professional Development Opportunities for promotion Staff morale  \\\n",
       "0                        A                           A            N   \n",
       "1                        A                           A            N   \n",
       "2                        N                           N            N   \n",
       "3                        A                           N            N   \n",
       "4                        A                           A            N   \n",
       "\n",
       "  Workplace issue Physical environment Worklife balance  \\\n",
       "0               N                    N                A   \n",
       "1               N                    N                N   \n",
       "2               N                    N                N   \n",
       "3               N                    A                A   \n",
       "4               N                    D                D   \n",
       "\n",
       "  Stress and pressure support Performance of supervisor Peer support  \\\n",
       "0                           A                         A            A   \n",
       "1                           A                         A            A   \n",
       "2                           N                         N            N   \n",
       "3                           N                         N            A   \n",
       "4                           N                         A            A   \n",
       "\n",
       "  Initiative  ... Coach Career Aspirations Feedback Further PD Communication  \\\n",
       "0          N  ...     N                  A        A          A             N   \n",
       "1          N  ...     N                  A        A          A             N   \n",
       "2          N  ...     N                  N        N          N             A   \n",
       "3          A  ...     A                  A        A          A             A   \n",
       "4          A  ...     A                  A       SA         SA             D   \n",
       "\n",
       "  My say Information Kept informed Wellness programs Health & Safety  \n",
       "0      A           A             N                 N               N  \n",
       "1      A           A             N                 N               N  \n",
       "2      A           N             N                 N               N  \n",
       "3      A           A             A                 N               A  \n",
       "4      D           A             N                 A               M  \n",
       "\n",
       "[5 rows x 21 columns]"
      ]
     },
     "execution_count": 3,
     "metadata": {},
     "output_type": "execute_result"
    }
   ],
   "source": [
    "dete_survey.iloc[:5,28:49]"
   ]
  },
  {
   "cell_type": "markdown",
   "metadata": {},
   "source": [
    "Columns 28-48 are filled with some cryptic strings. Since I don't have any exploratory data on them I continue without these columns.\n",
    "\n",
    "Next step is to take a closer look at the columns that are important for my analysis. I identify how much the values vary there."
   ]
  },
  {
   "cell_type": "code",
   "execution_count": 4,
   "metadata": {},
   "outputs": [
    {
     "name": "stdout",
     "output_type": "stream",
     "text": [
      "Age Retirement                          285\n",
      "Resignation-Other reasons               150\n",
      "Resignation-Other employer               91\n",
      "Resignation-Move overseas/interstate     70\n",
      "Voluntary Early Retirement (VER)         67\n",
      "Ill Health Retirement                    61\n",
      "Other                                    49\n",
      "Contract Expired                         34\n",
      "Termination                              15\n",
      "Name: SeparationType, dtype: int64\n"
     ]
    }
   ],
   "source": [
    "print(dete_survey['SeparationType'].value_counts())\n",
    "\n",
    "# create a list with separation types\n",
    "dete_sep_types = dete_survey['SeparationType'].value_counts().index.tolist()"
   ]
  },
  {
   "cell_type": "code",
   "execution_count": 5,
   "metadata": {},
   "outputs": [
    {
     "data": {
      "text/plain": [
       "61 or older      222\n",
       "56-60            174\n",
       "51-55            103\n",
       "46-50             63\n",
       "41-45             61\n",
       "26-30             57\n",
       "36-40             51\n",
       "21-25             40\n",
       "31-35             39\n",
       "20 or younger      1\n",
       "Name: Age, dtype: int64"
      ]
     },
     "execution_count": 5,
     "metadata": {},
     "output_type": "execute_result"
    }
   ],
   "source": [
    "dete_survey['Age'].value_counts()"
   ]
  },
  {
   "cell_type": "code",
   "execution_count": 6,
   "metadata": {},
   "outputs": [
    {
     "data": {
      "text/plain": [
       "Female    573\n",
       "Male      225\n",
       "Name: Gender, dtype: int64"
      ]
     },
     "execution_count": 6,
     "metadata": {},
     "output_type": "execute_result"
    }
   ],
   "source": [
    "dete_survey['Gender'].value_counts()"
   ]
  },
  {
   "cell_type": "code",
   "execution_count": 7,
   "metadata": {},
   "outputs": [
    {
     "data": {
      "text/plain": [
       "Not Stated    73\n",
       "2011          40\n",
       "2007          34\n",
       "2008          31\n",
       "2012          27\n",
       "Name: DETE Start Date, dtype: int64"
      ]
     },
     "execution_count": 7,
     "metadata": {},
     "output_type": "execute_result"
    }
   ],
   "source": [
    "dete_survey['DETE Start Date'].value_counts().head()"
   ]
  },
  {
   "cell_type": "code",
   "execution_count": 8,
   "metadata": {},
   "outputs": [
    {
     "data": {
      "text/plain": [
       "1963    4\n",
       "1968    3\n",
       "1967    2\n",
       "1965    1\n",
       "1966    1\n",
       "Name: DETE Start Date, dtype: int64"
      ]
     },
     "execution_count": 8,
     "metadata": {},
     "output_type": "execute_result"
    }
   ],
   "source": [
    "dete_survey['DETE Start Date'].value_counts().tail()"
   ]
  },
  {
   "cell_type": "code",
   "execution_count": 9,
   "metadata": {},
   "outputs": [
    {
     "data": {
      "text/plain": [
       "2012          344\n",
       "2013          200\n",
       "01/2014        43\n",
       "12/2013        40\n",
       "Not Stated     34\n",
       "09/2013        34\n",
       "06/2013        27\n",
       "07/2013        22\n",
       "10/2013        20\n",
       "11/2013        16\n",
       "08/2013        12\n",
       "05/2013         7\n",
       "05/2012         6\n",
       "02/2014         2\n",
       "08/2012         2\n",
       "04/2014         2\n",
       "04/2013         2\n",
       "07/2014         2\n",
       "09/2014         1\n",
       "11/2012         1\n",
       "07/2012         1\n",
       "09/2010         1\n",
       "2010            1\n",
       "2014            1\n",
       "07/2006         1\n",
       "Name: Cease Date, dtype: int64"
      ]
     },
     "execution_count": 9,
     "metadata": {},
     "output_type": "execute_result"
    }
   ],
   "source": [
    "dete_survey['Cease Date'].value_counts()"
   ]
  },
  {
   "cell_type": "markdown",
   "metadata": {},
   "source": [
    "### Next steps for DETE survey\n",
    "\n",
    "**Core columns** for my analysis `DETE Start Date` and `Cease Date`:\n",
    " - are formatted as strings, need to be numeric\n",
    " - include 73 and 34 values 'Not Stated' respectively, need to turn to NaN\n",
    " - `Cease Date` includes dates in month/year, should leave only years\n",
    " - last step is to subtract `DETE Start Date` from `Cease Date` and to format them as bins as in tafe_survey['Years of work_total'] and ['Years of work_current]\n",
    " \n",
    "**Other columns** also need some attention:\n",
    " - leave only resignations (`'Separation Type'` is Resignation or Other)\n",
    " - deal with NaN values in the columns `Age` and `Gender`\n",
    " - delete all columns that won't be used in my analysis\n",
    " \n",
    " ### Exploring key columns at TAFE survey\n",
    "\n",
    "Let's explore the second data set from *Technical and Further Education institute* (`tafe_survey`)."
   ]
  },
  {
   "cell_type": "code",
   "execution_count": 10,
   "metadata": {},
   "outputs": [
    {
     "name": "stdout",
     "output_type": "stream",
     "text": [
      "<class 'pandas.core.frame.DataFrame'>\n",
      "RangeIndex: 702 entries, 0 to 701\n",
      "Data columns (total 72 columns):\n",
      " #   Column                                                                                                                                                         Non-Null Count  Dtype  \n",
      "---  ------                                                                                                                                                         --------------  -----  \n",
      " 0   Record ID                                                                                                                                                      702 non-null    float64\n",
      " 1   Institute                                                                                                                                                      702 non-null    object \n",
      " 2   WorkArea                                                                                                                                                       702 non-null    object \n",
      " 3   CESSATION YEAR                                                                                                                                                 695 non-null    float64\n",
      " 4   Reason for ceasing employment                                                                                                                                  701 non-null    object \n",
      " 5   Contributing Factors. Career Move - Public Sector                                                                                                              437 non-null    object \n",
      " 6   Contributing Factors. Career Move - Private Sector                                                                                                             437 non-null    object \n",
      " 7   Contributing Factors. Career Move - Self-employment                                                                                                            437 non-null    object \n",
      " 8   Contributing Factors. Ill Health                                                                                                                               437 non-null    object \n",
      " 9   Contributing Factors. Maternity/Family                                                                                                                         437 non-null    object \n",
      " 10  Contributing Factors. Dissatisfaction                                                                                                                          437 non-null    object \n",
      " 11  Contributing Factors. Job Dissatisfaction                                                                                                                      437 non-null    object \n",
      " 12  Contributing Factors. Interpersonal Conflict                                                                                                                   437 non-null    object \n",
      " 13  Contributing Factors. Study                                                                                                                                    437 non-null    object \n",
      " 14  Contributing Factors. Travel                                                                                                                                   437 non-null    object \n",
      " 15  Contributing Factors. Other                                                                                                                                    437 non-null    object \n",
      " 16  Contributing Factors. NONE                                                                                                                                     437 non-null    object \n",
      " 17  Main Factor. Which of these was the main factor for leaving?                                                                                                   113 non-null    object \n",
      " 18  InstituteViews. Topic:1. I feel the senior leadership had a clear vision and direction                                                                         608 non-null    object \n",
      " 19  InstituteViews. Topic:2. I was given access to skills training to help me do my job better                                                                     613 non-null    object \n",
      " 20  InstituteViews. Topic:3. I was given adequate opportunities for personal development                                                                           610 non-null    object \n",
      " 21  InstituteViews. Topic:4. I was given adequate opportunities for promotion within %Institute]Q25LBL%                                                            608 non-null    object \n",
      " 22  InstituteViews. Topic:5. I felt the salary for the job was right for the responsibilities I had                                                                615 non-null    object \n",
      " 23  InstituteViews. Topic:6. The organisation recognised when staff did good work                                                                                  607 non-null    object \n",
      " 24  InstituteViews. Topic:7. Management was generally supportive of me                                                                                             614 non-null    object \n",
      " 25  InstituteViews. Topic:8. Management was generally supportive of my team                                                                                        608 non-null    object \n",
      " 26  InstituteViews. Topic:9. I was kept informed of the changes in the organisation which would affect me                                                          610 non-null    object \n",
      " 27  InstituteViews. Topic:10. Staff morale was positive within the Institute                                                                                       602 non-null    object \n",
      " 28  InstituteViews. Topic:11. If I had a workplace issue it was dealt with quickly                                                                                 601 non-null    object \n",
      " 29  InstituteViews. Topic:12. If I had a workplace issue it was dealt with efficiently                                                                             597 non-null    object \n",
      " 30  InstituteViews. Topic:13. If I had a workplace issue it was dealt with discreetly                                                                              601 non-null    object \n",
      " 31  WorkUnitViews. Topic:14. I was satisfied with the quality of the management and supervision within my work unit                                                609 non-null    object \n",
      " 32  WorkUnitViews. Topic:15. I worked well with my colleagues                                                                                                      605 non-null    object \n",
      " 33  WorkUnitViews. Topic:16. My job was challenging and interesting                                                                                                607 non-null    object \n",
      " 34  WorkUnitViews. Topic:17. I was encouraged to use my initiative in the course of my work                                                                        610 non-null    object \n",
      " 35  WorkUnitViews. Topic:18. I had sufficient contact with other people in my job                                                                                  613 non-null    object \n",
      " 36  WorkUnitViews. Topic:19. I was given adequate support and co-operation by my peers to enable me to do my job                                                   609 non-null    object \n",
      " 37  WorkUnitViews. Topic:20. I was able to use the full range of my skills in my job                                                                               609 non-null    object \n",
      " 38  WorkUnitViews. Topic:21. I was able to use the full range of my abilities in my job. ; Category:Level of Agreement; Question:YOUR VIEWS ABOUT YOUR WORK UNIT]  608 non-null    object \n",
      " 39  WorkUnitViews. Topic:22. I was able to use the full range of my knowledge in my job                                                                            608 non-null    object \n",
      " 40  WorkUnitViews. Topic:23. My job provided sufficient variety                                                                                                    611 non-null    object \n",
      " 41  WorkUnitViews. Topic:24. I was able to cope with the level of stress and pressure in my job                                                                    610 non-null    object \n",
      " 42  WorkUnitViews. Topic:25. My job allowed me to balance the demands of work and family to my satisfaction                                                        611 non-null    object \n",
      " 43  WorkUnitViews. Topic:26. My supervisor gave me adequate personal recognition and feedback on my performance                                                    606 non-null    object \n",
      " 44  WorkUnitViews. Topic:27. My working environment was satisfactory e.g. sufficient space, good lighting, suitable seating and working area                       610 non-null    object \n",
      " 45  WorkUnitViews. Topic:28. I was given the opportunity to mentor and coach others in order for me to pass on my skills and knowledge prior to my cessation date  609 non-null    object \n",
      " 46  WorkUnitViews. Topic:29. There was adequate communication between staff in my unit                                                                             603 non-null    object \n",
      " 47  WorkUnitViews. Topic:30. Staff morale was positive within my work unit                                                                                         606 non-null    object \n",
      " 48  Induction. Did you undertake Workplace Induction?                                                                                                              619 non-null    object \n",
      " 49  InductionInfo. Topic:Did you undertake a Corporate Induction?                                                                                                  432 non-null    object \n",
      " 50  InductionInfo. Topic:Did you undertake a Institute Induction?                                                                                                  483 non-null    object \n",
      " 51  InductionInfo. Topic: Did you undertake Team Induction?                                                                                                        440 non-null    object \n",
      " 52  InductionInfo. Face to Face Topic:Did you undertake a Corporate Induction; Category:How it was conducted?                                                      555 non-null    object \n",
      " 53  InductionInfo. On-line Topic:Did you undertake a Corporate Induction; Category:How it was conducted?                                                           555 non-null    object \n",
      " 54  InductionInfo. Induction Manual Topic:Did you undertake a Corporate Induction?                                                                                 555 non-null    object \n",
      " 55  InductionInfo. Face to Face Topic:Did you undertake a Institute Induction?                                                                                     530 non-null    object \n",
      " 56  InductionInfo. On-line Topic:Did you undertake a Institute Induction?                                                                                          555 non-null    object \n",
      " 57  InductionInfo. Induction Manual Topic:Did you undertake a Institute Induction?                                                                                 553 non-null    object \n",
      " 58  InductionInfo. Face to Face Topic: Did you undertake Team Induction; Category?                                                                                 555 non-null    object \n",
      " 59  InductionInfo. On-line Topic: Did you undertake Team Induction?process you undertook and how it was conducted.]                                                555 non-null    object \n",
      " 60  InductionInfo. Induction Manual Topic: Did you undertake Team Induction?                                                                                       555 non-null    object \n",
      " 61  Workplace. Topic:Did you and your Manager develop a Performance and Professional Development Plan (PPDP)?                                                      608 non-null    object \n",
      " 62  Workplace. Topic:Does your workplace promote a work culture free from all forms of unlawful discrimination?                                                    594 non-null    object \n",
      " 63  Workplace. Topic:Does your workplace promote and practice the principles of employment equity?                                                                 587 non-null    object \n",
      " 64  Workplace. Topic:Does your workplace value the diversity of its employees?                                                                                     586 non-null    object \n",
      " 65  Workplace. Topic:Would you recommend the Institute as an employer to others?                                                                                   581 non-null    object \n",
      " 66  Gender. What is your Gender?                                                                                                                                   596 non-null    object \n",
      " 67  CurrentAge. Current Age                                                                                                                                        596 non-null    object \n",
      " 68  Employment Type. Employment Type                                                                                                                               596 non-null    object \n",
      " 69  Classification. Classification                                                                                                                                 596 non-null    object \n",
      " 70  LengthofServiceOverall. Overall Length of Service at Institute (in years)                                                                                      596 non-null    object \n",
      " 71  LengthofServiceCurrent. Length of Service at current workplace (in years)                                                                                      596 non-null    object \n",
      "dtypes: float64(2), object(70)\n",
      "memory usage: 395.0+ KB\n"
     ]
    }
   ],
   "source": [
    "tafe_survey.info()"
   ]
  },
  {
   "cell_type": "code",
   "execution_count": 11,
   "metadata": {},
   "outputs": [
    {
     "data": {
      "text/html": [
       "<div>\n",
       "<style scoped>\n",
       "    .dataframe tbody tr th:only-of-type {\n",
       "        vertical-align: middle;\n",
       "    }\n",
       "\n",
       "    .dataframe tbody tr th {\n",
       "        vertical-align: top;\n",
       "    }\n",
       "\n",
       "    .dataframe thead th {\n",
       "        text-align: right;\n",
       "    }\n",
       "</style>\n",
       "<table border=\"1\" class=\"dataframe\">\n",
       "  <thead>\n",
       "    <tr style=\"text-align: right;\">\n",
       "      <th></th>\n",
       "      <th>Contributing Factors. Career Move - Public Sector</th>\n",
       "      <th>Contributing Factors. Career Move - Private Sector</th>\n",
       "      <th>Contributing Factors. Career Move - Self-employment</th>\n",
       "      <th>Contributing Factors. Ill Health</th>\n",
       "      <th>Contributing Factors. Maternity/Family</th>\n",
       "      <th>Contributing Factors. Dissatisfaction</th>\n",
       "      <th>Contributing Factors. Job Dissatisfaction</th>\n",
       "      <th>Contributing Factors. Interpersonal Conflict</th>\n",
       "      <th>Contributing Factors. Study</th>\n",
       "      <th>Contributing Factors. Travel</th>\n",
       "      <th>Contributing Factors. Other</th>\n",
       "    </tr>\n",
       "  </thead>\n",
       "  <tbody>\n",
       "    <tr>\n",
       "      <th>0</th>\n",
       "      <td>NaN</td>\n",
       "      <td>NaN</td>\n",
       "      <td>NaN</td>\n",
       "      <td>NaN</td>\n",
       "      <td>NaN</td>\n",
       "      <td>NaN</td>\n",
       "      <td>NaN</td>\n",
       "      <td>NaN</td>\n",
       "      <td>NaN</td>\n",
       "      <td>NaN</td>\n",
       "      <td>NaN</td>\n",
       "    </tr>\n",
       "    <tr>\n",
       "      <th>1</th>\n",
       "      <td>-</td>\n",
       "      <td>-</td>\n",
       "      <td>-</td>\n",
       "      <td>-</td>\n",
       "      <td>-</td>\n",
       "      <td>-</td>\n",
       "      <td>-</td>\n",
       "      <td>-</td>\n",
       "      <td>-</td>\n",
       "      <td>Travel</td>\n",
       "      <td>-</td>\n",
       "    </tr>\n",
       "    <tr>\n",
       "      <th>2</th>\n",
       "      <td>-</td>\n",
       "      <td>-</td>\n",
       "      <td>-</td>\n",
       "      <td>-</td>\n",
       "      <td>-</td>\n",
       "      <td>-</td>\n",
       "      <td>-</td>\n",
       "      <td>-</td>\n",
       "      <td>-</td>\n",
       "      <td>-</td>\n",
       "      <td>-</td>\n",
       "    </tr>\n",
       "    <tr>\n",
       "      <th>3</th>\n",
       "      <td>-</td>\n",
       "      <td>-</td>\n",
       "      <td>-</td>\n",
       "      <td>-</td>\n",
       "      <td>-</td>\n",
       "      <td>-</td>\n",
       "      <td>-</td>\n",
       "      <td>-</td>\n",
       "      <td>-</td>\n",
       "      <td>Travel</td>\n",
       "      <td>-</td>\n",
       "    </tr>\n",
       "    <tr>\n",
       "      <th>4</th>\n",
       "      <td>-</td>\n",
       "      <td>Career Move - Private Sector</td>\n",
       "      <td>-</td>\n",
       "      <td>-</td>\n",
       "      <td>-</td>\n",
       "      <td>-</td>\n",
       "      <td>-</td>\n",
       "      <td>-</td>\n",
       "      <td>-</td>\n",
       "      <td>-</td>\n",
       "      <td>-</td>\n",
       "    </tr>\n",
       "  </tbody>\n",
       "</table>\n",
       "</div>"
      ],
      "text/plain": [
       "  Contributing Factors. Career Move - Public Sector   \\\n",
       "0                                                NaN   \n",
       "1                                                  -   \n",
       "2                                                  -   \n",
       "3                                                  -   \n",
       "4                                                  -   \n",
       "\n",
       "  Contributing Factors. Career Move - Private Sector   \\\n",
       "0                                                NaN    \n",
       "1                                                  -    \n",
       "2                                                  -    \n",
       "3                                                  -    \n",
       "4                       Career Move - Private Sector    \n",
       "\n",
       "  Contributing Factors. Career Move - Self-employment  \\\n",
       "0                                                NaN    \n",
       "1                                                  -    \n",
       "2                                                  -    \n",
       "3                                                  -    \n",
       "4                                                  -    \n",
       "\n",
       "  Contributing Factors. Ill Health Contributing Factors. Maternity/Family  \\\n",
       "0                              NaN                                    NaN   \n",
       "1                                -                                      -   \n",
       "2                                -                                      -   \n",
       "3                                -                                      -   \n",
       "4                                -                                      -   \n",
       "\n",
       "  Contributing Factors. Dissatisfaction  \\\n",
       "0                                   NaN   \n",
       "1                                     -   \n",
       "2                                     -   \n",
       "3                                     -   \n",
       "4                                     -   \n",
       "\n",
       "  Contributing Factors. Job Dissatisfaction  \\\n",
       "0                                       NaN   \n",
       "1                                         -   \n",
       "2                                         -   \n",
       "3                                         -   \n",
       "4                                         -   \n",
       "\n",
       "  Contributing Factors. Interpersonal Conflict Contributing Factors. Study  \\\n",
       "0                                          NaN                         NaN   \n",
       "1                                            -                           -   \n",
       "2                                            -                           -   \n",
       "3                                            -                           -   \n",
       "4                                            -                           -   \n",
       "\n",
       "  Contributing Factors. Travel Contributing Factors. Other  \n",
       "0                          NaN                         NaN  \n",
       "1                       Travel                           -  \n",
       "2                            -                           -  \n",
       "3                       Travel                           -  \n",
       "4                            -                           -  "
      ]
     },
     "execution_count": 11,
     "metadata": {},
     "output_type": "execute_result"
    }
   ],
   "source": [
    "tafe_survey.iloc[:, 5:16].head()"
   ]
  },
  {
   "cell_type": "markdown",
   "metadata": {},
   "source": [
    "`Tafe_survey` data set includes 702 rows and 72 columns. There are a number of null values in the dataframe.\n",
    "\n",
    "Key columns which are interesting for us in regard to age and position of employers are:\n",
    "\n",
    " - `Record ID` that is a unique key, similar to numeric index\n",
    " - `Reason for ceasing employment` - to identify main groups and narrow down the search\n",
    " - `LengthofServiceOverall. Overall Length of Service at Institute (in years)` how long did employee work there in total\n",
    " - `LengthofServiceCurrent. Length of Service at current workplace (in years)` how long did employee work at the current role\n",
    " - `Gender. What is your Gender?` and `CurrentAge. Current Age` will help to profile better certain groups of employers\n",
    " - `Classification. Classification` and `Employment Type. Employment Type` also will differentiate full-time and part-time as well junior from senior positions\n",
    " \n",
    "There are a number of columns with strings that were ticked as contributing factors of resignation by employers: from column 5 to column 16.\n",
    "\n",
    "### Rename key columns at TAFE survey\n",
    "\n",
    "Since the names of the columns in `tafe_survey` are too long to adequately work with, I rename them.\n"
   ]
  },
  {
   "cell_type": "code",
   "execution_count": 12,
   "metadata": {},
   "outputs": [],
   "source": [
    "tafe_survey.rename(columns = {'Record ID': 'ID',\n",
    "                              'Reason for ceasing employment': 'Separation Type',\n",
    "    'LengthofServiceOverall. Overall Length of Service at Institute (in years)': 'Years of work_total',\n",
    "                              'LengthofServiceCurrent. Length of Service at current workplace (in years)': 'Years of work_current',\n",
    "                              'CurrentAge. Current Age':'Age',\n",
    "                             'Gender. What is your Gender?': 'Gender',\n",
    "                             'Classification. Classification': 'Position',\n",
    "                             'Employment Type. Employment Type': 'Employment Status'}, inplace=True)"
   ]
  },
  {
   "cell_type": "markdown",
   "metadata": {},
   "source": [
    "My next step is to explore selected columns in `tafe_survey` and see how much null values they include and how do their values vary."
   ]
  },
  {
   "cell_type": "code",
   "execution_count": 13,
   "metadata": {},
   "outputs": [
    {
     "name": "stdout",
     "output_type": "stream",
     "text": [
      "Resignation                 340\n",
      "Contract Expired            127\n",
      "Retrenchment/ Redundancy    104\n",
      "Retirement                   82\n",
      "Transfer                     25\n",
      "Termination                  23\n",
      "Name: Separation Type, dtype: int64\n"
     ]
    }
   ],
   "source": [
    "print(tafe_survey['Separation Type'].value_counts())\n",
    "\n",
    "# create a list with separation types\n",
    "tafe_sep_types = tafe_survey['Separation Type'].value_counts().index.tolist()"
   ]
  },
  {
   "cell_type": "code",
   "execution_count": 14,
   "metadata": {},
   "outputs": [
    {
     "data": {
      "text/plain": [
       "56 or older      162\n",
       "51-55             82\n",
       "41  45            80\n",
       "46  50            59\n",
       "31  35            52\n",
       "36  40            51\n",
       "26  30            50\n",
       "21  25            44\n",
       "20 or younger     16\n",
       "Name: Age, dtype: int64"
      ]
     },
     "execution_count": 14,
     "metadata": {},
     "output_type": "execute_result"
    }
   ],
   "source": [
    "tafe_survey['Age'].value_counts()"
   ]
  },
  {
   "cell_type": "code",
   "execution_count": 15,
   "metadata": {
    "scrolled": true
   },
   "outputs": [
    {
     "name": "stdout",
     "output_type": "stream",
     "text": [
      "Less than 1 year      147\n",
      "1-2                   102\n",
      "3-4                    96\n",
      "11-20                  89\n",
      "More than 20 years     71\n",
      "5-6                    48\n",
      "7-10                   43\n",
      "Name: Years of work_total, dtype: int64\n"
     ]
    }
   ],
   "source": [
    "print(tafe_survey['Years of work_total'].value_counts())\n",
    "\n",
    "# create a list to format same dete_survey column\n",
    "years_total = tafe_survey['Years of work_total'].value_counts().index.tolist()"
   ]
  },
  {
   "cell_type": "code",
   "execution_count": 16,
   "metadata": {},
   "outputs": [],
   "source": [
    "tafe_survey['Years of work_current'].value_counts()\n",
    "\n",
    "# create a list to format same dete_survey column\n",
    "years_current = tafe_survey['Years of work_current'].value_counts().index.tolist()"
   ]
  },
  {
   "cell_type": "markdown",
   "metadata": {},
   "source": [
    "### Next steps for TAFE survey\n",
    "\n",
    "Core columns for my analysis are `Years of work` and `Age`:\n",
    " - formatted as strings, I need to reformat them to numerics will mean loss of information, so I will use them as bins\n",
    " - bins should be consistent with dete_survey to enable work on both datasets\n",
    " \n",
    " Other columns also need some attention:\n",
    " - leave only resignations (`'Separation Type'` is 'Resignation')\n",
    " - deal with NaN values in the columns `Age` and `Gender`\n",
    " - turn all contributing factor columns to booleans and check their consistency with  DETE survey\n",
    " - delete all columns that won't be used in my analysis\n",
    " \n",
    " ## Data cleaning and formatting\n",
    "\n",
    "Surveys have the same structure and contain all the necessary information. I clean both dataframes and merge them into one.\n",
    "At first I delete the columns I will not use in my analysis from both dataframes."
   ]
  },
  {
   "cell_type": "code",
   "execution_count": 17,
   "metadata": {},
   "outputs": [],
   "source": [
    "dete_survey = pd.read_csv('dete_survey.csv', na_values=['Not Stated'])\n",
    "dete_survey.rename(columns = {'SeparationType':'Separation Type'}, inplace=True)"
   ]
  },
  {
   "cell_type": "code",
   "execution_count": 18,
   "metadata": {},
   "outputs": [],
   "source": [
    "# delete columns that won't be used in analysis\n",
    "dete_survey_updated = dete_survey.drop(dete_survey.columns[28:49], axis=1)\n",
    "dete_survey_updated = dete_survey_updated.drop(dete_survey_updated.columns[[5, 7, 8, 10, 11, 30, 31, 32, 33, 34]], axis=1)"
   ]
  },
  {
   "cell_type": "code",
   "execution_count": 19,
   "metadata": {},
   "outputs": [],
   "source": [
    "# delete columns that won't be used in analysis\n",
    "tafe_survey_updated = tafe_survey.drop(tafe_survey.columns[17:66], axis=1)\n",
    "tafe_survey_updated = tafe_survey_updated.drop(tafe_survey_updated.columns[[1, 2, 3, 5, 6, 7]], axis=1)"
   ]
  },
  {
   "cell_type": "markdown",
   "metadata": {},
   "source": [
    "Further step is to rename columns with contributing factors. I make them lowercase separated with `_`."
   ]
  },
  {
   "cell_type": "code",
   "execution_count": 20,
   "metadata": {},
   "outputs": [
    {
     "data": {
      "text/html": [
       "<div>\n",
       "<style scoped>\n",
       "    .dataframe tbody tr th:only-of-type {\n",
       "        vertical-align: middle;\n",
       "    }\n",
       "\n",
       "    .dataframe tbody tr th {\n",
       "        vertical-align: top;\n",
       "    }\n",
       "\n",
       "    .dataframe thead th {\n",
       "        text-align: right;\n",
       "    }\n",
       "</style>\n",
       "<table border=\"1\" class=\"dataframe\">\n",
       "  <thead>\n",
       "    <tr style=\"text-align: right;\">\n",
       "      <th></th>\n",
       "      <th>id</th>\n",
       "      <th>separation_type</th>\n",
       "      <th>cease_date</th>\n",
       "      <th>dete_start_date</th>\n",
       "      <th>role_start_date</th>\n",
       "      <th>classification</th>\n",
       "      <th>employment_status</th>\n",
       "      <th>interpersonal_conflicts</th>\n",
       "      <th>job_dissatisfaction</th>\n",
       "      <th>dissatisfaction_with_the_department</th>\n",
       "      <th>...</th>\n",
       "      <th>maternity/family</th>\n",
       "      <th>relocation</th>\n",
       "      <th>study/travel</th>\n",
       "      <th>ill_health</th>\n",
       "      <th>traumatic_incident</th>\n",
       "      <th>work_life_balance</th>\n",
       "      <th>workload</th>\n",
       "      <th>none_of_the_above</th>\n",
       "      <th>gender</th>\n",
       "      <th>age</th>\n",
       "    </tr>\n",
       "  </thead>\n",
       "  <tbody>\n",
       "    <tr>\n",
       "      <th>0</th>\n",
       "      <td>1</td>\n",
       "      <td>Ill Health Retirement</td>\n",
       "      <td>08/2012</td>\n",
       "      <td>1984.0</td>\n",
       "      <td>2004.0</td>\n",
       "      <td>A01-A04</td>\n",
       "      <td>Permanent Full-time</td>\n",
       "      <td>False</td>\n",
       "      <td>True</td>\n",
       "      <td>False</td>\n",
       "      <td>...</td>\n",
       "      <td>False</td>\n",
       "      <td>False</td>\n",
       "      <td>False</td>\n",
       "      <td>False</td>\n",
       "      <td>False</td>\n",
       "      <td>False</td>\n",
       "      <td>False</td>\n",
       "      <td>True</td>\n",
       "      <td>Male</td>\n",
       "      <td>56-60</td>\n",
       "    </tr>\n",
       "    <tr>\n",
       "      <th>1</th>\n",
       "      <td>2</td>\n",
       "      <td>Voluntary Early Retirement (VER)</td>\n",
       "      <td>08/2012</td>\n",
       "      <td>NaN</td>\n",
       "      <td>NaN</td>\n",
       "      <td>AO5-AO7</td>\n",
       "      <td>Permanent Full-time</td>\n",
       "      <td>False</td>\n",
       "      <td>False</td>\n",
       "      <td>False</td>\n",
       "      <td>...</td>\n",
       "      <td>False</td>\n",
       "      <td>False</td>\n",
       "      <td>False</td>\n",
       "      <td>False</td>\n",
       "      <td>False</td>\n",
       "      <td>False</td>\n",
       "      <td>False</td>\n",
       "      <td>False</td>\n",
       "      <td>Male</td>\n",
       "      <td>56-60</td>\n",
       "    </tr>\n",
       "    <tr>\n",
       "      <th>2</th>\n",
       "      <td>3</td>\n",
       "      <td>Voluntary Early Retirement (VER)</td>\n",
       "      <td>05/2012</td>\n",
       "      <td>2011.0</td>\n",
       "      <td>2011.0</td>\n",
       "      <td>NaN</td>\n",
       "      <td>Permanent Full-time</td>\n",
       "      <td>False</td>\n",
       "      <td>False</td>\n",
       "      <td>False</td>\n",
       "      <td>...</td>\n",
       "      <td>False</td>\n",
       "      <td>False</td>\n",
       "      <td>False</td>\n",
       "      <td>False</td>\n",
       "      <td>False</td>\n",
       "      <td>False</td>\n",
       "      <td>False</td>\n",
       "      <td>True</td>\n",
       "      <td>Male</td>\n",
       "      <td>61 or older</td>\n",
       "    </tr>\n",
       "    <tr>\n",
       "      <th>3</th>\n",
       "      <td>4</td>\n",
       "      <td>Resignation-Other reasons</td>\n",
       "      <td>05/2012</td>\n",
       "      <td>2005.0</td>\n",
       "      <td>2006.0</td>\n",
       "      <td>Primary</td>\n",
       "      <td>Permanent Full-time</td>\n",
       "      <td>False</td>\n",
       "      <td>False</td>\n",
       "      <td>False</td>\n",
       "      <td>...</td>\n",
       "      <td>False</td>\n",
       "      <td>False</td>\n",
       "      <td>False</td>\n",
       "      <td>False</td>\n",
       "      <td>False</td>\n",
       "      <td>False</td>\n",
       "      <td>False</td>\n",
       "      <td>False</td>\n",
       "      <td>Female</td>\n",
       "      <td>36-40</td>\n",
       "    </tr>\n",
       "    <tr>\n",
       "      <th>4</th>\n",
       "      <td>5</td>\n",
       "      <td>Age Retirement</td>\n",
       "      <td>05/2012</td>\n",
       "      <td>1970.0</td>\n",
       "      <td>1989.0</td>\n",
       "      <td>NaN</td>\n",
       "      <td>Permanent Full-time</td>\n",
       "      <td>False</td>\n",
       "      <td>False</td>\n",
       "      <td>False</td>\n",
       "      <td>...</td>\n",
       "      <td>False</td>\n",
       "      <td>False</td>\n",
       "      <td>False</td>\n",
       "      <td>False</td>\n",
       "      <td>False</td>\n",
       "      <td>True</td>\n",
       "      <td>False</td>\n",
       "      <td>False</td>\n",
       "      <td>Female</td>\n",
       "      <td>61 or older</td>\n",
       "    </tr>\n",
       "  </tbody>\n",
       "</table>\n",
       "<p>5 rows × 25 columns</p>\n",
       "</div>"
      ],
      "text/plain": [
       "   id                   separation_type cease_date  dete_start_date  \\\n",
       "0   1             Ill Health Retirement    08/2012           1984.0   \n",
       "1   2  Voluntary Early Retirement (VER)    08/2012              NaN   \n",
       "2   3  Voluntary Early Retirement (VER)    05/2012           2011.0   \n",
       "3   4         Resignation-Other reasons    05/2012           2005.0   \n",
       "4   5                    Age Retirement    05/2012           1970.0   \n",
       "\n",
       "   role_start_date classification    employment_status  \\\n",
       "0           2004.0        A01-A04  Permanent Full-time   \n",
       "1              NaN        AO5-AO7  Permanent Full-time   \n",
       "2           2011.0            NaN  Permanent Full-time   \n",
       "3           2006.0        Primary  Permanent Full-time   \n",
       "4           1989.0            NaN  Permanent Full-time   \n",
       "\n",
       "   interpersonal_conflicts  job_dissatisfaction  \\\n",
       "0                    False                 True   \n",
       "1                    False                False   \n",
       "2                    False                False   \n",
       "3                    False                False   \n",
       "4                    False                False   \n",
       "\n",
       "   dissatisfaction_with_the_department  ...  maternity/family  relocation  \\\n",
       "0                                False  ...             False       False   \n",
       "1                                False  ...             False       False   \n",
       "2                                False  ...             False       False   \n",
       "3                                False  ...             False       False   \n",
       "4                                False  ...             False       False   \n",
       "\n",
       "   study/travel  ill_health  traumatic_incident  work_life_balance  workload  \\\n",
       "0         False       False               False              False     False   \n",
       "1         False       False               False              False     False   \n",
       "2         False       False               False              False     False   \n",
       "3         False       False               False              False     False   \n",
       "4         False       False               False               True     False   \n",
       "\n",
       "   none_of_the_above  gender          age  \n",
       "0               True    Male        56-60  \n",
       "1              False    Male        56-60  \n",
       "2               True    Male  61 or older  \n",
       "3              False  Female        36-40  \n",
       "4              False  Female  61 or older  \n",
       "\n",
       "[5 rows x 25 columns]"
      ]
     },
     "execution_count": 20,
     "metadata": {},
     "output_type": "execute_result"
    }
   ],
   "source": [
    "# rename columns with contributing factors\n",
    "dete_survey_updated.columns = dete_survey_updated.columns.str.strip().str.lower().str.replace('\\s+', '_', regex=True)\n",
    "\n",
    "# check the result\n",
    "dete_survey_updated.head()"
   ]
  },
  {
   "cell_type": "code",
   "execution_count": 21,
   "metadata": {},
   "outputs": [
    {
     "data": {
      "text/html": [
       "<div>\n",
       "<style scoped>\n",
       "    .dataframe tbody tr th:only-of-type {\n",
       "        vertical-align: middle;\n",
       "    }\n",
       "\n",
       "    .dataframe tbody tr th {\n",
       "        vertical-align: top;\n",
       "    }\n",
       "\n",
       "    .dataframe thead th {\n",
       "        text-align: right;\n",
       "    }\n",
       "</style>\n",
       "<table border=\"1\" class=\"dataframe\">\n",
       "  <thead>\n",
       "    <tr style=\"text-align: right;\">\n",
       "      <th></th>\n",
       "      <th>id</th>\n",
       "      <th>separation_type</th>\n",
       "      <th>ill_health</th>\n",
       "      <th>maternity/family</th>\n",
       "      <th>dissatisfaction</th>\n",
       "      <th>job_dissatisfaction</th>\n",
       "      <th>interpersonal_conflict</th>\n",
       "      <th>study</th>\n",
       "      <th>travel</th>\n",
       "      <th>other</th>\n",
       "      <th>none</th>\n",
       "      <th>gender</th>\n",
       "      <th>age</th>\n",
       "      <th>employment_status</th>\n",
       "      <th>position</th>\n",
       "      <th>years_of_work_total</th>\n",
       "      <th>years_of_work_current</th>\n",
       "    </tr>\n",
       "  </thead>\n",
       "  <tbody>\n",
       "    <tr>\n",
       "      <th>0</th>\n",
       "      <td>6.341330e+17</td>\n",
       "      <td>Contract Expired</td>\n",
       "      <td>NaN</td>\n",
       "      <td>NaN</td>\n",
       "      <td>NaN</td>\n",
       "      <td>NaN</td>\n",
       "      <td>NaN</td>\n",
       "      <td>NaN</td>\n",
       "      <td>NaN</td>\n",
       "      <td>NaN</td>\n",
       "      <td>NaN</td>\n",
       "      <td>Female</td>\n",
       "      <td>26  30</td>\n",
       "      <td>Temporary Full-time</td>\n",
       "      <td>Administration (AO)</td>\n",
       "      <td>1-2</td>\n",
       "      <td>1-2</td>\n",
       "    </tr>\n",
       "    <tr>\n",
       "      <th>1</th>\n",
       "      <td>6.341337e+17</td>\n",
       "      <td>Retirement</td>\n",
       "      <td>-</td>\n",
       "      <td>-</td>\n",
       "      <td>-</td>\n",
       "      <td>-</td>\n",
       "      <td>-</td>\n",
       "      <td>-</td>\n",
       "      <td>Travel</td>\n",
       "      <td>-</td>\n",
       "      <td>-</td>\n",
       "      <td>NaN</td>\n",
       "      <td>NaN</td>\n",
       "      <td>NaN</td>\n",
       "      <td>NaN</td>\n",
       "      <td>NaN</td>\n",
       "      <td>NaN</td>\n",
       "    </tr>\n",
       "    <tr>\n",
       "      <th>2</th>\n",
       "      <td>6.341388e+17</td>\n",
       "      <td>Retirement</td>\n",
       "      <td>-</td>\n",
       "      <td>-</td>\n",
       "      <td>-</td>\n",
       "      <td>-</td>\n",
       "      <td>-</td>\n",
       "      <td>-</td>\n",
       "      <td>-</td>\n",
       "      <td>-</td>\n",
       "      <td>NONE</td>\n",
       "      <td>NaN</td>\n",
       "      <td>NaN</td>\n",
       "      <td>NaN</td>\n",
       "      <td>NaN</td>\n",
       "      <td>NaN</td>\n",
       "      <td>NaN</td>\n",
       "    </tr>\n",
       "    <tr>\n",
       "      <th>3</th>\n",
       "      <td>6.341399e+17</td>\n",
       "      <td>Resignation</td>\n",
       "      <td>-</td>\n",
       "      <td>-</td>\n",
       "      <td>-</td>\n",
       "      <td>-</td>\n",
       "      <td>-</td>\n",
       "      <td>-</td>\n",
       "      <td>Travel</td>\n",
       "      <td>-</td>\n",
       "      <td>-</td>\n",
       "      <td>NaN</td>\n",
       "      <td>NaN</td>\n",
       "      <td>NaN</td>\n",
       "      <td>NaN</td>\n",
       "      <td>NaN</td>\n",
       "      <td>NaN</td>\n",
       "    </tr>\n",
       "    <tr>\n",
       "      <th>4</th>\n",
       "      <td>6.341466e+17</td>\n",
       "      <td>Resignation</td>\n",
       "      <td>-</td>\n",
       "      <td>-</td>\n",
       "      <td>-</td>\n",
       "      <td>-</td>\n",
       "      <td>-</td>\n",
       "      <td>-</td>\n",
       "      <td>-</td>\n",
       "      <td>-</td>\n",
       "      <td>-</td>\n",
       "      <td>Male</td>\n",
       "      <td>41  45</td>\n",
       "      <td>Permanent Full-time</td>\n",
       "      <td>Teacher (including LVT)</td>\n",
       "      <td>3-4</td>\n",
       "      <td>3-4</td>\n",
       "    </tr>\n",
       "  </tbody>\n",
       "</table>\n",
       "</div>"
      ],
      "text/plain": [
       "             id   separation_type ill_health maternity/family dissatisfaction  \\\n",
       "0  6.341330e+17  Contract Expired        NaN              NaN             NaN   \n",
       "1  6.341337e+17        Retirement          -                -               -   \n",
       "2  6.341388e+17        Retirement          -                -               -   \n",
       "3  6.341399e+17       Resignation          -                -               -   \n",
       "4  6.341466e+17       Resignation          -                -               -   \n",
       "\n",
       "  job_dissatisfaction interpersonal_conflict study  travel other  none  \\\n",
       "0                 NaN                    NaN   NaN     NaN   NaN   NaN   \n",
       "1                   -                      -     -  Travel     -     -   \n",
       "2                   -                      -     -       -     -  NONE   \n",
       "3                   -                      -     -  Travel     -     -   \n",
       "4                   -                      -     -       -     -     -   \n",
       "\n",
       "   gender     age    employment_status                 position  \\\n",
       "0  Female  26  30  Temporary Full-time      Administration (AO)   \n",
       "1     NaN     NaN                  NaN                      NaN   \n",
       "2     NaN     NaN                  NaN                      NaN   \n",
       "3     NaN     NaN                  NaN                      NaN   \n",
       "4    Male  41  45  Permanent Full-time  Teacher (including LVT)   \n",
       "\n",
       "  years_of_work_total years_of_work_current  \n",
       "0                 1-2                   1-2  \n",
       "1                 NaN                   NaN  \n",
       "2                 NaN                   NaN  \n",
       "3                 NaN                   NaN  \n",
       "4                 3-4                   3-4  "
      ]
     },
     "execution_count": 21,
     "metadata": {},
     "output_type": "execute_result"
    }
   ],
   "source": [
    "tafe_survey_updated.columns = tafe_survey_updated.columns.str.replace(\n",
    "                                                                      'Contributing Factors. ', '', regex=False\n",
    "                                                                      ).str.lower().str.replace(\n",
    "                                                                                                '\\s+', '_', regex=True\n",
    "                                                                                                ).str.strip()\n",
    "\n",
    "# check the result\n",
    "tafe_survey_updated.head()"
   ]
  },
  {
   "cell_type": "markdown",
   "metadata": {},
   "source": [
    "I'm only interested in employees who **resigned** so I leave only row with according `separation_type`."
   ]
  },
  {
   "cell_type": "code",
   "execution_count": 22,
   "metadata": {},
   "outputs": [
    {
     "name": "stdout",
     "output_type": "stream",
     "text": [
      "['Age Retirement', 'Resignation-Other reasons', 'Resignation-Other employer', 'Resignation-Move overseas/interstate', 'Voluntary Early Retirement (VER)', 'Ill Health Retirement', 'Other', 'Contract Expired', 'Termination']\n"
     ]
    }
   ],
   "source": [
    "# create dataframe with only resignations from dete_survey_updated\n",
    "print(dete_sep_types)\n",
    "\n",
    "dete_resigned = dete_survey_updated[dete_survey_updated['separation_type'].isin(dete_sep_types[1:4])].copy()"
   ]
  },
  {
   "cell_type": "code",
   "execution_count": 23,
   "metadata": {},
   "outputs": [
    {
     "name": "stdout",
     "output_type": "stream",
     "text": [
      "['Resignation', 'Contract Expired', 'Retrenchment/ Redundancy', 'Retirement', 'Transfer', 'Termination']\n"
     ]
    }
   ],
   "source": [
    "# create dataframe with only resignations from tafe_survey_updated\n",
    "print(tafe_sep_types)\n",
    "\n",
    "tafe_resigned = tafe_survey_updated[tafe_survey_updated['separation_type'] == tafe_sep_types[0]].copy()"
   ]
  },
  {
   "cell_type": "markdown",
   "metadata": {},
   "source": [
    "### Delete null values in DETE survey"
   ]
  },
  {
   "cell_type": "code",
   "execution_count": 24,
   "metadata": {},
   "outputs": [
    {
     "name": "stdout",
     "output_type": "stream",
     "text": [
      "(311, 25)\n"
     ]
    },
    {
     "data": {
      "text/plain": [
       "id                                       0\n",
       "separation_type                          0\n",
       "cease_date                              11\n",
       "dete_start_date                         28\n",
       "role_start_date                         40\n",
       "classification                         150\n",
       "employment_status                        4\n",
       "interpersonal_conflicts                  0\n",
       "job_dissatisfaction                      0\n",
       "dissatisfaction_with_the_department      0\n",
       "physical_work_environment                0\n",
       "lack_of_recognition                      0\n",
       "lack_of_job_security                     0\n",
       "work_location                            0\n",
       "employment_conditions                    0\n",
       "maternity/family                         0\n",
       "relocation                               0\n",
       "study/travel                             0\n",
       "ill_health                               0\n",
       "traumatic_incident                       0\n",
       "work_life_balance                        0\n",
       "workload                                 0\n",
       "none_of_the_above                        0\n",
       "gender                                   9\n",
       "age                                      5\n",
       "dtype: int64"
      ]
     },
     "execution_count": 24,
     "metadata": {},
     "output_type": "execute_result"
    }
   ],
   "source": [
    "print(dete_resigned.shape)\n",
    "\n",
    "# how much null values in dataframe\n",
    "dete_resigned.isnull().sum()"
   ]
  },
  {
   "cell_type": "markdown",
   "metadata": {},
   "source": [
    "There are null values in the columns that are important to calculate how long employees worked at the institutes. \n",
    "In one case they are more than 10% of the total rows (in `role_start_date`). But for them there is no way to refill or insert mean values. I delete rows with null values in `dete_start_date`, `cease_date` and `role_start_date`."
   ]
  },
  {
   "cell_type": "code",
   "execution_count": 25,
   "metadata": {},
   "outputs": [],
   "source": [
    "# delete null values\n",
    "dete_resigned = dete_resigned.dropna(subset=['dete_start_date', 'cease_date', 'role_start_date'])"
   ]
  },
  {
   "cell_type": "code",
   "execution_count": 26,
   "metadata": {},
   "outputs": [
    {
     "data": {
      "text/plain": [
       "dtype('float64')"
      ]
     },
     "execution_count": 26,
     "metadata": {},
     "output_type": "execute_result"
    }
   ],
   "source": [
    "# drop row with incorrect data\n",
    "dete_resigned = dete_resigned[dete_resigned['role_start_date'] != 200]\n",
    "dete_resigned['role_start_date'].dtypes"
   ]
  },
  {
   "cell_type": "markdown",
   "metadata": {},
   "source": [
    "### Format and aggregate columns to find years of work in DETE survey\n",
    "\n",
    "Further I leave only years in the `cease_date` column and format all 3 columns to numeric to make calculations.\n",
    "The result I store in new columns `years_of_work_total` and `years_of_work_current`."
   ]
  },
  {
   "cell_type": "code",
   "execution_count": 27,
   "metadata": {},
   "outputs": [],
   "source": [
    "# split and extract year in the column'Cease Date'\n",
    "dete_resigned['cease_date'] = dete_resigned['cease_date'].str.split('/').str.get(-1)"
   ]
  },
  {
   "cell_type": "code",
   "execution_count": 28,
   "metadata": {},
   "outputs": [
    {
     "data": {
      "text/plain": [
       "2013    124\n",
       "2012    113\n",
       "2014     22\n",
       "2010      2\n",
       "2006      1\n",
       "Name: cease_date, dtype: int64"
      ]
     },
     "execution_count": 28,
     "metadata": {},
     "output_type": "execute_result"
    }
   ],
   "source": [
    "# delete missing values in the column'Cease Date'\n",
    "dete_resigned['cease_date'].value_counts(dropna=False)"
   ]
  },
  {
   "cell_type": "code",
   "execution_count": 29,
   "metadata": {},
   "outputs": [],
   "source": [
    "# convert cease_date to integer\n",
    "dete_resigned['cease_date'] = dete_resigned['cease_date'].astype('int32')"
   ]
  },
  {
   "cell_type": "code",
   "execution_count": 30,
   "metadata": {},
   "outputs": [],
   "source": [
    "# convert dete_start_date to integer\n",
    "dete_resigned['dete_start_date'] = dete_resigned['dete_start_date'].astype('int32')"
   ]
  },
  {
   "cell_type": "code",
   "execution_count": 73,
   "metadata": {},
   "outputs": [
    {
     "data": {
      "text/plain": [
       "Text(0.5, 0, 'Years')"
      ]
     },
     "execution_count": 73,
     "metadata": {},
     "output_type": "execute_result"
    },
    {
     "data": {
      "image/png": "[encoded data removed]",
      "text/plain": [
       "<Figure size 432x288 with 1 Axes>"
      ]
     },
     "metadata": {},
     "output_type": "display_data"
    }
   ],
   "source": [
    "# create new column with calculation\n",
    "dete_resigned['years_of_work_total'] = dete_resigned['cease_date'] - dete_resigned['dete_start_date']\n",
    "\n",
    "# create a plot to check result\n",
    "dete_resigned['years_of_work_total'].hist(bins=7)\n",
    "plt.title('Years of work in total',fontsize=14)\n",
    "plt.ylabel('Number of employees', fontsize=14)\n",
    "plt.xlabel('Years', fontsize=14)"
   ]
  },
  {
   "cell_type": "code",
   "execution_count": 72,
   "metadata": {},
   "outputs": [
    {
     "data": {
      "text/plain": [
       "Text(0.5, 0, 'Years')"
      ]
     },
     "execution_count": 72,
     "metadata": {},
     "output_type": "execute_result"
    },
    {
     "data": {
      "image/png": "[encoded data removed]",
      "text/plain": [
       "<Figure size 432x288 with 1 Axes>"
      ]
     },
     "metadata": {},
     "output_type": "display_data"
    }
   ],
   "source": [
    "# create column with calculation\n",
    "dete_resigned['years_of_work_current'] = dete_resigned['cease_date'] - dete_resigned['role_start_date']\n",
    "\n",
    "# create a plot to check results\n",
    "dete_resigned['years_of_work_current'].hist(bins=7)\n",
    "plt.title('Years of work at current position', fontsize=14)\n",
    "plt.ylabel('Number of employees', fontsize=14)\n",
    "plt.xlabel('Years', fontsize=14)"
   ]
  },
  {
   "cell_type": "markdown",
   "metadata": {},
   "source": [
    "For consistency I format data in `dete_survey` in the bins following the pattern from `tafe_survey` (cells 15 and 16)."
   ]
  },
  {
   "cell_type": "code",
   "execution_count": 33,
   "metadata": {},
   "outputs": [],
   "source": [
    "# set the pattern\n",
    "cut_labels = years_total\n",
    "cut_bins = [0, 1, 2, 4, 6, 10, 20, 50]\n",
    "\n",
    "# cut the data\n",
    "dete_resigned['years_of_work_total'] = pd.cut(dete_resigned['years_of_work_total'], bins=cut_bins, labels=cut_labels)"
   ]
  },
  {
   "cell_type": "code",
   "execution_count": 34,
   "metadata": {},
   "outputs": [
    {
     "data": {
      "text/plain": [
       "5-6                   52\n",
       "7-10                  41\n",
       "More than 20 years    39\n",
       "11-20                 38\n",
       "3-4                   36\n",
       "Less than 1 year      22\n",
       "1-2                   14\n",
       "Name: years_of_work_total, dtype: int64"
      ]
     },
     "execution_count": 34,
     "metadata": {},
     "output_type": "execute_result"
    }
   ],
   "source": [
    "# check result\n",
    "dete_resigned['years_of_work_total'].value_counts()"
   ]
  },
  {
   "cell_type": "code",
   "execution_count": 35,
   "metadata": {},
   "outputs": [],
   "source": [
    "# set the pattern\n",
    "cut_labels = years_current\n",
    "cut_bins = [0, 1, 2, 4, 6, 10, 20, 50]\n",
    "\n",
    "# cut the data\n",
    "dete_resigned['years_of_work_current'] = pd.cut(dete_resigned['years_of_work_current'], bins=cut_bins, labels=cut_labels)"
   ]
  },
  {
   "cell_type": "code",
   "execution_count": 36,
   "metadata": {},
   "outputs": [
    {
     "data": {
      "text/plain": [
       "3-4                   45\n",
       "Less than 1 year      38\n",
       "11-20                 35\n",
       "7-10                  33\n",
       "More than 20 years    31\n",
       "1-2                   27\n",
       "5-6                   18\n",
       "Name: years_of_work_current, dtype: int64"
      ]
     },
     "execution_count": 36,
     "metadata": {},
     "output_type": "execute_result"
    }
   ],
   "source": [
    "# check result\n",
    "dete_resigned['years_of_work_current'].value_counts()"
   ]
  },
  {
   "cell_type": "code",
   "execution_count": 37,
   "metadata": {},
   "outputs": [
    {
     "data": {
      "text/html": [
       "<div>\n",
       "<style scoped>\n",
       "    .dataframe tbody tr th:only-of-type {\n",
       "        vertical-align: middle;\n",
       "    }\n",
       "\n",
       "    .dataframe tbody tr th {\n",
       "        vertical-align: top;\n",
       "    }\n",
       "\n",
       "    .dataframe thead th {\n",
       "        text-align: right;\n",
       "    }\n",
       "</style>\n",
       "<table border=\"1\" class=\"dataframe\">\n",
       "  <thead>\n",
       "    <tr style=\"text-align: right;\">\n",
       "      <th></th>\n",
       "      <th>id</th>\n",
       "      <th>separation_type</th>\n",
       "      <th>classification</th>\n",
       "      <th>employment_status</th>\n",
       "      <th>interpersonal_conflicts</th>\n",
       "      <th>job_dissatisfaction</th>\n",
       "      <th>dissatisfaction_with_the_department</th>\n",
       "      <th>physical_work_environment</th>\n",
       "      <th>lack_of_recognition</th>\n",
       "      <th>lack_of_job_security</th>\n",
       "      <th>...</th>\n",
       "      <th>study/travel</th>\n",
       "      <th>ill_health</th>\n",
       "      <th>traumatic_incident</th>\n",
       "      <th>work_life_balance</th>\n",
       "      <th>workload</th>\n",
       "      <th>none_of_the_above</th>\n",
       "      <th>gender</th>\n",
       "      <th>age</th>\n",
       "      <th>years_of_work_total</th>\n",
       "      <th>years_of_work_current</th>\n",
       "    </tr>\n",
       "  </thead>\n",
       "  <tbody>\n",
       "    <tr>\n",
       "      <th>3</th>\n",
       "      <td>4</td>\n",
       "      <td>Resignation-Other reasons</td>\n",
       "      <td>Primary</td>\n",
       "      <td>Permanent Full-time</td>\n",
       "      <td>False</td>\n",
       "      <td>False</td>\n",
       "      <td>False</td>\n",
       "      <td>False</td>\n",
       "      <td>False</td>\n",
       "      <td>False</td>\n",
       "      <td>...</td>\n",
       "      <td>False</td>\n",
       "      <td>False</td>\n",
       "      <td>False</td>\n",
       "      <td>False</td>\n",
       "      <td>False</td>\n",
       "      <td>False</td>\n",
       "      <td>Female</td>\n",
       "      <td>36-40</td>\n",
       "      <td>More than 20 years</td>\n",
       "      <td>11-20</td>\n",
       "    </tr>\n",
       "    <tr>\n",
       "      <th>5</th>\n",
       "      <td>6</td>\n",
       "      <td>Resignation-Other reasons</td>\n",
       "      <td>NaN</td>\n",
       "      <td>Permanent Full-time</td>\n",
       "      <td>False</td>\n",
       "      <td>False</td>\n",
       "      <td>False</td>\n",
       "      <td>False</td>\n",
       "      <td>False</td>\n",
       "      <td>False</td>\n",
       "      <td>...</td>\n",
       "      <td>False</td>\n",
       "      <td>False</td>\n",
       "      <td>False</td>\n",
       "      <td>False</td>\n",
       "      <td>False</td>\n",
       "      <td>False</td>\n",
       "      <td>Female</td>\n",
       "      <td>41-45</td>\n",
       "      <td>5-6</td>\n",
       "      <td>7-10</td>\n",
       "    </tr>\n",
       "    <tr>\n",
       "      <th>8</th>\n",
       "      <td>9</td>\n",
       "      <td>Resignation-Other reasons</td>\n",
       "      <td>Secondary</td>\n",
       "      <td>Permanent Full-time</td>\n",
       "      <td>False</td>\n",
       "      <td>False</td>\n",
       "      <td>False</td>\n",
       "      <td>False</td>\n",
       "      <td>False</td>\n",
       "      <td>False</td>\n",
       "      <td>...</td>\n",
       "      <td>False</td>\n",
       "      <td>False</td>\n",
       "      <td>False</td>\n",
       "      <td>False</td>\n",
       "      <td>False</td>\n",
       "      <td>False</td>\n",
       "      <td>Female</td>\n",
       "      <td>31-35</td>\n",
       "      <td>3-4</td>\n",
       "      <td>3-4</td>\n",
       "    </tr>\n",
       "    <tr>\n",
       "      <th>9</th>\n",
       "      <td>10</td>\n",
       "      <td>Resignation-Other employer</td>\n",
       "      <td>NaN</td>\n",
       "      <td>Permanent Part-time</td>\n",
       "      <td>True</td>\n",
       "      <td>True</td>\n",
       "      <td>True</td>\n",
       "      <td>False</td>\n",
       "      <td>False</td>\n",
       "      <td>False</td>\n",
       "      <td>...</td>\n",
       "      <td>False</td>\n",
       "      <td>False</td>\n",
       "      <td>False</td>\n",
       "      <td>False</td>\n",
       "      <td>False</td>\n",
       "      <td>False</td>\n",
       "      <td>Female</td>\n",
       "      <td>46-50</td>\n",
       "      <td>5-6</td>\n",
       "      <td>3-4</td>\n",
       "    </tr>\n",
       "    <tr>\n",
       "      <th>11</th>\n",
       "      <td>12</td>\n",
       "      <td>Resignation-Move overseas/interstate</td>\n",
       "      <td>Secondary</td>\n",
       "      <td>Permanent Full-time</td>\n",
       "      <td>False</td>\n",
       "      <td>False</td>\n",
       "      <td>False</td>\n",
       "      <td>False</td>\n",
       "      <td>False</td>\n",
       "      <td>False</td>\n",
       "      <td>...</td>\n",
       "      <td>False</td>\n",
       "      <td>False</td>\n",
       "      <td>False</td>\n",
       "      <td>False</td>\n",
       "      <td>False</td>\n",
       "      <td>False</td>\n",
       "      <td>Male</td>\n",
       "      <td>31-35</td>\n",
       "      <td>3-4</td>\n",
       "      <td>3-4</td>\n",
       "    </tr>\n",
       "    <tr>\n",
       "      <th>...</th>\n",
       "      <td>...</td>\n",
       "      <td>...</td>\n",
       "      <td>...</td>\n",
       "      <td>...</td>\n",
       "      <td>...</td>\n",
       "      <td>...</td>\n",
       "      <td>...</td>\n",
       "      <td>...</td>\n",
       "      <td>...</td>\n",
       "      <td>...</td>\n",
       "      <td>...</td>\n",
       "      <td>...</td>\n",
       "      <td>...</td>\n",
       "      <td>...</td>\n",
       "      <td>...</td>\n",
       "      <td>...</td>\n",
       "      <td>...</td>\n",
       "      <td>...</td>\n",
       "      <td>...</td>\n",
       "      <td>...</td>\n",
       "      <td>...</td>\n",
       "    </tr>\n",
       "    <tr>\n",
       "      <th>807</th>\n",
       "      <td>809</td>\n",
       "      <td>Resignation-Other reasons</td>\n",
       "      <td>Primary</td>\n",
       "      <td>Permanent Full-time</td>\n",
       "      <td>False</td>\n",
       "      <td>False</td>\n",
       "      <td>True</td>\n",
       "      <td>False</td>\n",
       "      <td>False</td>\n",
       "      <td>False</td>\n",
       "      <td>...</td>\n",
       "      <td>False</td>\n",
       "      <td>False</td>\n",
       "      <td>False</td>\n",
       "      <td>True</td>\n",
       "      <td>False</td>\n",
       "      <td>False</td>\n",
       "      <td>Female</td>\n",
       "      <td>36-40</td>\n",
       "      <td>More than 20 years</td>\n",
       "      <td>More than 20 years</td>\n",
       "    </tr>\n",
       "    <tr>\n",
       "      <th>808</th>\n",
       "      <td>810</td>\n",
       "      <td>Resignation-Other reasons</td>\n",
       "      <td>NaN</td>\n",
       "      <td>Permanent Part-time</td>\n",
       "      <td>False</td>\n",
       "      <td>False</td>\n",
       "      <td>False</td>\n",
       "      <td>False</td>\n",
       "      <td>False</td>\n",
       "      <td>False</td>\n",
       "      <td>...</td>\n",
       "      <td>False</td>\n",
       "      <td>False</td>\n",
       "      <td>False</td>\n",
       "      <td>False</td>\n",
       "      <td>False</td>\n",
       "      <td>False</td>\n",
       "      <td>Female</td>\n",
       "      <td>26-30</td>\n",
       "      <td>3-4</td>\n",
       "      <td>3-4</td>\n",
       "    </tr>\n",
       "    <tr>\n",
       "      <th>815</th>\n",
       "      <td>817</td>\n",
       "      <td>Resignation-Other employer</td>\n",
       "      <td>Primary</td>\n",
       "      <td>Permanent Full-time</td>\n",
       "      <td>False</td>\n",
       "      <td>False</td>\n",
       "      <td>False</td>\n",
       "      <td>False</td>\n",
       "      <td>False</td>\n",
       "      <td>False</td>\n",
       "      <td>...</td>\n",
       "      <td>False</td>\n",
       "      <td>False</td>\n",
       "      <td>False</td>\n",
       "      <td>False</td>\n",
       "      <td>False</td>\n",
       "      <td>False</td>\n",
       "      <td>Male</td>\n",
       "      <td>21-25</td>\n",
       "      <td>1-2</td>\n",
       "      <td>1-2</td>\n",
       "    </tr>\n",
       "    <tr>\n",
       "      <th>816</th>\n",
       "      <td>818</td>\n",
       "      <td>Resignation-Move overseas/interstate</td>\n",
       "      <td>Secondary</td>\n",
       "      <td>Permanent Full-time</td>\n",
       "      <td>False</td>\n",
       "      <td>False</td>\n",
       "      <td>False</td>\n",
       "      <td>False</td>\n",
       "      <td>False</td>\n",
       "      <td>False</td>\n",
       "      <td>...</td>\n",
       "      <td>True</td>\n",
       "      <td>False</td>\n",
       "      <td>False</td>\n",
       "      <td>False</td>\n",
       "      <td>False</td>\n",
       "      <td>False</td>\n",
       "      <td>Female</td>\n",
       "      <td>21-25</td>\n",
       "      <td>1-2</td>\n",
       "      <td>1-2</td>\n",
       "    </tr>\n",
       "    <tr>\n",
       "      <th>819</th>\n",
       "      <td>821</td>\n",
       "      <td>Resignation-Move overseas/interstate</td>\n",
       "      <td>A01-A04</td>\n",
       "      <td>Permanent Full-time</td>\n",
       "      <td>False</td>\n",
       "      <td>False</td>\n",
       "      <td>False</td>\n",
       "      <td>False</td>\n",
       "      <td>False</td>\n",
       "      <td>False</td>\n",
       "      <td>...</td>\n",
       "      <td>False</td>\n",
       "      <td>False</td>\n",
       "      <td>False</td>\n",
       "      <td>True</td>\n",
       "      <td>False</td>\n",
       "      <td>False</td>\n",
       "      <td>Female</td>\n",
       "      <td>31-35</td>\n",
       "      <td>11-20</td>\n",
       "      <td>11-20</td>\n",
       "    </tr>\n",
       "  </tbody>\n",
       "</table>\n",
       "<p>262 rows × 24 columns</p>\n",
       "</div>"
      ],
      "text/plain": [
       "      id                       separation_type classification  \\\n",
       "3      4             Resignation-Other reasons        Primary   \n",
       "5      6             Resignation-Other reasons            NaN   \n",
       "8      9             Resignation-Other reasons      Secondary   \n",
       "9     10            Resignation-Other employer            NaN   \n",
       "11    12  Resignation-Move overseas/interstate      Secondary   \n",
       "..   ...                                   ...            ...   \n",
       "807  809             Resignation-Other reasons        Primary   \n",
       "808  810             Resignation-Other reasons            NaN   \n",
       "815  817            Resignation-Other employer        Primary   \n",
       "816  818  Resignation-Move overseas/interstate      Secondary   \n",
       "819  821  Resignation-Move overseas/interstate        A01-A04   \n",
       "\n",
       "       employment_status  interpersonal_conflicts  job_dissatisfaction  \\\n",
       "3    Permanent Full-time                    False                False   \n",
       "5    Permanent Full-time                    False                False   \n",
       "8    Permanent Full-time                    False                False   \n",
       "9    Permanent Part-time                     True                 True   \n",
       "11   Permanent Full-time                    False                False   \n",
       "..                   ...                      ...                  ...   \n",
       "807  Permanent Full-time                    False                False   \n",
       "808  Permanent Part-time                    False                False   \n",
       "815  Permanent Full-time                    False                False   \n",
       "816  Permanent Full-time                    False                False   \n",
       "819  Permanent Full-time                    False                False   \n",
       "\n",
       "     dissatisfaction_with_the_department  physical_work_environment  \\\n",
       "3                                  False                      False   \n",
       "5                                  False                      False   \n",
       "8                                  False                      False   \n",
       "9                                   True                      False   \n",
       "11                                 False                      False   \n",
       "..                                   ...                        ...   \n",
       "807                                 True                      False   \n",
       "808                                False                      False   \n",
       "815                                False                      False   \n",
       "816                                False                      False   \n",
       "819                                False                      False   \n",
       "\n",
       "     lack_of_recognition  lack_of_job_security  ...  study/travel  ill_health  \\\n",
       "3                  False                 False  ...         False       False   \n",
       "5                  False                 False  ...         False       False   \n",
       "8                  False                 False  ...         False       False   \n",
       "9                  False                 False  ...         False       False   \n",
       "11                 False                 False  ...         False       False   \n",
       "..                   ...                   ...  ...           ...         ...   \n",
       "807                False                 False  ...         False       False   \n",
       "808                False                 False  ...         False       False   \n",
       "815                False                 False  ...         False       False   \n",
       "816                False                 False  ...          True       False   \n",
       "819                False                 False  ...         False       False   \n",
       "\n",
       "     traumatic_incident  work_life_balance  workload  none_of_the_above  \\\n",
       "3                 False              False     False              False   \n",
       "5                 False              False     False              False   \n",
       "8                 False              False     False              False   \n",
       "9                 False              False     False              False   \n",
       "11                False              False     False              False   \n",
       "..                  ...                ...       ...                ...   \n",
       "807               False               True     False              False   \n",
       "808               False              False     False              False   \n",
       "815               False              False     False              False   \n",
       "816               False              False     False              False   \n",
       "819               False               True     False              False   \n",
       "\n",
       "     gender    age  years_of_work_total  years_of_work_current  \n",
       "3    Female  36-40   More than 20 years                  11-20  \n",
       "5    Female  41-45                  5-6                   7-10  \n",
       "8    Female  31-35                  3-4                    3-4  \n",
       "9    Female  46-50                  5-6                    3-4  \n",
       "11     Male  31-35                  3-4                    3-4  \n",
       "..      ...    ...                  ...                    ...  \n",
       "807  Female  36-40   More than 20 years     More than 20 years  \n",
       "808  Female  26-30                  3-4                    3-4  \n",
       "815    Male  21-25                  1-2                    1-2  \n",
       "816  Female  21-25                  1-2                    1-2  \n",
       "819  Female  31-35                11-20                  11-20  \n",
       "\n",
       "[262 rows x 24 columns]"
      ]
     },
     "execution_count": 37,
     "metadata": {},
     "output_type": "execute_result"
    }
   ],
   "source": [
    "# delete columns with initial data\n",
    "dete_resigned.drop(['cease_date', 'dete_start_date', 'role_start_date'], axis=1)"
   ]
  },
  {
   "cell_type": "markdown",
   "metadata": {},
   "source": [
    "### Format contributing factor columns to booleans in TAFE survey\n",
    "\n",
    "To find out more about employees that were dissatisfied with I choose 3 contributing factors from `tafe_resigned`:\n",
    " - `dissatisfaction`\n",
    " - `job_dissatisfaction`\n",
    " - `interpersonal_conflict`.\n",
    " \n",
    " \n",
    "I convert the data in these columns to boolean format. Then I create a new aggregated column `dissatisfied`.\n",
    "If any column in `tafe_resigned` (the columns named above) has *True* value - the row in a new column will be *True* also. If all values are *False*, then resignation was not caused by dissatisfaction and it gets the value *False*. NaN values will remain unchanged."
   ]
  },
  {
   "cell_type": "code",
   "execution_count": 38,
   "metadata": {},
   "outputs": [],
   "source": [
    "# create function\n",
    "def bool_vals(row):\n",
    "    if pd.isnull(row):\n",
    "        return np.nan  # format to NaN values\n",
    "    elif row == '-':\n",
    "        return False\n",
    "    else:\n",
    "        return True"
   ]
  },
  {
   "cell_type": "code",
   "execution_count": 39,
   "metadata": {},
   "outputs": [],
   "source": [
    "angry_cols = ['dissatisfaction', 'job_dissatisfaction']\n",
    "\n",
    "# apply function to all 3 columns\n",
    "for col in angry_cols:\n",
    "    tafe_resigned[col] = tafe_resigned[col].apply(bool_vals)"
   ]
  },
  {
   "cell_type": "code",
   "execution_count": 40,
   "metadata": {},
   "outputs": [
    {
     "data": {
      "text/plain": [
       "False    241\n",
       "True      91\n",
       "NaN        8\n",
       "Name: dissatisfied, dtype: int64"
      ]
     },
     "execution_count": 40,
     "metadata": {},
     "output_type": "execute_result"
    }
   ],
   "source": [
    "# new aggregating column\n",
    "tafe_resigned['dissatisfied'] = tafe_resigned[angry_cols].any(axis='columns', skipna=False)\n",
    "\n",
    "# check result\n",
    "tafe_resigned['dissatisfied'].value_counts(dropna=False)"
   ]
  },
  {
   "cell_type": "markdown",
   "metadata": {},
   "source": [
    "There are 8 null values, I suppose that they can be treated like `False`."
   ]
  },
  {
   "cell_type": "code",
   "execution_count": 41,
   "metadata": {},
   "outputs": [],
   "source": [
    "tafe_resigned['dissatisfied'].fillna(False, inplace=True)"
   ]
  },
  {
   "cell_type": "markdown",
   "metadata": {},
   "source": [
    "In DETE survey there are three columns for dissatisfaction:\n",
    " - `interpersonal_conflicts`\n",
    " - `job_dissatisfaction`\n",
    " - `dissatisfaction_with_the_department.`\n",
    " \n",
    "They are already formatted in boolean values. I create a column `dissatisfied` to join results from them."
   ]
  },
  {
   "cell_type": "code",
   "execution_count": 42,
   "metadata": {},
   "outputs": [
    {
     "data": {
      "text/plain": [
       "False    209\n",
       "True      53\n",
       "Name: dissatisfied, dtype: int64"
      ]
     },
     "execution_count": 42,
     "metadata": {},
     "output_type": "execute_result"
    }
   ],
   "source": [
    "angry_cols = ['job_dissatisfaction', 'dissatisfaction_with_the_department']\n",
    "\n",
    "# new aggregated column\n",
    "dete_resigned['dissatisfied'] = dete_resigned[angry_cols].any(axis='columns', skipna=False)\n",
    "\n",
    "# check result\n",
    "dete_resigned['dissatisfied'].value_counts(dropna=False)"
   ]
  },
  {
   "cell_type": "markdown",
   "metadata": {},
   "source": [
    "### Prepare and merge dataframes\n",
    "\n",
    "To preserve the information about the institute from which the survey originated I will create a new column `institute`. \n",
    "Then I concatenate dataframes and drop all the columns that include more than 500 NaN values since they will not be used in my analysis."
   ]
  },
  {
   "cell_type": "code",
   "execution_count": 43,
   "metadata": {},
   "outputs": [],
   "source": [
    "# make copies to avoid SettingWithCopy Warning\n",
    "tafe_resigned_copy = tafe_resigned.copy()\n",
    "dete_resigned_copy = dete_resigned.copy()"
   ]
  },
  {
   "cell_type": "code",
   "execution_count": 44,
   "metadata": {},
   "outputs": [],
   "source": [
    "# create new columns\n",
    "tafe_resigned_copy['institute'] = 'TAFE'\n",
    "dete_resigned_copy['institute'] = 'DETE'"
   ]
  },
  {
   "cell_type": "code",
   "execution_count": 45,
   "metadata": {},
   "outputs": [
    {
     "name": "stdout",
     "output_type": "stream",
     "text": [
      "<class 'pandas.core.frame.DataFrame'>\n",
      "RangeIndex: 602 entries, 0 to 601\n",
      "Data columns (total 8 columns):\n",
      " #   Column                 Non-Null Count  Dtype  \n",
      "---  ------                 --------------  -----  \n",
      " 0   id                     602 non-null    float64\n",
      " 1   gender                 547 non-null    object \n",
      " 2   age                    550 non-null    object \n",
      " 3   employment_status      552 non-null    object \n",
      " 4   years_of_work_total    532 non-null    object \n",
      " 5   years_of_work_current  517 non-null    object \n",
      " 6   dissatisfied           602 non-null    bool   \n",
      " 7   institute              602 non-null    object \n",
      "dtypes: bool(1), float64(1), object(6)\n",
      "memory usage: 33.6+ KB\n"
     ]
    }
   ],
   "source": [
    "# concatenate dataframes\n",
    "exit_survey = pd.concat([tafe_resigned_copy, dete_resigned_copy], ignore_index=True)\n",
    "\n",
    "# delete unnecessary columns\n",
    "exit_survey = exit_survey.dropna(thresh=500, axis=1).drop(exit_survey.columns[1:4], axis=1).drop('job_dissatisfaction', axis=1)\n",
    "\n",
    "# check results\n",
    "exit_survey.info()"
   ]
  },
  {
   "cell_type": "markdown",
   "metadata": {},
   "source": [
    "The dataset is ready for analysis and includes all the necessary information to answer the questions that are stated in the beginning of the project.\n",
    "\n",
    "# Who is more dissatisfied: newbies or experienced employees, young or older?\n",
    "\n",
    "## Four key career stages \n",
    "\n",
    "Through the time that employees work for the company their attitudes, needs and preferences can vary. \n",
    "\n",
    "I follow the definition of four suggested [here](https://www.businesswire.com/news/home/20171108006002/en/Age-Number-Engage-Employees-Career-Stage) of four career stages:\n",
    " - **Newbie** (3 years or less at the company). These employees are least invested in company culture and the most transient. Their top motivator is learning new skills. Employees in the newbie stage are challenged by not meeting personal goals or expectations and prefer managers that will offer guidance and feedback.\n",
    " - **Sophomore** (4-7 years at the company). These employees are focused on proving themselves, and often prefer to feel challenged. They pay more attention to ethics, transparency and honest communications.\n",
    " - **Tenured** (8-10 years at the company). These employees are often motivated by public recognition and promotion and seek ownership over specific projects or teams. The biggest challenge for the tenured stage is combatting stagnation and feeling “stuck” and they prefer open communication about that with the management.\n",
    " - **Sage** (11 years or more at the company). They are the most loyal and engaged employees who are increasingly engaged with projects that build the organization’s future. \n",
    "\n",
    "I classify employees in these four groups to see if there is a difference in the reasons for them quitting the job.\n"
   ]
  },
  {
   "cell_type": "code",
   "execution_count": 46,
   "metadata": {},
   "outputs": [],
   "source": [
    "# create new column with career stage\n",
    "exit_survey['career_stage'] = exit_survey['years_of_work_total'].replace(['Less than 1 year', '1-2'], 'newbie').replace(\n",
    "    ['3-4', '5-6'], 'sophomore').replace('7-10', 'tenured').replace(['11-20', 'More than 20 years'], 'sage')"
   ]
  },
  {
   "cell_type": "markdown",
   "metadata": {},
   "source": [
    "## Three life stages of psychological development\n",
    "\n",
    "After I set the parameters for different career stages it is time to classify employees to age groups. I follow terminology used in [developmental psychology](https://en.wikipedia.org/wiki/Developmental_psychology). \n",
    "This field of psychological science aims to explain how thinking, feeling, and behaviors change throughout life.\n",
    "\n",
    "Below are described [three age groups](https://en.wikipedia.org/wiki/Developmental_psychology) relevant for data set:\n",
    " - **young adults** (18-29 years). This period of life is often marked by forming and maintaining relationships (bonds, close friendships, families).\n",
    " - **middle adults** (30–59 years). This stage of life tends to center on developing a sense of purpose and contributing to society. \n",
    " - **old adults** (60 and older). At that age individuals assess the quality of their lives. In reflecting on their lives, people in this age group develop a feeling of integrity if deciding that their lives were successful or a feeling of despair if evaluation of one's life indicates a failure to achieve goals.\n",
    " \n",
    " First I check how age bins look like in the column `age`. \n"
   ]
  },
  {
   "cell_type": "code",
   "execution_count": 47,
   "metadata": {},
   "outputs": [
    {
     "data": {
      "text/plain": [
       "51-55            68\n",
       "NaN              52\n",
       "41  45           45\n",
       "41-45            43\n",
       "46  50           39\n",
       "36-40            35\n",
       "21  25           33\n",
       "26  30           32\n",
       "36  40           32\n",
       "31  35           32\n",
       "26-30            30\n",
       "56 or older      29\n",
       "31-35            29\n",
       "46-50            28\n",
       "21-25            26\n",
       "56-60            22\n",
       "61 or older      17\n",
       "20 or younger    10\n",
       "Name: age, dtype: int64"
      ]
     },
     "execution_count": 47,
     "metadata": {},
     "output_type": "execute_result"
    }
   ],
   "source": [
    "exit_survey['age'].value_counts(dropna=False)"
   ]
  },
  {
   "cell_type": "markdown",
   "metadata": {},
   "source": [
    "There is no data for 55 of the rows, so I will ignore them in my analysis.\n",
    "\n",
    "But how can I classify these heterogeneous bins to three groups? Some of them include ages from different age groups. Unfortunately there is no way to make it rigorously.\n",
    "\n",
    "I use following approximation:\n",
    " -  separate all ages for every row in the dataframe\n",
    " - store them at the same index for every row \n",
    " - calculate mean value\n",
    " - use mean value to define age groups. "
   ]
  },
  {
   "cell_type": "code",
   "execution_count": 48,
   "metadata": {},
   "outputs": [
    {
     "name": "stdout",
     "output_type": "stream",
     "text": [
      "  ages\n",
      "1   41\n",
      "1   45\n",
      "2   56\n",
      "3   20\n",
      "4   46\n"
     ]
    }
   ],
   "source": [
    "# find all numbers for every row\n",
    "pattern = r\"(?P<ages>[2-6][0-6])\"\n",
    "ages = exit_survey['age'].str.extractall(pattern)\n",
    "\n",
    "# store them with multiindex\n",
    "ages.index = ages.index.get_level_values(0)\n",
    "\n",
    "# check result\n",
    "print(ages.head())\n",
    "\n",
    "# convert to numeric\n",
    "ages['ages'] = pd.to_numeric(ages['ages'], errors='coerce')"
   ]
  },
  {
   "cell_type": "code",
   "execution_count": 49,
   "metadata": {},
   "outputs": [
    {
     "data": {
      "text/html": [
       "<div>\n",
       "<style scoped>\n",
       "    .dataframe tbody tr th:only-of-type {\n",
       "        vertical-align: middle;\n",
       "    }\n",
       "\n",
       "    .dataframe tbody tr th {\n",
       "        vertical-align: top;\n",
       "    }\n",
       "\n",
       "    .dataframe thead th {\n",
       "        text-align: right;\n",
       "    }\n",
       "</style>\n",
       "<table border=\"1\" class=\"dataframe\">\n",
       "  <thead>\n",
       "    <tr style=\"text-align: right;\">\n",
       "      <th></th>\n",
       "      <th>ages</th>\n",
       "    </tr>\n",
       "  </thead>\n",
       "  <tbody>\n",
       "    <tr>\n",
       "      <th>1</th>\n",
       "      <td>43</td>\n",
       "    </tr>\n",
       "    <tr>\n",
       "      <th>2</th>\n",
       "      <td>56</td>\n",
       "    </tr>\n",
       "    <tr>\n",
       "      <th>3</th>\n",
       "      <td>20</td>\n",
       "    </tr>\n",
       "    <tr>\n",
       "      <th>4</th>\n",
       "      <td>48</td>\n",
       "    </tr>\n",
       "    <tr>\n",
       "      <th>5</th>\n",
       "      <td>38</td>\n",
       "    </tr>\n",
       "  </tbody>\n",
       "</table>\n",
       "</div>"
      ],
      "text/plain": [
       "   ages\n",
       "1    43\n",
       "2    56\n",
       "3    20\n",
       "4    48\n",
       "5    38"
      ]
     },
     "execution_count": 49,
     "metadata": {},
     "output_type": "execute_result"
    }
   ],
   "source": [
    "# calculate means\n",
    "ages_means = pd.pivot_table(data=ages, values = 'ages', index=ages.index)\n",
    "\n",
    "# check the result\n",
    "ages_means.head()"
   ]
  },
  {
   "cell_type": "code",
   "execution_count": 50,
   "metadata": {},
   "outputs": [
    {
     "data": {
      "text/plain": [
       "middle adults    402\n",
       "young adults     131\n",
       "old adults        17\n",
       "Name: age_group, dtype: int64"
      ]
     },
     "execution_count": 50,
     "metadata": {},
     "output_type": "execute_result"
    }
   ],
   "source": [
    "# set the pattern\n",
    "cut_labels = ['young adults', 'middle adults', 'old adults']\n",
    "cut_bins = [0, 30, 60, 100]\n",
    "\n",
    "# cut the data\n",
    "exit_survey['age_group'] = pd.cut(ages_means['ages'], bins=cut_bins, labels=cut_labels, right=False)\n",
    "\n",
    "# check result\n",
    "exit_survey['age_group'].value_counts()"
   ]
  },
  {
   "cell_type": "markdown",
   "metadata": {},
   "source": [
    "## Visualizing dissatisfaction\n",
    "\n",
    "In my opinion, it is a very good option to answer the questions about different dissatisfied groups to visually represent them. I will calculate percentages of dissatisfied employees for every career stage and age group and plot them."
   ]
  },
  {
   "cell_type": "code",
   "execution_count": 51,
   "metadata": {},
   "outputs": [
    {
     "name": "stdout",
     "output_type": "stream",
     "text": [
      "              dissatisfied\n",
      "career_stage              \n",
      "newbie            0.208092\n",
      "sophomore         0.228261\n",
      "tenured           0.306452\n",
      "sage              0.247788\n"
     ]
    }
   ],
   "source": [
    "# calculate percentages for every career stage\n",
    "count_dissatisfied = pd.pivot_table(exit_survey, values=['dissatisfied'], index='career_stage')\n",
    "\n",
    "# reorder labels and plot bar chart\n",
    "stages_reorder = ['newbie', 'sophomore', 'tenured', 'sage']\n",
    "count_dissatisfied = count_dissatisfied.reindex(stages_reorder)\n",
    "print(count_dissatisfied)"
   ]
  },
  {
   "cell_type": "code",
   "execution_count": 52,
   "metadata": {},
   "outputs": [],
   "source": [
    "# calculate percentages for every career stage\n",
    "count_dissatisfied_age = pd.pivot_table(exit_survey, values=['dissatisfied'], index='age_group')\n"
   ]
  },
  {
   "cell_type": "code",
   "execution_count": 69,
   "metadata": {},
   "outputs": [
    {
     "data": {
      "text/plain": [
       "Text(-0.25, 3, 'Percentage of dissatisfied employees')"
      ]
     },
     "execution_count": 69,
     "metadata": {},
     "output_type": "execute_result"
    },
    {
     "data": {
      "image/png": "[encoded data removed]",
      "text/plain": [
       "<Figure size 1152x288 with 2 Axes>"
      ]
     },
     "metadata": {},
     "output_type": "display_data"
    }
   ],
   "source": [
    "fig, (ax1, ax2) = plt.subplots(1, 2, figsize=(16, 4))\n",
    "\n",
    "ax1.barh(count_dissatisfied.index, count_dissatisfied['dissatisfied'])\n",
    "ax1.set_title('By career stage', fontsize=14)\n",
    "\n",
    "ax2.barh(count_dissatisfied_age.index, count_dissatisfied_age['dissatisfied'])\n",
    "ax2.set_title('By age group', fontsize=14)\n",
    "\n",
    "plt.text(-0.25, 3, 'Percentage of dissatisfied employees', fontsize=18)"
   ]
  },
  {
   "cell_type": "markdown",
   "metadata": {},
   "source": [
    "# Conclusion\n",
    "\n",
    "Bar plots give me a clear idea that there is a trend that more older and experienced employees that resign are more often dissatisfied with their job (compare 21% among `newbies` VS 31% among `tenured` or 21% among `young adults` VS 41% among `old adults`). What is interesting, is that in the group of most experienced and loyal employees (`sage`) the level of dissatisfaction is lower than among `tenured` but still relatively high (nearly 25%).\n",
    "\n",
    "## Further analysis\n",
    "\n",
    "This work should be regarded as a preliminary recommendation. Next steps could be to identify which positions had the most dissatisfied employees, how is it connected to gender and if which contributing factors correlate to overall dissatisfaction.\n",
    "\n",
    "## Recommendation to HR department\n",
    "As far as more experienced employees tend to be most dissatisfied, I would recommend following actions:\n",
    "- pay attention to company internal culture and open communication\n",
    "- think about how management can provide more challenges for employees not to feel 'stuck'."
   ]
  }
 ],
 "metadata": {
  "kernelspec": {
   "display_name": "Python 3",
   "language": "python",
   "name": "python3"
  },
  "language_info": {
   "codemirror_mode": {
    "name": "ipython",
    "version": 3
   },
   "file_extension": ".py",
   "mimetype": "text/x-python",
   "name": "python",
   "nbconvert_exporter": "python",
   "pygments_lexer": "ipython3",
   "version": "3.9.0"
  }
 },
 "nbformat": 4,
 "nbformat_minor": 4
}
