{
 "cells": [
  {
   "cell_type": "markdown",
   "metadata": {},
   "source": [
    "# \"You shall not pass!\", or Building the Spam Filter Algorithm using Naive Bayes\n",
    "\n",
    "## Introduction\n",
    "Spam messages sent in bulk by email are today an imminent part of our daily online activity. Growing accessibility of the internet leads to an ever-increasing number of unsolicited messages. Roughly 306.4 billion of them were estimated to have been sent and received each day in [2020.](https://www.statista.com/statistics/456500/daily-number-of-e-mails-worldwide/)\n",
    "\n",
    "For that project I'm going to build a spam filter specifically directed at preventing **mobile phone spam**. The filter would analyze new messages and tell whether they are spam or not. Based on that classification messages identified as spam later can be redirected to the trash bin.\n",
    "\n",
    "To build the spam filter, I'm going to use an algorithm based on Bayes' theorem called **Naive Bayes**. Bayes theorem says that if event B has occurred, then we can find the probability of event A given B.\n",
    "\n",
    "Spam filter will make following steps:\n",
    "\n",
    " - Learn how humans classify messages.\n",
    " - Estimate probabilities for new messages — probabilities for spam and non-spam.\n",
    " - Classify a new message based on these probability values — if the probability for spam is greater, then it classifies the message as spam. Otherwise, it classifies it as non-spam (if the two probability values are equal, then we may need a human to classify the message).\n",
    "\n",
    "My task is to \"teach\" the computer how to classify messages. To do that, I'll use the multinomial Naive Bayes algorithm along with a dataset of 5,572 SMS messages that are already classified by humans.\n",
    "\n",
    "## Data set\n",
    "The dataset was put together by Tiago A. Almeida and José María Gómez Hidalgo, and it can be downloaded from the [The UCI Machine Learning Repository.](https://archive.ics.uci.edu/ml/datasets/sms+spam+collection) You can also download the dataset directly from this [link](https://dq-content.s3.amazonaws.com/433/SMSSpamCollection). \n",
    "Text collection of spam and ham messages gathered from open sources."
   ]
  },
  {
   "cell_type": "code",
   "execution_count": 1,
   "metadata": {},
   "outputs": [],
   "source": [
    "import pandas as pd\n",
    "import numpy as np\n",
    "import matplotlib.pyplot as plt\n",
    "plt.style.use('fivethirtyeight')"
   ]
  },
  {
   "cell_type": "code",
   "execution_count": 2,
   "metadata": {},
   "outputs": [],
   "source": [
    "spam = pd.read_csv('spam', sep='\\t', header = None, names=['label', 'sms'])"
   ]
  },
  {
   "cell_type": "code",
   "execution_count": 3,
   "metadata": {},
   "outputs": [
    {
     "name": "stdout",
     "output_type": "stream",
     "text": [
      "<class 'pandas.core.frame.DataFrame'>\n",
      "RangeIndex: 5572 entries, 0 to 5571\n",
      "Data columns (total 2 columns):\n",
      " #   Column  Non-Null Count  Dtype \n",
      "---  ------  --------------  ----- \n",
      " 0   label   5572 non-null   object\n",
      " 1   sms     5572 non-null   object\n",
      "dtypes: object(2)\n",
      "memory usage: 87.2+ KB\n"
     ]
    }
   ],
   "source": [
    "spam.info()"
   ]
  },
  {
   "cell_type": "code",
   "execution_count": 4,
   "metadata": {},
   "outputs": [
    {
     "name": "stdout",
     "output_type": "stream",
     "text": [
      "ham     0.865937\n",
      "spam    0.134063\n",
      "Name: label, dtype: float64\n"
     ]
    }
   ],
   "source": [
    "labels = spam.label.value_counts(normalize=True)\n",
    "print(labels)"
   ]
  },
  {
   "cell_type": "code",
   "execution_count": 5,
   "metadata": {},
   "outputs": [
    {
     "data": {
      "text/plain": [
       "(array([0, 1]), [Text(0, 0, 'ham'), Text(1, 0, 'spam')])"
      ]
     },
     "execution_count": 5,
     "metadata": {},
     "output_type": "execute_result"
    },
    {
     "data": {
      "image/png": "[encoded data removed]",
      "text/plain": [
       "<Figure size 432x288 with 1 Axes>"
      ]
     },
     "metadata": {},
     "output_type": "display_data"
    }
   ],
   "source": [
    "labels.plot.bar()\n",
    "plt.title('Spam vs Ham messages')\n",
    "plt.xticks(rotation=45)"
   ]
  },
  {
   "cell_type": "markdown",
   "metadata": {},
   "source": [
    "There are 5572 rows in the dataset with about 87% of the messages that are ham (\"ham\" means non-spam), and the remaining 13% are spam.\n",
    "\n",
    "The dataset is large and contains relatively proportional number of spam and non-spam messages.\n",
    "\n",
    "\n",
    "## Training and test sets\n",
    "\n",
    "Once our spam filter is done, we'll need to test how good it is with classifying new messages. To test the spam filter, we're first going to split our dataset into two categories:\n",
    "\n",
    " - **A training set**, which we'll use to \"train\" the computer how to classify messages.\n",
    " - **A test set**, which we'll use to test how good the spam filter is with classifying new messages.\n",
    "\n",
    "We're going to keep 80% of our dataset for training, and 20% for testing (we want to train the algorithm on as much data as possible, but we also want to have enough test data). The dataset has 5,572 messages, which means that:\n",
    "\n",
    " - The training set will have 4,458 messages (about 80% of the dataset).\n",
    " - The test set will have 1,114 messages (about 20% of the dataset).\n",
    " \n",
    "All 1,114 messages in the test set are **already classified by a human**. When the spam filter is ready, I'll treat these messages **as new and have the filter classify them**. That way I'll able to compare the algorithm classification with that done by a human, and check how good the spam filter works.\n",
    "\n",
    "For this project, my goal is to create a spam filter that classifies new messages with an accuracy **greater than 80%** — so we expect that more than 80% of the new messages will be classified correctly as spam or ham (non-spam)."
   ]
  },
  {
   "cell_type": "code",
   "execution_count": 6,
   "metadata": {},
   "outputs": [],
   "source": [
    "# randomize data set\n",
    "rand_spam = spam.sample(frac=1, random_state = 1)\n",
    "\n",
    "# define training set limit\n",
    "training_index = round(len(rand_spam) * 0.8)\n",
    "\n",
    "# separate training set\n",
    "training_set = rand_spam[:training_index].reset_index(drop=True)# drop old indexes\n",
    "\n",
    "# separate test set\n",
    "test_set = rand_spam[training_index:].reset_index(drop=True)"
   ]
  },
  {
   "cell_type": "code",
   "execution_count": 7,
   "metadata": {},
   "outputs": [
    {
     "name": "stdout",
     "output_type": "stream",
     "text": [
      "<class 'pandas.core.frame.DataFrame'>\n",
      "RangeIndex: 4458 entries, 0 to 4457\n",
      "Data columns (total 2 columns):\n",
      " #   Column  Non-Null Count  Dtype \n",
      "---  ------  --------------  ----- \n",
      " 0   label   4458 non-null   object\n",
      " 1   sms     4458 non-null   object\n",
      "dtypes: object(2)\n",
      "memory usage: 69.8+ KB\n",
      "None\n",
      "<class 'pandas.core.frame.DataFrame'>\n",
      "RangeIndex: 1114 entries, 0 to 1113\n",
      "Data columns (total 2 columns):\n",
      " #   Column  Non-Null Count  Dtype \n",
      "---  ------  --------------  ----- \n",
      " 0   label   1114 non-null   object\n",
      " 1   sms     1114 non-null   object\n",
      "dtypes: object(2)\n",
      "memory usage: 17.5+ KB\n",
      "None\n"
     ]
    }
   ],
   "source": [
    "print(training_set.info())\n",
    "print(test_set.info())"
   ]
  },
  {
   "cell_type": "code",
   "execution_count": 8,
   "metadata": {},
   "outputs": [
    {
     "name": "stdout",
     "output_type": "stream",
     "text": [
      "ham     0.86541\n",
      "spam    0.13459\n",
      "Name: label, dtype: float64\n"
     ]
    }
   ],
   "source": [
    "labels_training = training_set.label.value_counts(normalize=True)\n",
    "print(labels_training)"
   ]
  },
  {
   "cell_type": "code",
   "execution_count": 9,
   "metadata": {},
   "outputs": [
    {
     "data": {
      "text/plain": [
       "ham     0.868043\n",
       "spam    0.131957\n",
       "Name: label, dtype: float64"
      ]
     },
     "execution_count": 9,
     "metadata": {},
     "output_type": "execute_result"
    }
   ],
   "source": [
    "test_set.label.value_counts(normalize=True)"
   ]
  },
  {
   "cell_type": "markdown",
   "metadata": {},
   "source": [
    "Both training and test sets have close to 87% of ham and 13% of spam messages so are comparable.\n",
    "\n",
    "## Data cleaning and formatting\n",
    "\n",
    "To teach the algorithm I need to gather vocabulary and count how often every word from it appears in every message. I will not take into account punctuation and process only lowercase letters.\n",
    "\n",
    "My first step will be delete all non-word characters and transform messages to lowercase."
   ]
  },
  {
   "cell_type": "code",
   "execution_count": 10,
   "metadata": {},
   "outputs": [],
   "source": [
    "training_set['sms'] = training_set['sms'].str.replace('\\W', ' ', regex=True).str.lower()"
   ]
  },
  {
   "cell_type": "markdown",
   "metadata": {},
   "source": [
    "### Create a vocabulary\n",
    "\n",
    "To effectively calculate probalilities I'll create a vocabulary for the messages in the training set. The vocabulary should be a Python list containing **all the unique words across all messages, where each word is represented as a string**.\n"
   ]
  },
  {
   "cell_type": "code",
   "execution_count": 11,
   "metadata": {},
   "outputs": [],
   "source": [
    "# split each message by whitespace\n",
    "training_set['sms'] = training_set['sms'].str.split()"
   ]
  },
  {
   "cell_type": "code",
   "execution_count": 12,
   "metadata": {},
   "outputs": [],
   "source": [
    "\n",
    "vocabulary = []\n",
    "\n",
    "# fill the vocabulary\n",
    "for row in training_set['sms']:\n",
    "    for word in row:\n",
    "        vocabulary.append(word)"
   ]
  },
  {
   "cell_type": "code",
   "execution_count": 13,
   "metadata": {},
   "outputs": [
    {
     "name": "stdout",
     "output_type": "stream",
     "text": [
      "7783\n"
     ]
    }
   ],
   "source": [
    "# get rid of duplicates\n",
    "vocabulary = list(set(vocabulary))\n",
    "print(len(vocabulary))"
   ]
  },
  {
   "cell_type": "markdown",
   "metadata": {},
   "source": [
    "### Count words in every message\n",
    "\n",
    "Next step is to create a dataframe with counts of every word for every message using vocabulary as columns' names."
   ]
  },
  {
   "cell_type": "code",
   "execution_count": 14,
   "metadata": {},
   "outputs": [],
   "source": [
    "# dictionary with words from vocabulary\n",
    "word_counts_per_sms = {word: [0] * len(training_set['sms']) for word in vocabulary}"
   ]
  },
  {
   "cell_type": "code",
   "execution_count": 15,
   "metadata": {},
   "outputs": [],
   "source": [
    "for index, row in enumerate(training_set['sms']):# distinct messages indexes\n",
    "    for word in row:\n",
    "        word_counts_per_sms[word][index] += 1\n",
    "\n",
    "word_counts_df = pd.DataFrame(word_counts_per_sms)"
   ]
  },
  {
   "cell_type": "code",
   "execution_count": 16,
   "metadata": {},
   "outputs": [
    {
     "name": "stdout",
     "output_type": "stream",
     "text": [
      "<class 'pandas.core.frame.DataFrame'>\n",
      "RangeIndex: 4458 entries, 0 to 4457\n",
      "Columns: 7783 entries, 31p to sad\n",
      "dtypes: int64(7783)\n",
      "memory usage: 264.7 MB\n"
     ]
    }
   ],
   "source": [
    "word_counts_df.info()"
   ]
  },
  {
   "cell_type": "code",
   "execution_count": 17,
   "metadata": {},
   "outputs": [],
   "source": [
    "# merge word count df with training set df\n",
    "training_set = pd.merge(training_set, word_counts_df, how='inner', left_index=True, right_index=True)"
   ]
  },
  {
   "cell_type": "code",
   "execution_count": 18,
   "metadata": {},
   "outputs": [
    {
     "data": {
      "text/html": [
       "<div>\n",
       "<style scoped>\n",
       "    .dataframe tbody tr th:only-of-type {\n",
       "        vertical-align: middle;\n",
       "    }\n",
       "\n",
       "    .dataframe tbody tr th {\n",
       "        vertical-align: top;\n",
       "    }\n",
       "\n",
       "    .dataframe thead th {\n",
       "        text-align: right;\n",
       "    }\n",
       "</style>\n",
       "<table border=\"1\" class=\"dataframe\">\n",
       "  <thead>\n",
       "    <tr style=\"text-align: right;\">\n",
       "      <th></th>\n",
       "      <th>label</th>\n",
       "      <th>sms_x</th>\n",
       "      <th>31p</th>\n",
       "      <th>creative</th>\n",
       "      <th>box385</th>\n",
       "      <th>wer</th>\n",
       "      <th>2nights</th>\n",
       "      <th>right</th>\n",
       "      <th>error</th>\n",
       "      <th>quizclub</th>\n",
       "      <th>...</th>\n",
       "      <th>visa</th>\n",
       "      <th>limiting</th>\n",
       "      <th>applausestore</th>\n",
       "      <th>mindset</th>\n",
       "      <th>driver</th>\n",
       "      <th>aren</th>\n",
       "      <th>supports</th>\n",
       "      <th>hol</th>\n",
       "      <th>2stoptx</th>\n",
       "      <th>sad</th>\n",
       "    </tr>\n",
       "  </thead>\n",
       "  <tbody>\n",
       "    <tr>\n",
       "      <th>0</th>\n",
       "      <td>ham</td>\n",
       "      <td>[yep, by, the, pretty, sculpture]</td>\n",
       "      <td>0</td>\n",
       "      <td>0</td>\n",
       "      <td>0</td>\n",
       "      <td>0</td>\n",
       "      <td>0</td>\n",
       "      <td>0</td>\n",
       "      <td>0</td>\n",
       "      <td>0</td>\n",
       "      <td>...</td>\n",
       "      <td>0</td>\n",
       "      <td>0</td>\n",
       "      <td>0</td>\n",
       "      <td>0</td>\n",
       "      <td>0</td>\n",
       "      <td>0</td>\n",
       "      <td>0</td>\n",
       "      <td>0</td>\n",
       "      <td>0</td>\n",
       "      <td>0</td>\n",
       "    </tr>\n",
       "    <tr>\n",
       "      <th>1</th>\n",
       "      <td>ham</td>\n",
       "      <td>[yes, princess, are, you, going, to, make, me,...</td>\n",
       "      <td>0</td>\n",
       "      <td>0</td>\n",
       "      <td>0</td>\n",
       "      <td>0</td>\n",
       "      <td>0</td>\n",
       "      <td>0</td>\n",
       "      <td>0</td>\n",
       "      <td>0</td>\n",
       "      <td>...</td>\n",
       "      <td>0</td>\n",
       "      <td>0</td>\n",
       "      <td>0</td>\n",
       "      <td>0</td>\n",
       "      <td>0</td>\n",
       "      <td>0</td>\n",
       "      <td>0</td>\n",
       "      <td>0</td>\n",
       "      <td>0</td>\n",
       "      <td>0</td>\n",
       "    </tr>\n",
       "    <tr>\n",
       "      <th>2</th>\n",
       "      <td>ham</td>\n",
       "      <td>[welp, apparently, he, retired]</td>\n",
       "      <td>0</td>\n",
       "      <td>0</td>\n",
       "      <td>0</td>\n",
       "      <td>0</td>\n",
       "      <td>0</td>\n",
       "      <td>0</td>\n",
       "      <td>0</td>\n",
       "      <td>0</td>\n",
       "      <td>...</td>\n",
       "      <td>0</td>\n",
       "      <td>0</td>\n",
       "      <td>0</td>\n",
       "      <td>0</td>\n",
       "      <td>0</td>\n",
       "      <td>0</td>\n",
       "      <td>0</td>\n",
       "      <td>0</td>\n",
       "      <td>0</td>\n",
       "      <td>0</td>\n",
       "    </tr>\n",
       "    <tr>\n",
       "      <th>3</th>\n",
       "      <td>ham</td>\n",
       "      <td>[havent]</td>\n",
       "      <td>0</td>\n",
       "      <td>0</td>\n",
       "      <td>0</td>\n",
       "      <td>0</td>\n",
       "      <td>0</td>\n",
       "      <td>0</td>\n",
       "      <td>0</td>\n",
       "      <td>0</td>\n",
       "      <td>...</td>\n",
       "      <td>0</td>\n",
       "      <td>0</td>\n",
       "      <td>0</td>\n",
       "      <td>0</td>\n",
       "      <td>0</td>\n",
       "      <td>0</td>\n",
       "      <td>0</td>\n",
       "      <td>0</td>\n",
       "      <td>0</td>\n",
       "      <td>0</td>\n",
       "    </tr>\n",
       "    <tr>\n",
       "      <th>4</th>\n",
       "      <td>ham</td>\n",
       "      <td>[i, forgot, 2, ask, ü, all, smth, there, s, a,...</td>\n",
       "      <td>0</td>\n",
       "      <td>0</td>\n",
       "      <td>0</td>\n",
       "      <td>0</td>\n",
       "      <td>0</td>\n",
       "      <td>0</td>\n",
       "      <td>0</td>\n",
       "      <td>0</td>\n",
       "      <td>...</td>\n",
       "      <td>0</td>\n",
       "      <td>0</td>\n",
       "      <td>0</td>\n",
       "      <td>0</td>\n",
       "      <td>0</td>\n",
       "      <td>0</td>\n",
       "      <td>0</td>\n",
       "      <td>0</td>\n",
       "      <td>0</td>\n",
       "      <td>0</td>\n",
       "    </tr>\n",
       "  </tbody>\n",
       "</table>\n",
       "<p>5 rows × 7785 columns</p>\n",
       "</div>"
      ],
      "text/plain": [
       "  label                                              sms_x  31p  creative  \\\n",
       "0   ham                  [yep, by, the, pretty, sculpture]    0         0   \n",
       "1   ham  [yes, princess, are, you, going, to, make, me,...    0         0   \n",
       "2   ham                    [welp, apparently, he, retired]    0         0   \n",
       "3   ham                                           [havent]    0         0   \n",
       "4   ham  [i, forgot, 2, ask, ü, all, smth, there, s, a,...    0         0   \n",
       "\n",
       "   box385  wer  2nights  right  error  quizclub  ...  visa  limiting  \\\n",
       "0       0    0        0      0      0         0  ...     0         0   \n",
       "1       0    0        0      0      0         0  ...     0         0   \n",
       "2       0    0        0      0      0         0  ...     0         0   \n",
       "3       0    0        0      0      0         0  ...     0         0   \n",
       "4       0    0        0      0      0         0  ...     0         0   \n",
       "\n",
       "   applausestore  mindset  driver  aren  supports  hol  2stoptx  sad  \n",
       "0              0        0       0     0         0    0        0    0  \n",
       "1              0        0       0     0         0    0        0    0  \n",
       "2              0        0       0     0         0    0        0    0  \n",
       "3              0        0       0     0         0    0        0    0  \n",
       "4              0        0       0     0         0    0        0    0  \n",
       "\n",
       "[5 rows x 7785 columns]"
      ]
     },
     "execution_count": 18,
     "metadata": {},
     "output_type": "execute_result"
    }
   ],
   "source": [
    "training_set.head()"
   ]
  },
  {
   "cell_type": "markdown",
   "metadata": {},
   "source": [
    "## Building an algorithm\n",
    "\n",
    "Now after the data cleaning and merging the final training set, I can begin creating the spam filter.\n",
    "\n",
    "For Naive Bayes algorithm I count the probability values of the two equations below to be able to classify new messages:\n",
    "$$P(Spam|w_{1}, w_{2},...,w_{n})\\propto P(Spam)\\cdot\\prod \\limits_{i=1}^{n}P(w_{i}|Spam)$$\n",
    "$$P(Ham|w_{1}, w_{2},...,w_{n})\\propto P(Ham)\\cdot\\prod\\limits_{i=1}^{n}P(w_{i}|Ham)$$\n",
    "\n",
    "Probability of word given Spam or Ham is calculated in the following way:\n",
    "$$P(w_{i}|Spam) = \\frac{N_{w_{i}|Spam}+\\alpha}{N_{Spam} + \\alpha\\cdot N_{Vocabulary}}$$\n",
    "$$P(w_{i}|Ham) = \\frac{N_{w_{i}|Ham}+\\alpha}{N_{Ham} + \\alpha\\cdot N_{Vocabulary}}$$\n",
    "\n",
    "Some of the terms in the four equations above will have the same value for every new message. As a start, let's first calculate:\n",
    "\n",
    " - P(Spam) and P(Ham)\n",
    " - $N_{Spam}, N_{Ham}, N_{Vocabulary}$(number of words in spam, ham and vocabulary)\n",
    " \n",
    "We'll also use [Laplace smoothing](https://towardsdatascience.com/laplace-smoothing-in-na%C3%AFve-bayes-algorithm-9c237a8bdece) and set $\\alpha=1$\n"
   ]
  },
  {
   "cell_type": "code",
   "execution_count": 19,
   "metadata": {},
   "outputs": [],
   "source": [
    "# define probabilities of spam and ham from proportions of labels in the original dataset\n",
    "prob_ham = labels_training[0]\n",
    "prob_spam = labels_training[1]"
   ]
  },
  {
   "cell_type": "code",
   "execution_count": 20,
   "metadata": {},
   "outputs": [
    {
     "name": "stdout",
     "output_type": "stream",
     "text": [
      "57237 15190 7783\n"
     ]
    }
   ],
   "source": [
    "# separate spam and ham messages\n",
    "ham = training_set[training_set['label'] == 'ham']\n",
    "spam = training_set[training_set['label'] == 'spam']\n",
    "\n",
    "# count number of words\n",
    "n_tot_ham = ham.iloc[:, 2:].to_numpy().sum()\n",
    "n_tot_spam = spam.iloc[:, 2:].to_numpy().sum()\n",
    "\n",
    "n_vocab = len(vocabulary)\n",
    "alpha = 1\n",
    "\n",
    "print(n_tot_ham, n_tot_spam, n_vocab)"
   ]
  },
  {
   "cell_type": "markdown",
   "metadata": {},
   "source": [
    "We have 7,783 words in our vocabulary, which means we'll need to calculate a total of 15,566 probabilities. For each word, we need to calculate both P(wi|Spam) and P(wi|Ham).\n",
    "\n",
    "In more technical language, the probability values that P(wi|Spam) and P(wi|Ham) will take are called **parameters**. The fact that we calculate so many values before even beginning the classification of new messages makes the Naive Bayes algorithm very fast (especially compared to other algorithms). When a new message comes in, most of the needed computations are already done, which enables the algorithm to almost instantly classify the new message."
   ]
  },
  {
   "cell_type": "code",
   "execution_count": 21,
   "metadata": {},
   "outputs": [],
   "source": [
    "# calculate probabilities of every word given ham\n",
    "word_prob_ham = {w:0 for w in vocabulary}\n",
    "\n",
    "for w in vocabulary:\n",
    "    if w in ham.columns.tolist():# make sure the word exists in ham\n",
    "        n_word_ham = ham[w].sum()\n",
    "    word_prob_ham[w] = (n_word_ham + alpha)/(n_tot_ham + alpha*n_vocab)"
   ]
  },
  {
   "cell_type": "code",
   "execution_count": 22,
   "metadata": {},
   "outputs": [],
   "source": [
    "# calculate probabilities of every word given spam\n",
    "word_prob_spam = {w:0 for w in vocabulary}\n",
    "\n",
    "for w in vocabulary:\n",
    "    if w in spam.columns.tolist():# make sure the word exists in spam\n",
    "        n_word_spam = spam[w].sum()\n",
    "    word_prob_spam[w] = (n_word_spam + alpha)/(n_tot_spam + alpha*n_vocab)"
   ]
  },
  {
   "cell_type": "code",
   "execution_count": 23,
   "metadata": {},
   "outputs": [
    {
     "name": "stdout",
     "output_type": "stream",
     "text": [
      "('31p', 8.705872110738693e-05)\n",
      "('creative', 4.3529360553693465e-05)\n",
      "('box385', 0.0001305880816610804)\n",
      "('31p', 1.537988311288834e-05)\n",
      "('creative', 3.075976622577668e-05)\n",
      "('box385', 1.537988311288834e-05)\n"
     ]
    }
   ],
   "source": [
    "# check results\n",
    "iterator = iter(word_prob_spam.items())\n",
    "for i in range(3):\n",
    "    print(next(iterator))\n",
    "\n",
    "iterator_2 = iter(word_prob_ham.items())\n",
    "for i in range(3):\n",
    "    print(next(iterator_2))"
   ]
  },
  {
   "cell_type": "markdown",
   "metadata": {},
   "source": [
    "Now that we've calculated all the constants and parameters we need, we can start creating the spam filter. The spam filter can be understood as a function that:\n",
    "\n",
    " - Takes in as input a new message (w1, w2, ..., wn)\n",
    " - Calculates P(Spam|w1, w2, ..., wn) and P(Ham|w1, w2, ..., wn)\n",
    " - Compares the values of P(Spam|w1, w2, ..., wn) and P(Ham|w1, w2, ..., wn), and:\n",
    "                - If P(Ham|w1, w2, ..., wn) > P(Spam|w1, w2, ..., wn), then the message is classified as ham.\n",
    "                - If P(Ham|w1, w2, ..., wn) < P(Spam|w1, w2, ..., wn), then the message is classified as spam.\n",
    "                - If P(Ham|w1, w2, ..., wn) = P(Spam|w1, w2, ..., wn), then the algorithm may request human help.\n"
   ]
  },
  {
   "cell_type": "code",
   "execution_count": 24,
   "metadata": {},
   "outputs": [],
   "source": [
    "import re\n",
    "\n",
    "def classify(message):\n",
    "    message = re.sub('\\W', ' ', message)\n",
    "    message = message.lower()\n",
    "    message = message.split()\n",
    "    prob_spam_given_message = prob_spam\n",
    "    prob_ham_given_message = prob_ham\n",
    "    \n",
    "    for word in message:\n",
    "        if word in word_prob_spam:\n",
    "            prob_spam_given_message *= word_prob_spam[word]\n",
    "        if word in word_prob_ham:\n",
    "            prob_ham_given_message *= word_prob_ham[word]\n",
    "    \n",
    "    if prob_ham_given_message > prob_spam_given_message:\n",
    "        return 'ham'\n",
    "    elif prob_ham_given_message < prob_spam_given_message:\n",
    "        return 'spam'\n",
    "    else:\n",
    "        return 'need human help'"
   ]
  },
  {
   "cell_type": "markdown",
   "metadata": {},
   "source": [
    "## Run algorithm on a test set\n",
    "\n",
    "Now I'll try to determine how well the spam filter does on the test set of 1,114 messages.\n",
    "\n",
    "The algorithm will classify every message in the test set, and that label will be compared with the actual label given by a human."
   ]
  },
  {
   "cell_type": "code",
   "execution_count": 25,
   "metadata": {},
   "outputs": [],
   "source": [
    "test_set['predicted'] = test_set['sms'].apply(classify)"
   ]
  },
  {
   "cell_type": "code",
   "execution_count": 26,
   "metadata": {},
   "outputs": [
    {
     "name": "stdout",
     "output_type": "stream",
     "text": [
      "<class 'pandas.core.frame.DataFrame'>\n",
      "RangeIndex: 1114 entries, 0 to 1113\n",
      "Data columns (total 3 columns):\n",
      " #   Column     Non-Null Count  Dtype \n",
      "---  ------     --------------  ----- \n",
      " 0   label      1114 non-null   object\n",
      " 1   sms        1114 non-null   object\n",
      " 2   predicted  1114 non-null   object\n",
      "dtypes: object(3)\n",
      "memory usage: 26.2+ KB\n"
     ]
    }
   ],
   "source": [
    "# check the result\n",
    "test_set.info()"
   ]
  },
  {
   "cell_type": "code",
   "execution_count": 27,
   "metadata": {},
   "outputs": [
    {
     "name": "stdout",
     "output_type": "stream",
     "text": [
      "Accuracy of the algorithm on the test set is 98.74%.\n"
     ]
    }
   ],
   "source": [
    "# test accuracy of the algorithm\n",
    "correct = 0\n",
    "total = len(test_set.sms)\n",
    "\n",
    "for index, row in test_set.iterrows():\n",
    "    if row['label'] == row['predicted']:\n",
    "        correct += 1\n",
    "accuracy = round((correct/total)*100, 2)\n",
    "print('Accuracy of the algorithm on the test set is {}%.'.format(accuracy))"
   ]
  },
  {
   "cell_type": "markdown",
   "metadata": {},
   "source": [
    "# Conclusion\n",
    "\n",
    "I buit a spam filter for SMS messages using the multinomial Naive Bayes algorithm. The filter had an accuracy of 98.74% on the test set, which is an excellent result. My initial aim was accuracy of over 80%."
   ]
  }
 ],
 "metadata": {
  "kernelspec": {
   "display_name": "Python 3",
   "language": "python",
   "name": "python3"
  },
  "language_info": {
   "codemirror_mode": {
    "name": "ipython",
    "version": 3
   },
   "file_extension": ".py",
   "mimetype": "text/x-python",
   "name": "python",
   "nbconvert_exporter": "python",
   "pygments_lexer": "ipython3",
   "version": "3.9.0"
  }
 },
 "nbformat": 4,
 "nbformat_minor": 4
}
