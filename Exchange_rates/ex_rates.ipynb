{
 "cells": [
  {
   "cell_type": "markdown",
   "metadata": {},
   "source": [
    "# Guided Project: Storytelling Data Visualization on Exchange Rates\n",
    "\n",
    "The dataset we'll use describes Euro daily exchange rates between 1999 and 2021. The euro (symbolized with €) is the official currency in most of the countries of the European Union.\n",
    "\n",
    "If the exchange rate of the euro to the US dollar is 1.5, you get 1.5 US dollars if you pay 1.0 euro (one euro has more value than one US dollar at this exchange rate).\n",
    "\n",
    "Daria Chemkaeva put together the data set and made it available on [Kaggle](https://www.kaggle.com/lsind18/euro-exchange-daily-rates-19992020) — the data source is the European Central Bank. Note that the dataset gets regular updates — we downloaded it on January 2021."
   ]
  },
  {
   "cell_type": "code",
   "execution_count": 1,
   "metadata": {},
   "outputs": [
    {
     "name": "stdout",
     "output_type": "stream",
     "text": [
      "<class 'pandas.core.frame.DataFrame'>\n",
      "RangeIndex: 5781 entries, 0 to 5780\n",
      "Data columns (total 41 columns):\n",
      " #   Column                    Non-Null Count  Dtype  \n",
      "---  ------                    --------------  -----  \n",
      " 0   Period\\Unit:              5781 non-null   object \n",
      " 1   [Australian dollar ]      5781 non-null   object \n",
      " 2   [Bulgarian lev ]          5379 non-null   object \n",
      " 3   [Brazilian real ]         5513 non-null   object \n",
      " 4   [Canadian dollar ]        5781 non-null   object \n",
      " 5   [Swiss franc ]            5781 non-null   object \n",
      " 6   [Chinese yuan renminbi ]  5513 non-null   object \n",
      " 7   [Cypriot pound ]          2346 non-null   object \n",
      " 8   [Czech koruna ]           5781 non-null   object \n",
      " 9   [Danish krone ]           5781 non-null   object \n",
      " 10  [Estonian kroon ]         3130 non-null   object \n",
      " 11  [UK pound sterling ]      5781 non-null   object \n",
      " 12  [Greek drachma ]          520 non-null    object \n",
      " 13  [Hong Kong dollar ]       5781 non-null   object \n",
      " 14  [Croatian kuna ]          5513 non-null   object \n",
      " 15  [Hungarian forint ]       5781 non-null   object \n",
      " 16  [Indonesian rupiah ]      5781 non-null   object \n",
      " 17  [Israeli shekel ]         5513 non-null   object \n",
      " 18  [Indian rupee ]           5513 non-null   object \n",
      " 19  [Iceland krona ]          3374 non-null   float64\n",
      " 20  [Japanese yen ]           5781 non-null   object \n",
      " 21  [Korean won ]             5781 non-null   object \n",
      " 22  [Lithuanian litas ]       4159 non-null   object \n",
      " 23  [Latvian lats ]           3904 non-null   object \n",
      " 24  [Maltese lira ]           2346 non-null   object \n",
      " 25  [Mexican peso ]           5781 non-null   object \n",
      " 26  [Malaysian ringgit ]      5781 non-null   object \n",
      " 27  [Norwegian krone ]        5781 non-null   object \n",
      " 28  [New Zealand dollar ]     5781 non-null   object \n",
      " 29  [Philippine peso ]        5781 non-null   object \n",
      " 30  [Polish zloty ]           5781 non-null   object \n",
      " 31  [Romanian leu ]           5719 non-null   float64\n",
      " 32  [Russian rouble ]         5781 non-null   object \n",
      " 33  [Swedish krona ]          5781 non-null   object \n",
      " 34  [Singapore dollar ]       5781 non-null   object \n",
      " 35  [Slovenian tolar ]        2085 non-null   object \n",
      " 36  [Slovak koruna ]          2608 non-null   object \n",
      " 37  [Thai baht ]              5781 non-null   object \n",
      " 38  [Turkish lira ]           5719 non-null   float64\n",
      " 39  [US dollar ]              5781 non-null   object \n",
      " 40  [South African rand ]     5781 non-null   object \n",
      "dtypes: float64(3), object(38)\n",
      "memory usage: 1.8+ MB\n"
     ]
    }
   ],
   "source": [
    "import pandas as pd\n",
    "import numpy as np\n",
    "import matplotlib.pyplot as plt\n",
    "import seaborn as sns\n",
    "\n",
    "exchange_rates = pd.read_csv('euro-daily-hist_1999_2020.csv')\n",
    "exchange_rates.info()"
   ]
  },
  {
   "cell_type": "markdown",
   "metadata": {},
   "source": [
    "What is the number of rows and columns?\n",
    "Are there null values?\n",
    "What is the data type of each column?"
   ]
  },
  {
   "cell_type": "code",
   "execution_count": 2,
   "metadata": {},
   "outputs": [
    {
     "data": {
      "text/html": [
       "<div>\n",
       "<style scoped>\n",
       "    .dataframe tbody tr th:only-of-type {\n",
       "        vertical-align: middle;\n",
       "    }\n",
       "\n",
       "    .dataframe tbody tr th {\n",
       "        vertical-align: top;\n",
       "    }\n",
       "\n",
       "    .dataframe thead th {\n",
       "        text-align: right;\n",
       "    }\n",
       "</style>\n",
       "<table border=\"1\" class=\"dataframe\">\n",
       "  <thead>\n",
       "    <tr style=\"text-align: right;\">\n",
       "      <th></th>\n",
       "      <th>Period\\Unit:</th>\n",
       "      <th>[Australian dollar ]</th>\n",
       "      <th>[Bulgarian lev ]</th>\n",
       "      <th>[Brazilian real ]</th>\n",
       "      <th>[Canadian dollar ]</th>\n",
       "      <th>[Swiss franc ]</th>\n",
       "      <th>[Chinese yuan renminbi ]</th>\n",
       "      <th>[Cypriot pound ]</th>\n",
       "      <th>[Czech koruna ]</th>\n",
       "      <th>[Danish krone ]</th>\n",
       "      <th>...</th>\n",
       "      <th>[Romanian leu ]</th>\n",
       "      <th>[Russian rouble ]</th>\n",
       "      <th>[Swedish krona ]</th>\n",
       "      <th>[Singapore dollar ]</th>\n",
       "      <th>[Slovenian tolar ]</th>\n",
       "      <th>[Slovak koruna ]</th>\n",
       "      <th>[Thai baht ]</th>\n",
       "      <th>[Turkish lira ]</th>\n",
       "      <th>[US dollar ]</th>\n",
       "      <th>[South African rand ]</th>\n",
       "    </tr>\n",
       "  </thead>\n",
       "  <tbody>\n",
       "    <tr>\n",
       "      <th>0</th>\n",
       "      <td>2021-05-06</td>\n",
       "      <td>1.5547</td>\n",
       "      <td>1.9558</td>\n",
       "      <td>6.4707</td>\n",
       "      <td>1.4764</td>\n",
       "      <td>1.0953</td>\n",
       "      <td>7.8054</td>\n",
       "      <td>NaN</td>\n",
       "      <td>25.847</td>\n",
       "      <td>7.4360</td>\n",
       "      <td>...</td>\n",
       "      <td>4.9264</td>\n",
       "      <td>89.8825</td>\n",
       "      <td>10.1940</td>\n",
       "      <td>1.6096</td>\n",
       "      <td>NaN</td>\n",
       "      <td>NaN</td>\n",
       "      <td>37.712</td>\n",
       "      <td>10.0490</td>\n",
       "      <td>1.2060</td>\n",
       "      <td>17.2081</td>\n",
       "    </tr>\n",
       "    <tr>\n",
       "      <th>1</th>\n",
       "      <td>2021-05-05</td>\n",
       "      <td>1.5510</td>\n",
       "      <td>1.9558</td>\n",
       "      <td>6.5174</td>\n",
       "      <td>1.4731</td>\n",
       "      <td>1.0965</td>\n",
       "      <td>7.7636</td>\n",
       "      <td>NaN</td>\n",
       "      <td>25.825</td>\n",
       "      <td>7.4360</td>\n",
       "      <td>...</td>\n",
       "      <td>4.9271</td>\n",
       "      <td>89.7964</td>\n",
       "      <td>10.1945</td>\n",
       "      <td>1.6035</td>\n",
       "      <td>NaN</td>\n",
       "      <td>NaN</td>\n",
       "      <td>37.366</td>\n",
       "      <td>10.0174</td>\n",
       "      <td>1.2005</td>\n",
       "      <td>17.3013</td>\n",
       "    </tr>\n",
       "    <tr>\n",
       "      <th>2</th>\n",
       "      <td>2021-05-04</td>\n",
       "      <td>1.5608</td>\n",
       "      <td>1.9558</td>\n",
       "      <td>6.5785</td>\n",
       "      <td>1.4836</td>\n",
       "      <td>1.0980</td>\n",
       "      <td>7.8136</td>\n",
       "      <td>NaN</td>\n",
       "      <td>25.841</td>\n",
       "      <td>7.4361</td>\n",
       "      <td>...</td>\n",
       "      <td>4.9275</td>\n",
       "      <td>90.2438</td>\n",
       "      <td>10.1673</td>\n",
       "      <td>1.6073</td>\n",
       "      <td>NaN</td>\n",
       "      <td>NaN</td>\n",
       "      <td>37.475</td>\n",
       "      <td>10.0110</td>\n",
       "      <td>1.2021</td>\n",
       "      <td>17.4433</td>\n",
       "    </tr>\n",
       "    <tr>\n",
       "      <th>3</th>\n",
       "      <td>2021-05-03</td>\n",
       "      <td>1.5573</td>\n",
       "      <td>1.9558</td>\n",
       "      <td>6.5507</td>\n",
       "      <td>1.4807</td>\n",
       "      <td>1.1016</td>\n",
       "      <td>7.7967</td>\n",
       "      <td>NaN</td>\n",
       "      <td>25.773</td>\n",
       "      <td>7.4365</td>\n",
       "      <td>...</td>\n",
       "      <td>4.9269</td>\n",
       "      <td>90.7472</td>\n",
       "      <td>10.1803</td>\n",
       "      <td>1.6044</td>\n",
       "      <td>NaN</td>\n",
       "      <td>NaN</td>\n",
       "      <td>37.565</td>\n",
       "      <td>10.0087</td>\n",
       "      <td>1.2044</td>\n",
       "      <td>17.3953</td>\n",
       "    </tr>\n",
       "    <tr>\n",
       "      <th>4</th>\n",
       "      <td>2021-04-30</td>\n",
       "      <td>1.5581</td>\n",
       "      <td>1.9558</td>\n",
       "      <td>6.4597</td>\n",
       "      <td>1.4834</td>\n",
       "      <td>1.0998</td>\n",
       "      <td>7.8134</td>\n",
       "      <td>NaN</td>\n",
       "      <td>25.883</td>\n",
       "      <td>7.4360</td>\n",
       "      <td>...</td>\n",
       "      <td>4.9285</td>\n",
       "      <td>90.7108</td>\n",
       "      <td>10.1640</td>\n",
       "      <td>1.6045</td>\n",
       "      <td>NaN</td>\n",
       "      <td>NaN</td>\n",
       "      <td>37.648</td>\n",
       "      <td>9.9777</td>\n",
       "      <td>1.2082</td>\n",
       "      <td>17.3875</td>\n",
       "    </tr>\n",
       "  </tbody>\n",
       "</table>\n",
       "<p>5 rows × 41 columns</p>\n",
       "</div>"
      ],
      "text/plain": [
       "  Period\\Unit: [Australian dollar ] [Bulgarian lev ] [Brazilian real ]  \\\n",
       "0   2021-05-06               1.5547           1.9558            6.4707   \n",
       "1   2021-05-05               1.5510           1.9558            6.5174   \n",
       "2   2021-05-04               1.5608           1.9558            6.5785   \n",
       "3   2021-05-03               1.5573           1.9558            6.5507   \n",
       "4   2021-04-30               1.5581           1.9558            6.4597   \n",
       "\n",
       "  [Canadian dollar ] [Swiss franc ] [Chinese yuan renminbi ] [Cypriot pound ]  \\\n",
       "0             1.4764         1.0953                   7.8054              NaN   \n",
       "1             1.4731         1.0965                   7.7636              NaN   \n",
       "2             1.4836         1.0980                   7.8136              NaN   \n",
       "3             1.4807         1.1016                   7.7967              NaN   \n",
       "4             1.4834         1.0998                   7.8134              NaN   \n",
       "\n",
       "  [Czech koruna ] [Danish krone ]  ... [Romanian leu ] [Russian rouble ]  \\\n",
       "0          25.847          7.4360  ...          4.9264           89.8825   \n",
       "1          25.825          7.4360  ...          4.9271           89.7964   \n",
       "2          25.841          7.4361  ...          4.9275           90.2438   \n",
       "3          25.773          7.4365  ...          4.9269           90.7472   \n",
       "4          25.883          7.4360  ...          4.9285           90.7108   \n",
       "\n",
       "  [Swedish krona ] [Singapore dollar ] [Slovenian tolar ] [Slovak koruna ]  \\\n",
       "0          10.1940              1.6096                NaN              NaN   \n",
       "1          10.1945              1.6035                NaN              NaN   \n",
       "2          10.1673              1.6073                NaN              NaN   \n",
       "3          10.1803              1.6044                NaN              NaN   \n",
       "4          10.1640              1.6045                NaN              NaN   \n",
       "\n",
       "  [Thai baht ] [Turkish lira ] [US dollar ]  [South African rand ]  \n",
       "0       37.712         10.0490       1.2060                17.2081  \n",
       "1       37.366         10.0174       1.2005                17.3013  \n",
       "2       37.475         10.0110       1.2021                17.4433  \n",
       "3       37.565         10.0087       1.2044                17.3953  \n",
       "4       37.648          9.9777       1.2082                17.3875  \n",
       "\n",
       "[5 rows x 41 columns]"
      ]
     },
     "execution_count": 2,
     "metadata": {},
     "output_type": "execute_result"
    }
   ],
   "source": [
    "exchange_rates.head()"
   ]
  },
  {
   "cell_type": "markdown",
   "metadata": {},
   "source": [
    " - We rename the [US dollar ] and Period\\Unit: columns to something easier to type — US_dollar and Time.\n",
    " - We change the Time column to a datetime data type.\n",
    " - We sort the values by Time in ascending order.\n",
    " - We reset the index (and drop the initial index)."
   ]
  },
  {
   "cell_type": "code",
   "execution_count": 3,
   "metadata": {},
   "outputs": [],
   "source": [
    "exchange_rates.rename(columns={'[US dollar ]': 'US_dollar',\n",
    "                               'Period\\\\Unit:': 'Time'},\n",
    "                      inplace=True)\n",
    "exchange_rates['Time'] = pd.to_datetime(exchange_rates['Time'])\n",
    "exchange_rates.sort_values('Time', inplace=True)\n",
    "exchange_rates.reset_index(drop=True, inplace=True)"
   ]
  },
  {
   "cell_type": "code",
   "execution_count": 4,
   "metadata": {},
   "outputs": [],
   "source": [
    "euro_to_dollar = exchange_rates[['Time','US_dollar']].copy()"
   ]
  },
  {
   "cell_type": "code",
   "execution_count": 5,
   "metadata": {},
   "outputs": [
    {
     "data": {
      "text/plain": [
       "-         62\n",
       "1.2276     9\n",
       "1.1215     8\n",
       "1.1305     7\n",
       "1.1193     6\n",
       "          ..\n",
       "0.9991     1\n",
       "1.3139     1\n",
       "1.0255     1\n",
       "1.2750     1\n",
       "1.3951     1\n",
       "Name: US_dollar, Length: 3549, dtype: int64"
      ]
     },
     "execution_count": 5,
     "metadata": {},
     "output_type": "execute_result"
    }
   ],
   "source": [
    "euro_to_dollar['US_dollar'].value_counts(dropna=False)"
   ]
  },
  {
   "cell_type": "code",
   "execution_count": 6,
   "metadata": {},
   "outputs": [],
   "source": [
    "euro_to_dollar = euro_to_dollar[euro_to_dollar['US_dollar'] != '-']\n",
    "euro_to_dollar['US_dollar'] = euro_to_dollar['US_dollar'].astype('float')"
   ]
  },
  {
   "cell_type": "code",
   "execution_count": 7,
   "metadata": {},
   "outputs": [
    {
     "data": {
      "text/html": [
       "<div>\n",
       "<style scoped>\n",
       "    .dataframe tbody tr th:only-of-type {\n",
       "        vertical-align: middle;\n",
       "    }\n",
       "\n",
       "    .dataframe tbody tr th {\n",
       "        vertical-align: top;\n",
       "    }\n",
       "\n",
       "    .dataframe thead th {\n",
       "        text-align: right;\n",
       "    }\n",
       "</style>\n",
       "<table border=\"1\" class=\"dataframe\">\n",
       "  <thead>\n",
       "    <tr style=\"text-align: right;\">\n",
       "      <th></th>\n",
       "      <th>Time</th>\n",
       "      <th>US_dollar</th>\n",
       "    </tr>\n",
       "  </thead>\n",
       "  <tbody>\n",
       "    <tr>\n",
       "      <th>0</th>\n",
       "      <td>1999-01-04</td>\n",
       "      <td>1.1789</td>\n",
       "    </tr>\n",
       "    <tr>\n",
       "      <th>1</th>\n",
       "      <td>1999-01-05</td>\n",
       "      <td>1.1790</td>\n",
       "    </tr>\n",
       "    <tr>\n",
       "      <th>2</th>\n",
       "      <td>1999-01-06</td>\n",
       "      <td>1.1743</td>\n",
       "    </tr>\n",
       "    <tr>\n",
       "      <th>3</th>\n",
       "      <td>1999-01-07</td>\n",
       "      <td>1.1632</td>\n",
       "    </tr>\n",
       "    <tr>\n",
       "      <th>4</th>\n",
       "      <td>1999-01-08</td>\n",
       "      <td>1.1659</td>\n",
       "    </tr>\n",
       "  </tbody>\n",
       "</table>\n",
       "</div>"
      ],
      "text/plain": [
       "        Time  US_dollar\n",
       "0 1999-01-04     1.1789\n",
       "1 1999-01-05     1.1790\n",
       "2 1999-01-06     1.1743\n",
       "3 1999-01-07     1.1632\n",
       "4 1999-01-08     1.1659"
      ]
     },
     "execution_count": 7,
     "metadata": {},
     "output_type": "execute_result"
    }
   ],
   "source": [
    "euro_to_dollar.head()"
   ]
  },
  {
   "cell_type": "code",
   "execution_count": 8,
   "metadata": {},
   "outputs": [
    {
     "data": {
      "image/png": "[encoded data removed]",
      "text/plain": [
       "<Figure size 432x288 with 1 Axes>"
      ]
     },
     "metadata": {
      "needs_background": "light"
     },
     "output_type": "display_data"
    }
   ],
   "source": [
    "plt.plot(euro_to_dollar['Time'],\n",
    "         euro_to_dollar['US_dollar'])\n",
    "plt.show()"
   ]
  },
  {
   "cell_type": "markdown",
   "metadata": {},
   "source": [
    "Depending on our goals, we may not want to show that daily variation on our graph. If we want to hide it and show only the long-term trends, we can use the rolling mean (also known as the moving average).\n",
    "\n"
   ]
  },
  {
   "cell_type": "code",
   "execution_count": 9,
   "metadata": {},
   "outputs": [],
   "source": [
    "euro_to_dollar['rolling_mean'] = euro_to_dollar['US_dollar'].rolling(30).mean()"
   ]
  },
  {
   "cell_type": "markdown",
   "metadata": {},
   "source": [
    "We show how the euro-dollar rate has changed during the coronavirus pandemic. We can show the 2020 data and the 2016-2019 data as a baseline. We can use a line plot."
   ]
  },
  {
   "cell_type": "markdown",
   "metadata": {},
   "source": [
    "We show how the euro-dollar rate changed during the 2007-2008 financial crisis. We can also show the data for 2006 and 2009 for comparison. We can use a line plot."
   ]
  },
  {
   "cell_type": "markdown",
   "metadata": {},
   "source": [
    "We show comparatively how the euro-dollar rate changed under the last three US presidents (George W. Bush (2001-2009), Barack Obama (2009-2017), and Donald Trump (2017-2021)). We can use a line plot."
   ]
  },
  {
   "cell_type": "markdown",
   "metadata": {},
   "source": [
    "First, we need to choose the right graph type. The graph should give our story the visual form it needs — we don't want to choose a histogram to visually represent a time series.\n",
    "\n",
    "Equally important, we need to choose something that our audience will be familiar with. To simplify your work, you can choose any audience you want for your graph.\n",
    "\n",
    "Next, we're going to sketch the graph — we do this before writing the code. In sketching the graph, it's important to use some of the principles we've learned so far:\n",
    "\n",
    "Maximize the data-ink ratio.\n",
    "Create visual patterns using Gestalt principles.\n",
    "Guide the audience's attention using pre-attentive attributes.\n",
    "\n",
    "\n",
    "Using pen and paper, sketch the graph you want to create."
   ]
  },
  {
   "cell_type": "code",
   "execution_count": null,
   "metadata": {},
   "outputs": [],
   "source": []
  },
  {
   "cell_type": "code",
   "execution_count": null,
   "metadata": {},
   "outputs": [],
   "source": []
  },
  {
   "cell_type": "code",
   "execution_count": null,
   "metadata": {},
   "outputs": [],
   "source": []
  },
  {
   "cell_type": "code",
   "execution_count": null,
   "metadata": {},
   "outputs": [],
   "source": []
  },
  {
   "cell_type": "code",
   "execution_count": null,
   "metadata": {},
   "outputs": [],
   "source": []
  },
  {
   "cell_type": "code",
   "execution_count": null,
   "metadata": {},
   "outputs": [],
   "source": []
  }
 ],
 "metadata": {
  "kernelspec": {
   "display_name": "Python 3",
   "language": "python",
   "name": "python3"
  },
  "language_info": {
   "codemirror_mode": {
    "name": "ipython",
    "version": 3
   },
   "file_extension": ".py",
   "mimetype": "text/x-python",
   "name": "python",
   "nbconvert_exporter": "python",
   "pygments_lexer": "ipython3",
   "version": "3.9.0"
  }
 },
 "nbformat": 4,
 "nbformat_minor": 4
}
