{
 "cells": [
  {
   "cell_type": "code",
   "execution_count": 15,
   "metadata": {},
   "outputs": [],
   "source": [
    "from requests import get\n",
    "url = 'https://www.imdb.com/title/tt1621748/episodes?season=1'\n",
    "response = get(url)"
   ]
  },
  {
   "cell_type": "code",
   "execution_count": 2,
   "metadata": {},
   "outputs": [],
   "source": [
    "from bs4 import BeautifulSoup\n",
    "html_soup = BeautifulSoup(response.text, 'html.parser')"
   ]
  },
  {
   "cell_type": "code",
   "execution_count": 3,
   "metadata": {},
   "outputs": [
    {
     "name": "stdout",
     "output_type": "stream",
     "text": [
      "14\n"
     ]
    }
   ],
   "source": [
    "# find containers for series of season 1\n",
    "episode_containers = html_soup.find_all('div', class_='info')\n",
    "\n",
    "# check length of the list\n",
    "print(len(episode_containers))"
   ]
  },
  {
   "cell_type": "code",
   "execution_count": 4,
   "metadata": {},
   "outputs": [
    {
     "name": "stdout",
     "output_type": "stream",
     "text": [
      "Pilot\n",
      "1\n",
      "4 Mar. 2011\n",
      "7.3\n",
      "139\n",
      "A young man helps supernatural creatures adapt to life in the city.\n"
     ]
    }
   ],
   "source": [
    "# explore the first container in the list\n",
    "print(episode_containers[0].a['title'])\n",
    "print(episode_containers[0].meta['content'])\n",
    "print(episode_containers[0].find('div', class_='airdate').text.strip())\n",
    "print(episode_containers[0].find('span', class_='ipl-rating-star__rating').text)\n",
    "print(episode_containers[0].find('span', class_='ipl-rating-star__total-votes').text.strip('()'))\n",
    "print(episode_containers[0].find('div', class_='item_description').text.strip())"
   ]
  },
  {
   "cell_type": "markdown",
   "metadata": {},
   "source": [
    "## Ugly Americans"
   ]
  },
  {
   "cell_type": "code",
   "execution_count": 5,
   "metadata": {},
   "outputs": [
    {
     "name": "stdout",
     "output_type": "stream",
     "text": [
      "['Ugly Americans', 1, 'Kong of Queens', '7', '29 Apr. 2010', '7.3', '80', \"As Mark struggles to find employment for a giant ape with OCD, Callie tries to resist Twayne's advances at a Demon Convention in Atlantic City.\"]\n"
     ]
    }
   ],
   "source": [
    "import pandas as pd\n",
    "import numpy as np\n",
    "\n",
    "# create a loop to iterate through seasons\n",
    "\n",
    "# create a list for a season loop\n",
    "ugly_americans = []\n",
    "\n",
    "# run a loop through 2 seasons\n",
    "for season in range(1, 3):\n",
    "    # request a page from the server\n",
    "    url = 'https://www.imdb.com/title/tt1621748/episodes?season=' + str(season)\n",
    "    response = get(url)\n",
    "    # parse response with Beatiful Soup\n",
    "    html_soup = BeautifulSoup(response.text, 'html.parser')\n",
    "    # find all episode containers\n",
    "    episode_containers = html_soup.find_all('div', class_='info')\n",
    "    # internal loop to collect data from episode containers\n",
    "    for e in episode_containers:\n",
    "        serie_name = 'Ugly Americans'\n",
    "        season = season\n",
    "        title = e.a['title']\n",
    "        nmb = e.meta['content']\n",
    "        date = e.find('div', class_='airdate').text.strip()\n",
    "        rating = e.find('span', class_='ipl-rating-star__rating').text\n",
    "        total_votes = e.find('span', class_='ipl-rating-star__total-votes').text.strip('()')\n",
    "        description = e.find('div', class_='item_description').text.strip()\n",
    "        episode_data = [serie_name, season, title, nmb, date, rating, total_votes, description]\n",
    "        # append to a list\n",
    "        ugly_americans.append(episode_data)\n",
    "print(ugly_americans[6])"
   ]
  },
  {
   "cell_type": "code",
   "execution_count": 6,
   "metadata": {},
   "outputs": [
    {
     "data": {
      "text/html": [
       "<div>\n",
       "<style scoped>\n",
       "    .dataframe tbody tr th:only-of-type {\n",
       "        vertical-align: middle;\n",
       "    }\n",
       "\n",
       "    .dataframe tbody tr th {\n",
       "        vertical-align: top;\n",
       "    }\n",
       "\n",
       "    .dataframe thead th {\n",
       "        text-align: right;\n",
       "    }\n",
       "</style>\n",
       "<table border=\"1\" class=\"dataframe\">\n",
       "  <thead>\n",
       "    <tr style=\"text-align: right;\">\n",
       "      <th></th>\n",
       "      <th>serie_name</th>\n",
       "      <th>season</th>\n",
       "      <th>title</th>\n",
       "      <th>nmb</th>\n",
       "      <th>date</th>\n",
       "      <th>rating</th>\n",
       "      <th>total_votes</th>\n",
       "      <th>description</th>\n",
       "    </tr>\n",
       "  </thead>\n",
       "  <tbody>\n",
       "    <tr>\n",
       "      <th>0</th>\n",
       "      <td>Ugly Americans</td>\n",
       "      <td>1</td>\n",
       "      <td>Pilot</td>\n",
       "      <td>1</td>\n",
       "      <td>4 Mar. 2011</td>\n",
       "      <td>7.3</td>\n",
       "      <td>139</td>\n",
       "      <td>A young man helps supernatural creatures adapt...</td>\n",
       "    </tr>\n",
       "    <tr>\n",
       "      <th>1</th>\n",
       "      <td>Ugly Americans</td>\n",
       "      <td>1</td>\n",
       "      <td>An American Werewolf in America</td>\n",
       "      <td>2</td>\n",
       "      <td>24 Mar. 2010</td>\n",
       "      <td>7.3</td>\n",
       "      <td>113</td>\n",
       "      <td>Mark tries to teach a Werewolf and its victim ...</td>\n",
       "    </tr>\n",
       "    <tr>\n",
       "      <th>2</th>\n",
       "      <td>Ugly Americans</td>\n",
       "      <td>1</td>\n",
       "      <td>Demon Baby</td>\n",
       "      <td>3</td>\n",
       "      <td>31 Mar. 2010</td>\n",
       "      <td>7.6</td>\n",
       "      <td>105</td>\n",
       "      <td>Callie goes baby-crazy after Mark starts foste...</td>\n",
       "    </tr>\n",
       "    <tr>\n",
       "      <th>3</th>\n",
       "      <td>Ugly Americans</td>\n",
       "      <td>1</td>\n",
       "      <td>Blob Gets Job</td>\n",
       "      <td>4</td>\n",
       "      <td>7 Apr. 2010</td>\n",
       "      <td>7.3</td>\n",
       "      <td>95</td>\n",
       "      <td>While staying with Randall's parents, Mark acc...</td>\n",
       "    </tr>\n",
       "    <tr>\n",
       "      <th>4</th>\n",
       "      <td>Ugly Americans</td>\n",
       "      <td>1</td>\n",
       "      <td>Treegasm</td>\n",
       "      <td>5</td>\n",
       "      <td>12 Apr. 2010</td>\n",
       "      <td>7.2</td>\n",
       "      <td>99</td>\n",
       "      <td>Mark meets a pair of creatures who are expecte...</td>\n",
       "    </tr>\n",
       "  </tbody>\n",
       "</table>\n",
       "</div>"
      ],
      "text/plain": [
       "       serie_name  season                            title nmb          date  \\\n",
       "0  Ugly Americans       1                            Pilot   1   4 Mar. 2011   \n",
       "1  Ugly Americans       1  An American Werewolf in America   2  24 Mar. 2010   \n",
       "2  Ugly Americans       1                       Demon Baby   3  31 Mar. 2010   \n",
       "3  Ugly Americans       1                    Blob Gets Job   4   7 Apr. 2010   \n",
       "4  Ugly Americans       1                         Treegasm   5  12 Apr. 2010   \n",
       "\n",
       "  rating total_votes                                        description  \n",
       "0    7.3         139  A young man helps supernatural creatures adapt...  \n",
       "1    7.3         113  Mark tries to teach a Werewolf and its victim ...  \n",
       "2    7.6         105  Callie goes baby-crazy after Mark starts foste...  \n",
       "3    7.3          95  While staying with Randall's parents, Mark acc...  \n",
       "4    7.2          99  Mark meets a pair of creatures who are expecte...  "
      ]
     },
     "execution_count": 6,
     "metadata": {},
     "output_type": "execute_result"
    }
   ],
   "source": [
    "# convert list of lists to dataframe\n",
    "column_names = ['serie_name', 'season', 'title', 'nmb', 'date', 'rating', 'total_votes', 'description']\n",
    "ugly_americans = pd.DataFrame(ugly_americans, columns=column_names)\n",
    "ugly_americans.head()"
   ]
  },
  {
   "cell_type": "markdown",
   "metadata": {},
   "source": [
    "## Rick and Morty"
   ]
  },
  {
   "cell_type": "code",
   "execution_count": 7,
   "metadata": {},
   "outputs": [
    {
     "name": "stdout",
     "output_type": "stream",
     "text": [
      "['Rick and Morty', 1, 'Raising Gazorpazorp', '7', '10 Mar. 2014', '8.0', '11,461', 'Morty becomes a father to an alien baby, while Rick and Summer get trapped in a dangerous dimension.']\n"
     ]
    }
   ],
   "source": [
    "# create a list for a season loop\n",
    "rick_and_morty = []\n",
    "\n",
    "# run a loop through 2 seasons\n",
    "for season in range(1, 6):\n",
    "    # request a page from the server\n",
    "    url = 'https://www.imdb.com/title/tt2861424/episodes?season=' + str(season)\n",
    "    response = get(url)\n",
    "    # parse response with Beatiful Soup\n",
    "    html_soup = BeautifulSoup(response.text, 'html.parser')\n",
    "    # find all episode containers\n",
    "    episode_containers = html_soup.find_all('div', class_='info')\n",
    "    # internal loop to collect data from episode containers\n",
    "    for e in episode_containers:\n",
    "        serie_name = 'Rick and Morty'\n",
    "        season = season\n",
    "        title = e.a['title']\n",
    "        nmb = e.meta['content']\n",
    "        date = e.find('div', class_='airdate').text.strip()\n",
    "        rating = e.find('span', class_='ipl-rating-star__rating').text\n",
    "        total_votes = e.find('span', class_='ipl-rating-star__total-votes').text.strip('()')\n",
    "        description = e.find('div', class_='item_description').text.strip()\n",
    "        episode_data = [serie_name, season, title, nmb, date, rating, total_votes, description]\n",
    "        # append to a list\n",
    "        rick_and_morty.append(episode_data)\n",
    "print(rick_and_morty[6])"
   ]
  },
  {
   "cell_type": "code",
   "execution_count": 11,
   "metadata": {},
   "outputs": [
    {
     "data": {
      "text/html": [
       "<div>\n",
       "<style scoped>\n",
       "    .dataframe tbody tr th:only-of-type {\n",
       "        vertical-align: middle;\n",
       "    }\n",
       "\n",
       "    .dataframe tbody tr th {\n",
       "        vertical-align: top;\n",
       "    }\n",
       "\n",
       "    .dataframe thead th {\n",
       "        text-align: right;\n",
       "    }\n",
       "</style>\n",
       "<table border=\"1\" class=\"dataframe\">\n",
       "  <thead>\n",
       "    <tr style=\"text-align: right;\">\n",
       "      <th></th>\n",
       "      <th>serie_name</th>\n",
       "      <th>season</th>\n",
       "      <th>title</th>\n",
       "      <th>nmb</th>\n",
       "      <th>date</th>\n",
       "      <th>rating</th>\n",
       "      <th>total_votes</th>\n",
       "      <th>description</th>\n",
       "    </tr>\n",
       "  </thead>\n",
       "  <tbody>\n",
       "    <tr>\n",
       "      <th>46</th>\n",
       "      <td>Rick and Morty</td>\n",
       "      <td>5</td>\n",
       "      <td>Rick &amp; Morty's Thanksploitation Spectacular</td>\n",
       "      <td>6</td>\n",
       "      <td>25 Jul. 2021</td>\n",
       "      <td>7.2</td>\n",
       "      <td>6,500</td>\n",
       "      <td>In this Thanksgiving episode, Rick and Morty n...</td>\n",
       "    </tr>\n",
       "    <tr>\n",
       "      <th>47</th>\n",
       "      <td>Rick and Morty</td>\n",
       "      <td>5</td>\n",
       "      <td>Gotron Jerrysis Rickvangelion</td>\n",
       "      <td>7</td>\n",
       "      <td>1 Aug. 2021</td>\n",
       "      <td>6.4</td>\n",
       "      <td>6,199</td>\n",
       "      <td>Summer enables Rick's addiction to collecting ...</td>\n",
       "    </tr>\n",
       "    <tr>\n",
       "      <th>48</th>\n",
       "      <td>Rick and Morty</td>\n",
       "      <td>5</td>\n",
       "      <td>Rickternal Friendshine of the Spotless Mort</td>\n",
       "      <td>8</td>\n",
       "      <td>8 Aug. 2021</td>\n",
       "      <td>8.4</td>\n",
       "      <td>6,230</td>\n",
       "      <td>Rick attempts to save a beloved friend.</td>\n",
       "    </tr>\n",
       "    <tr>\n",
       "      <th>49</th>\n",
       "      <td>Rick and Morty</td>\n",
       "      <td>5</td>\n",
       "      <td>Forgetting Sarick Mortshall</td>\n",
       "      <td>9</td>\n",
       "      <td>5 Sep. 2021</td>\n",
       "      <td>8.5</td>\n",
       "      <td>4,973</td>\n",
       "      <td>Rick gets new sidekicks, while Morty makes a n...</td>\n",
       "    </tr>\n",
       "    <tr>\n",
       "      <th>50</th>\n",
       "      <td>Rick and Morty</td>\n",
       "      <td>5</td>\n",
       "      <td>Rickmurai Jack</td>\n",
       "      <td>10</td>\n",
       "      <td>5 Sep. 2021</td>\n",
       "      <td>9.5</td>\n",
       "      <td>8,245</td>\n",
       "      <td>Rick is living his best anime life. Meanwhile ...</td>\n",
       "    </tr>\n",
       "  </tbody>\n",
       "</table>\n",
       "</div>"
      ],
      "text/plain": [
       "        serie_name  season                                        title nmb  \\\n",
       "46  Rick and Morty       5  Rick & Morty's Thanksploitation Spectacular   6   \n",
       "47  Rick and Morty       5                Gotron Jerrysis Rickvangelion   7   \n",
       "48  Rick and Morty       5  Rickternal Friendshine of the Spotless Mort   8   \n",
       "49  Rick and Morty       5                  Forgetting Sarick Mortshall   9   \n",
       "50  Rick and Morty       5                               Rickmurai Jack  10   \n",
       "\n",
       "            date rating total_votes  \\\n",
       "46  25 Jul. 2021    7.2       6,500   \n",
       "47   1 Aug. 2021    6.4       6,199   \n",
       "48   8 Aug. 2021    8.4       6,230   \n",
       "49   5 Sep. 2021    8.5       4,973   \n",
       "50   5 Sep. 2021    9.5       8,245   \n",
       "\n",
       "                                          description  \n",
       "46  In this Thanksgiving episode, Rick and Morty n...  \n",
       "47  Summer enables Rick's addiction to collecting ...  \n",
       "48            Rick attempts to save a beloved friend.  \n",
       "49  Rick gets new sidekicks, while Morty makes a n...  \n",
       "50  Rick is living his best anime life. Meanwhile ...  "
      ]
     },
     "execution_count": 11,
     "metadata": {},
     "output_type": "execute_result"
    }
   ],
   "source": [
    "# convert list of lists to dataframe\n",
    "column_names = ['serie_name', 'season', 'title', 'nmb', 'date', 'rating', 'total_votes', 'description']\n",
    "rick_morty = pd.DataFrame(rick_and_morty, columns=column_names)\n",
    "rick_morty.tail()"
   ]
  },
  {
   "cell_type": "markdown",
   "metadata": {},
   "source": [
    "## What We Do in the Shadows"
   ]
  },
  {
   "cell_type": "code",
   "execution_count": 16,
   "metadata": {},
   "outputs": [
    {
     "name": "stdout",
     "output_type": "stream",
     "text": [
      "['What We Do in the Shadows', 1, \"Baron's Night Out\", '6', '6 Feb. 2020', '8.9', '2,207', 'The Baron awakens from his slumber and demands to experience the wonders of the New World in a night out in the town.']\n"
     ]
    }
   ],
   "source": [
    "# create a list for a season loop\n",
    "shadows = []\n",
    "\n",
    "# run a loop through 2 seasons\n",
    "for season in range(1, 4):\n",
    "    # request a page from the server\n",
    "    url = 'https://www.imdb.com/title/tt7908628/episodes?season=' + str(season)\n",
    "    response = get(url)\n",
    "    # parse response with Beatiful Soup\n",
    "    html_soup = BeautifulSoup(response.text, 'html.parser')\n",
    "    # find all episode containers\n",
    "    episode_containers = html_soup.find_all('div', class_='info')\n",
    "    # internal loop to collect data from episode containers\n",
    "    for e in episode_containers:\n",
    "        serie_name = 'What We Do in the Shadows'\n",
    "        season = season\n",
    "        title = e.a['title']\n",
    "        nmb = e.meta['content']\n",
    "        date = e.find('div', class_='airdate').text.strip()\n",
    "        rating = e.find('span', class_='ipl-rating-star__rating').text\n",
    "        total_votes = e.find('span', class_='ipl-rating-star__total-votes').text.strip('()')\n",
    "        description = e.find('div', class_='item_description').text.strip()\n",
    "        episode_data = [serie_name, season, title, nmb, date, rating, total_votes, description]\n",
    "        # append to a list\n",
    "        shadows.append(episode_data)\n",
    "print(shadows[5])"
   ]
  },
  {
   "cell_type": "code",
   "execution_count": 17,
   "metadata": {},
   "outputs": [
    {
     "data": {
      "text/html": [
       "<div>\n",
       "<style scoped>\n",
       "    .dataframe tbody tr th:only-of-type {\n",
       "        vertical-align: middle;\n",
       "    }\n",
       "\n",
       "    .dataframe tbody tr th {\n",
       "        vertical-align: top;\n",
       "    }\n",
       "\n",
       "    .dataframe thead th {\n",
       "        text-align: right;\n",
       "    }\n",
       "</style>\n",
       "<table border=\"1\" class=\"dataframe\">\n",
       "  <thead>\n",
       "    <tr style=\"text-align: right;\">\n",
       "      <th></th>\n",
       "      <th>serie_name</th>\n",
       "      <th>season</th>\n",
       "      <th>title</th>\n",
       "      <th>nmb</th>\n",
       "      <th>date</th>\n",
       "      <th>rating</th>\n",
       "      <th>total_votes</th>\n",
       "      <th>description</th>\n",
       "    </tr>\n",
       "  </thead>\n",
       "  <tbody>\n",
       "    <tr>\n",
       "      <th>25</th>\n",
       "      <td>What We Do in the Shadows</td>\n",
       "      <td>3</td>\n",
       "      <td>The Escape</td>\n",
       "      <td>6</td>\n",
       "      <td>30 Sep. 2021</td>\n",
       "      <td>8.8</td>\n",
       "      <td>986</td>\n",
       "      <td>An ancient beast escapes and threatens the exi...</td>\n",
       "    </tr>\n",
       "    <tr>\n",
       "      <th>26</th>\n",
       "      <td>What We Do in the Shadows</td>\n",
       "      <td>3</td>\n",
       "      <td>The Siren</td>\n",
       "      <td>7</td>\n",
       "      <td>7 Oct. 2021</td>\n",
       "      <td>7.8</td>\n",
       "      <td>762</td>\n",
       "      <td>Two travelers are shipwrecked and a doll runs ...</td>\n",
       "    </tr>\n",
       "    <tr>\n",
       "      <th>27</th>\n",
       "      <td>What We Do in the Shadows</td>\n",
       "      <td>3</td>\n",
       "      <td>The Wellness Center</td>\n",
       "      <td>8</td>\n",
       "      <td>14 Oct. 2021</td>\n",
       "      <td>8.5</td>\n",
       "      <td>843</td>\n",
       "      <td>Nandor is persuaded to reject vampirism and pu...</td>\n",
       "    </tr>\n",
       "    <tr>\n",
       "      <th>28</th>\n",
       "      <td>What We Do in the Shadows</td>\n",
       "      <td>3</td>\n",
       "      <td>A Farewell</td>\n",
       "      <td>9</td>\n",
       "      <td>21 Oct. 2021</td>\n",
       "      <td>8.7</td>\n",
       "      <td>756</td>\n",
       "      <td>Colin has a birthday and a vampire says goodbye.</td>\n",
       "    </tr>\n",
       "    <tr>\n",
       "      <th>29</th>\n",
       "      <td>What We Do in the Shadows</td>\n",
       "      <td>3</td>\n",
       "      <td>The Portrait</td>\n",
       "      <td>10</td>\n",
       "      <td>28 Oct. 2021</td>\n",
       "      <td>8.9</td>\n",
       "      <td>815</td>\n",
       "      <td>The housemates grieve the loss of one of their...</td>\n",
       "    </tr>\n",
       "  </tbody>\n",
       "</table>\n",
       "</div>"
      ],
      "text/plain": [
       "                   serie_name  season                title nmb          date  \\\n",
       "25  What We Do in the Shadows       3           The Escape   6  30 Sep. 2021   \n",
       "26  What We Do in the Shadows       3            The Siren   7   7 Oct. 2021   \n",
       "27  What We Do in the Shadows       3  The Wellness Center   8  14 Oct. 2021   \n",
       "28  What We Do in the Shadows       3           A Farewell   9  21 Oct. 2021   \n",
       "29  What We Do in the Shadows       3         The Portrait  10  28 Oct. 2021   \n",
       "\n",
       "   rating total_votes                                        description  \n",
       "25    8.8         986  An ancient beast escapes and threatens the exi...  \n",
       "26    7.8         762  Two travelers are shipwrecked and a doll runs ...  \n",
       "27    8.5         843  Nandor is persuaded to reject vampirism and pu...  \n",
       "28    8.7         756   Colin has a birthday and a vampire says goodbye.  \n",
       "29    8.9         815  The housemates grieve the loss of one of their...  "
      ]
     },
     "execution_count": 17,
     "metadata": {},
     "output_type": "execute_result"
    }
   ],
   "source": [
    "# convert list of lists to dataframe\n",
    "column_names = ['serie_name', 'season', 'title', 'nmb', 'date', 'rating', 'total_votes', 'description']\n",
    "shadows = pd.DataFrame(shadows, columns=column_names)\n",
    "shadows.tail()"
   ]
  },
  {
   "cell_type": "markdown",
   "metadata": {},
   "source": [
    "## Black Mirror"
   ]
  },
  {
   "cell_type": "code",
   "execution_count": 18,
   "metadata": {},
   "outputs": [
    {
     "name": "stdout",
     "output_type": "stream",
     "text": [
      "['Black Mirror', 2, 'The Waldo Moment', '3', '21 Oct. 2016', '6.6', '37,039', 'A failed comedian who voices a popular cartoon bear named Waldo finds himself mixing in politics when TV executives want Waldo to run for office.']\n"
     ]
    }
   ],
   "source": [
    "# create a list for a season loop\n",
    "mirror = []\n",
    "\n",
    "# run a loop through 2 seasons\n",
    "for season in range(1, 4):\n",
    "    # request a page from the server\n",
    "    url = 'https://www.imdb.com/title/tt2085059/episodes?season=' + str(season)\n",
    "    response = get(url)\n",
    "    # parse response with Beatiful Soup\n",
    "    html_soup = BeautifulSoup(response.text, 'html.parser')\n",
    "    # find all episode containers\n",
    "    episode_containers = html_soup.find_all('div', class_='info')\n",
    "    # internal loop to collect data from episode containers\n",
    "    for e in episode_containers:\n",
    "        serie_name = 'Black Mirror'\n",
    "        season = season\n",
    "        title = e.a['title']\n",
    "        nmb = e.meta['content']\n",
    "        date = e.find('div', class_='airdate').text.strip()\n",
    "        rating = e.find('span', class_='ipl-rating-star__rating').text\n",
    "        total_votes = e.find('span', class_='ipl-rating-star__total-votes').text.strip('()')\n",
    "        description = e.find('div', class_='item_description').text.strip()\n",
    "        episode_data = [serie_name, season, title, nmb, date, rating, total_votes, description]\n",
    "        # append to a list\n",
    "        mirror.append(episode_data)\n",
    "print(mirror[5])"
   ]
  },
  {
   "cell_type": "code",
   "execution_count": 20,
   "metadata": {},
   "outputs": [
    {
     "data": {
      "text/html": [
       "<div>\n",
       "<style scoped>\n",
       "    .dataframe tbody tr th:only-of-type {\n",
       "        vertical-align: middle;\n",
       "    }\n",
       "\n",
       "    .dataframe tbody tr th {\n",
       "        vertical-align: top;\n",
       "    }\n",
       "\n",
       "    .dataframe thead th {\n",
       "        text-align: right;\n",
       "    }\n",
       "</style>\n",
       "<table border=\"1\" class=\"dataframe\">\n",
       "  <thead>\n",
       "    <tr style=\"text-align: right;\">\n",
       "      <th></th>\n",
       "      <th>serie_name</th>\n",
       "      <th>season</th>\n",
       "      <th>title</th>\n",
       "      <th>nmb</th>\n",
       "      <th>date</th>\n",
       "      <th>rating</th>\n",
       "      <th>total_votes</th>\n",
       "      <th>description</th>\n",
       "    </tr>\n",
       "  </thead>\n",
       "  <tbody>\n",
       "    <tr>\n",
       "      <th>8</th>\n",
       "      <td>Black Mirror</td>\n",
       "      <td>3</td>\n",
       "      <td>Playtest</td>\n",
       "      <td>2</td>\n",
       "      <td>21 Oct. 2016</td>\n",
       "      <td>8.1</td>\n",
       "      <td>44,479</td>\n",
       "      <td>An American traveler short on cash signs up to...</td>\n",
       "    </tr>\n",
       "    <tr>\n",
       "      <th>9</th>\n",
       "      <td>Black Mirror</td>\n",
       "      <td>3</td>\n",
       "      <td>Shut Up and Dance</td>\n",
       "      <td>3</td>\n",
       "      <td>21 Oct. 2016</td>\n",
       "      <td>8.5</td>\n",
       "      <td>46,237</td>\n",
       "      <td>When withdrawn Kenny stumbles headlong into an...</td>\n",
       "    </tr>\n",
       "    <tr>\n",
       "      <th>10</th>\n",
       "      <td>Black Mirror</td>\n",
       "      <td>3</td>\n",
       "      <td>San Junipero</td>\n",
       "      <td>4</td>\n",
       "      <td>21 Oct. 2016</td>\n",
       "      <td>8.6</td>\n",
       "      <td>55,900</td>\n",
       "      <td>When Yorkie and Kelly visit San Junipero, a fu...</td>\n",
       "    </tr>\n",
       "    <tr>\n",
       "      <th>11</th>\n",
       "      <td>Black Mirror</td>\n",
       "      <td>3</td>\n",
       "      <td>Men Against Fire</td>\n",
       "      <td>5</td>\n",
       "      <td>21 Oct. 2016</td>\n",
       "      <td>7.6</td>\n",
       "      <td>34,515</td>\n",
       "      <td>Future soldiers Stripe and Raiman must protect...</td>\n",
       "    </tr>\n",
       "    <tr>\n",
       "      <th>12</th>\n",
       "      <td>Black Mirror</td>\n",
       "      <td>3</td>\n",
       "      <td>Hated in the Nation</td>\n",
       "      <td>6</td>\n",
       "      <td>21 Oct. 2016</td>\n",
       "      <td>8.5</td>\n",
       "      <td>39,566</td>\n",
       "      <td>In near-future London, police detective Karin ...</td>\n",
       "    </tr>\n",
       "  </tbody>\n",
       "</table>\n",
       "</div>"
      ],
      "text/plain": [
       "      serie_name  season                title nmb          date rating  \\\n",
       "8   Black Mirror       3             Playtest   2  21 Oct. 2016    8.1   \n",
       "9   Black Mirror       3    Shut Up and Dance   3  21 Oct. 2016    8.5   \n",
       "10  Black Mirror       3         San Junipero   4  21 Oct. 2016    8.6   \n",
       "11  Black Mirror       3     Men Against Fire   5  21 Oct. 2016    7.6   \n",
       "12  Black Mirror       3  Hated in the Nation   6  21 Oct. 2016    8.5   \n",
       "\n",
       "   total_votes                                        description  \n",
       "8       44,479  An American traveler short on cash signs up to...  \n",
       "9       46,237  When withdrawn Kenny stumbles headlong into an...  \n",
       "10      55,900  When Yorkie and Kelly visit San Junipero, a fu...  \n",
       "11      34,515  Future soldiers Stripe and Raiman must protect...  \n",
       "12      39,566  In near-future London, police detective Karin ...  "
      ]
     },
     "execution_count": 20,
     "metadata": {},
     "output_type": "execute_result"
    }
   ],
   "source": [
    "# convert list of lists to dataframe\n",
    "column_names = ['serie_name', 'season', 'title', 'nmb', 'date', 'rating', 'total_votes', 'description']\n",
    "mirror = pd.DataFrame(mirror, columns=column_names)\n",
    "mirror.tail()"
   ]
  },
  {
   "cell_type": "markdown",
   "metadata": {},
   "source": [
    "## Sealab 2021"
   ]
  },
  {
   "cell_type": "code",
   "execution_count": 21,
   "metadata": {},
   "outputs": [
    {
     "name": "stdout",
     "output_type": "stream",
     "text": [
      "['Sealab 2021', 1, 'Predator', '5', '16 Sep. 2001', '7.4', '86', \"A bloodthirsty, killer alien has boarded Sealab, and trapped the entire crew. His shimmering form is seemingly everywhere, rending flesh from human bones, as the remaining survivors cower on the bridge. Once again, it's up to the brave Dr. Quinn (with a little help from Old Gus and Dolphin Boy) to save the day.\"]\n"
     ]
    }
   ],
   "source": [
    "# create a list for a season loop\n",
    "sealab = []\n",
    "\n",
    "# run a loop through 2 seasons\n",
    "for season in range(1, 6):\n",
    "    # request a page from the server\n",
    "    url = 'https://www.imdb.com/title/tt0278877/episodes?season=' + str(season)\n",
    "    response = get(url)\n",
    "    # parse response with Beatiful Soup\n",
    "    html_soup = BeautifulSoup(response.text, 'html.parser')\n",
    "    # find all episode containers\n",
    "    episode_containers = html_soup.find_all('div', class_='info')\n",
    "    # internal loop to collect data from episode containers\n",
    "    for e in episode_containers:\n",
    "        serie_name = 'Sealab 2021'\n",
    "        season = season\n",
    "        title = e.a['title']\n",
    "        nmb = e.meta['content']\n",
    "        date = e.find('div', class_='airdate').text.strip()\n",
    "        rating = e.find('span', class_='ipl-rating-star__rating').text\n",
    "        total_votes = e.find('span', class_='ipl-rating-star__total-votes').text.strip('()')\n",
    "        description = e.find('div', class_='item_description').text.strip()\n",
    "        episode_data = [serie_name, season, title, nmb, date, rating, total_votes, description]\n",
    "        # append to a list\n",
    "        sealab.append(episode_data)\n",
    "print(sealab[5])"
   ]
  },
  {
   "cell_type": "code",
   "execution_count": 23,
   "metadata": {},
   "outputs": [
    {
     "data": {
      "text/html": [
       "<div>\n",
       "<style scoped>\n",
       "    .dataframe tbody tr th:only-of-type {\n",
       "        vertical-align: middle;\n",
       "    }\n",
       "\n",
       "    .dataframe tbody tr th {\n",
       "        vertical-align: top;\n",
       "    }\n",
       "\n",
       "    .dataframe thead th {\n",
       "        text-align: right;\n",
       "    }\n",
       "</style>\n",
       "<table border=\"1\" class=\"dataframe\">\n",
       "  <thead>\n",
       "    <tr style=\"text-align: right;\">\n",
       "      <th></th>\n",
       "      <th>serie_name</th>\n",
       "      <th>season</th>\n",
       "      <th>title</th>\n",
       "      <th>nmb</th>\n",
       "      <th>date</th>\n",
       "      <th>rating</th>\n",
       "      <th>total_votes</th>\n",
       "      <th>description</th>\n",
       "    </tr>\n",
       "  </thead>\n",
       "  <tbody>\n",
       "    <tr>\n",
       "      <th>48</th>\n",
       "      <td>Sealab 2021</td>\n",
       "      <td>5</td>\n",
       "      <td>Shrabster</td>\n",
       "      <td>4</td>\n",
       "      <td>28 Mar. 2005</td>\n",
       "      <td>7.2</td>\n",
       "      <td>41</td>\n",
       "      <td>Quinn creates a hybrid crustacean to reproduce...</td>\n",
       "    </tr>\n",
       "    <tr>\n",
       "      <th>49</th>\n",
       "      <td>Sealab 2021</td>\n",
       "      <td>5</td>\n",
       "      <td>Cavemen</td>\n",
       "      <td>5</td>\n",
       "      <td>4 Apr. 2005</td>\n",
       "      <td>6.7</td>\n",
       "      <td>37</td>\n",
       "      <td>Quinn and Stormy are stranded in an underwater...</td>\n",
       "    </tr>\n",
       "    <tr>\n",
       "      <th>50</th>\n",
       "      <td>Sealab 2021</td>\n",
       "      <td>5</td>\n",
       "      <td>Moby Sick</td>\n",
       "      <td>6</td>\n",
       "      <td>11 Apr. 2005</td>\n",
       "      <td>6.8</td>\n",
       "      <td>40</td>\n",
       "      <td>Quinn is faced with a dilemma after being appr...</td>\n",
       "    </tr>\n",
       "    <tr>\n",
       "      <th>51</th>\n",
       "      <td>Sealab 2021</td>\n",
       "      <td>5</td>\n",
       "      <td>No Waterworld</td>\n",
       "      <td>7</td>\n",
       "      <td>18 Apr. 2005</td>\n",
       "      <td>6.9</td>\n",
       "      <td>37</td>\n",
       "      <td>The water surrounding Sealab suddenly disappea...</td>\n",
       "    </tr>\n",
       "    <tr>\n",
       "      <th>52</th>\n",
       "      <td>Sealab 2021</td>\n",
       "      <td>5</td>\n",
       "      <td>Legacy of Laughter</td>\n",
       "      <td>8</td>\n",
       "      <td>25 Apr. 2005</td>\n",
       "      <td>6.3</td>\n",
       "      <td>38</td>\n",
       "      <td>The series finale done as an interview special...</td>\n",
       "    </tr>\n",
       "  </tbody>\n",
       "</table>\n",
       "</div>"
      ],
      "text/plain": [
       "     serie_name  season               title nmb          date rating  \\\n",
       "48  Sealab 2021       5           Shrabster   4  28 Mar. 2005    7.2   \n",
       "49  Sealab 2021       5             Cavemen   5   4 Apr. 2005    6.7   \n",
       "50  Sealab 2021       5           Moby Sick   6  11 Apr. 2005    6.8   \n",
       "51  Sealab 2021       5       No Waterworld   7  18 Apr. 2005    6.9   \n",
       "52  Sealab 2021       5  Legacy of Laughter   8  25 Apr. 2005    6.3   \n",
       "\n",
       "   total_votes                                        description  \n",
       "48          41  Quinn creates a hybrid crustacean to reproduce...  \n",
       "49          37  Quinn and Stormy are stranded in an underwater...  \n",
       "50          40  Quinn is faced with a dilemma after being appr...  \n",
       "51          37  The water surrounding Sealab suddenly disappea...  \n",
       "52          38  The series finale done as an interview special...  "
      ]
     },
     "execution_count": 23,
     "metadata": {},
     "output_type": "execute_result"
    }
   ],
   "source": [
    "# convert list of lists to dataframe\n",
    "column_names = ['serie_name', 'season', 'title', 'nmb', 'date', 'rating', 'total_votes', 'description']\n",
    "sealab = pd.DataFrame(sealab, columns=column_names)\n",
    "sealab.tail()"
   ]
  },
  {
   "cell_type": "code",
   "execution_count": 32,
   "metadata": {},
   "outputs": [
    {
     "data": {
      "text/plain": [
       "serie_name                                        Ugly Americans\n",
       "season                                                         2\n",
       "title                                            The Dork Knight\n",
       "nmb                                                           16\n",
       "date                                                18 Apr. 2012\n",
       "rating                                                       7.9\n",
       "total_votes                                                   48\n",
       "description    Mark becomes a masked crimefighter and wages w...\n",
       "Name: 29, dtype: object"
      ]
     },
     "execution_count": 32,
     "metadata": {},
     "output_type": "execute_result"
    }
   ],
   "source": [
    "# merge dataframes\n",
    "series = pd.concat([ugly_americans, rick_morty, mirror, sealab], ignore_index=True)\n",
    "series.iloc[29]"
   ]
  },
  {
   "cell_type": "code",
   "execution_count": 37,
   "metadata": {},
   "outputs": [
    {
     "ename": "AttributeError",
     "evalue": "Can only use .str accessor with string values!",
     "output_type": "error",
     "traceback": [
      "\u001b[0;31m---------------------------------------------------------------------------\u001b[0m",
      "\u001b[0;31mAttributeError\u001b[0m                            Traceback (most recent call last)",
      "\u001b[0;32m<ipython-input-37-cbaaae3b3c1b>\u001b[0m in \u001b[0;36m<module>\u001b[0;34m\u001b[0m\n\u001b[1;32m      1\u001b[0m \u001b[0;31m# get rid of comma separators in total_votes column\u001b[0m\u001b[0;34m\u001b[0m\u001b[0;34m\u001b[0m\u001b[0;34m\u001b[0m\u001b[0m\n\u001b[0;32m----> 2\u001b[0;31m \u001b[0mseries\u001b[0m\u001b[0;34m[\u001b[0m\u001b[0;34m'total_votes'\u001b[0m\u001b[0;34m]\u001b[0m \u001b[0;34m=\u001b[0m \u001b[0mseries\u001b[0m\u001b[0;34m[\u001b[0m\u001b[0;34m'total_votes'\u001b[0m\u001b[0;34m]\u001b[0m\u001b[0;34m.\u001b[0m\u001b[0mstr\u001b[0m\u001b[0;34m.\u001b[0m\u001b[0mreplace\u001b[0m\u001b[0;34m(\u001b[0m\u001b[0;34m','\u001b[0m\u001b[0;34m,\u001b[0m \u001b[0;34m''\u001b[0m\u001b[0;34m)\u001b[0m\u001b[0;34m\u001b[0m\u001b[0;34m\u001b[0m\u001b[0m\n\u001b[0m\u001b[1;32m      3\u001b[0m \u001b[0;34m\u001b[0m\u001b[0m\n\u001b[1;32m      4\u001b[0m \u001b[0;31m# convert several columns to numeric\u001b[0m\u001b[0;34m\u001b[0m\u001b[0;34m\u001b[0m\u001b[0;34m\u001b[0m\u001b[0m\n\u001b[1;32m      5\u001b[0m \u001b[0mcols\u001b[0m \u001b[0;34m=\u001b[0m \u001b[0;34m[\u001b[0m\u001b[0;34m'nmb'\u001b[0m\u001b[0;34m,\u001b[0m \u001b[0;34m'rating'\u001b[0m\u001b[0;34m,\u001b[0m \u001b[0;34m'total_votes'\u001b[0m\u001b[0;34m]\u001b[0m\u001b[0;34m\u001b[0m\u001b[0;34m\u001b[0m\u001b[0m\n",
      "\u001b[0;32m~/.pyenv/versions/3.9.0/lib/python3.9/site-packages/pandas/core/generic.py\u001b[0m in \u001b[0;36m__getattr__\u001b[0;34m(self, name)\u001b[0m\n\u001b[1;32m   5454\u001b[0m             \u001b[0;32mor\u001b[0m \u001b[0mname\u001b[0m \u001b[0;32min\u001b[0m \u001b[0mself\u001b[0m\u001b[0;34m.\u001b[0m\u001b[0m_accessors\u001b[0m\u001b[0;34m\u001b[0m\u001b[0;34m\u001b[0m\u001b[0m\n\u001b[1;32m   5455\u001b[0m         ):\n\u001b[0;32m-> 5456\u001b[0;31m             \u001b[0;32mreturn\u001b[0m \u001b[0mobject\u001b[0m\u001b[0;34m.\u001b[0m\u001b[0m__getattribute__\u001b[0m\u001b[0;34m(\u001b[0m\u001b[0mself\u001b[0m\u001b[0;34m,\u001b[0m \u001b[0mname\u001b[0m\u001b[0;34m)\u001b[0m\u001b[0;34m\u001b[0m\u001b[0;34m\u001b[0m\u001b[0m\n\u001b[0m\u001b[1;32m   5457\u001b[0m         \u001b[0;32melse\u001b[0m\u001b[0;34m:\u001b[0m\u001b[0;34m\u001b[0m\u001b[0;34m\u001b[0m\u001b[0m\n\u001b[1;32m   5458\u001b[0m             \u001b[0;32mif\u001b[0m \u001b[0mself\u001b[0m\u001b[0;34m.\u001b[0m\u001b[0m_info_axis\u001b[0m\u001b[0;34m.\u001b[0m\u001b[0m_can_hold_identifiers_and_holds_name\u001b[0m\u001b[0;34m(\u001b[0m\u001b[0mname\u001b[0m\u001b[0;34m)\u001b[0m\u001b[0;34m:\u001b[0m\u001b[0;34m\u001b[0m\u001b[0;34m\u001b[0m\u001b[0m\n",
      "\u001b[0;32m~/.pyenv/versions/3.9.0/lib/python3.9/site-packages/pandas/core/accessor.py\u001b[0m in \u001b[0;36m__get__\u001b[0;34m(self, obj, cls)\u001b[0m\n\u001b[1;32m    178\u001b[0m             \u001b[0;31m# we're accessing the attribute of the class, i.e., Dataset.geo\u001b[0m\u001b[0;34m\u001b[0m\u001b[0;34m\u001b[0m\u001b[0;34m\u001b[0m\u001b[0m\n\u001b[1;32m    179\u001b[0m             \u001b[0;32mreturn\u001b[0m \u001b[0mself\u001b[0m\u001b[0;34m.\u001b[0m\u001b[0m_accessor\u001b[0m\u001b[0;34m\u001b[0m\u001b[0;34m\u001b[0m\u001b[0m\n\u001b[0;32m--> 180\u001b[0;31m         \u001b[0maccessor_obj\u001b[0m \u001b[0;34m=\u001b[0m \u001b[0mself\u001b[0m\u001b[0;34m.\u001b[0m\u001b[0m_accessor\u001b[0m\u001b[0;34m(\u001b[0m\u001b[0mobj\u001b[0m\u001b[0;34m)\u001b[0m\u001b[0;34m\u001b[0m\u001b[0;34m\u001b[0m\u001b[0m\n\u001b[0m\u001b[1;32m    181\u001b[0m         \u001b[0;31m# Replace the property with the accessor object. Inspired by:\u001b[0m\u001b[0;34m\u001b[0m\u001b[0;34m\u001b[0m\u001b[0;34m\u001b[0m\u001b[0m\n\u001b[1;32m    182\u001b[0m         \u001b[0;31m# https://www.pydanny.com/cached-property.html\u001b[0m\u001b[0;34m\u001b[0m\u001b[0;34m\u001b[0m\u001b[0;34m\u001b[0m\u001b[0m\n",
      "\u001b[0;32m~/.pyenv/versions/3.9.0/lib/python3.9/site-packages/pandas/core/strings/accessor.py\u001b[0m in \u001b[0;36m__init__\u001b[0;34m(self, data)\u001b[0m\n\u001b[1;32m    152\u001b[0m         \u001b[0;32mfrom\u001b[0m \u001b[0mpandas\u001b[0m\u001b[0;34m.\u001b[0m\u001b[0mcore\u001b[0m\u001b[0;34m.\u001b[0m\u001b[0marrays\u001b[0m\u001b[0;34m.\u001b[0m\u001b[0mstring_\u001b[0m \u001b[0;32mimport\u001b[0m \u001b[0mStringDtype\u001b[0m\u001b[0;34m\u001b[0m\u001b[0;34m\u001b[0m\u001b[0m\n\u001b[1;32m    153\u001b[0m \u001b[0;34m\u001b[0m\u001b[0m\n\u001b[0;32m--> 154\u001b[0;31m         \u001b[0mself\u001b[0m\u001b[0;34m.\u001b[0m\u001b[0m_inferred_dtype\u001b[0m \u001b[0;34m=\u001b[0m \u001b[0mself\u001b[0m\u001b[0;34m.\u001b[0m\u001b[0m_validate\u001b[0m\u001b[0;34m(\u001b[0m\u001b[0mdata\u001b[0m\u001b[0;34m)\u001b[0m\u001b[0;34m\u001b[0m\u001b[0;34m\u001b[0m\u001b[0m\n\u001b[0m\u001b[1;32m    155\u001b[0m         \u001b[0mself\u001b[0m\u001b[0;34m.\u001b[0m\u001b[0m_is_categorical\u001b[0m \u001b[0;34m=\u001b[0m \u001b[0mis_categorical_dtype\u001b[0m\u001b[0;34m(\u001b[0m\u001b[0mdata\u001b[0m\u001b[0;34m.\u001b[0m\u001b[0mdtype\u001b[0m\u001b[0;34m)\u001b[0m\u001b[0;34m\u001b[0m\u001b[0;34m\u001b[0m\u001b[0m\n\u001b[1;32m    156\u001b[0m         \u001b[0mself\u001b[0m\u001b[0;34m.\u001b[0m\u001b[0m_is_string\u001b[0m \u001b[0;34m=\u001b[0m \u001b[0misinstance\u001b[0m\u001b[0;34m(\u001b[0m\u001b[0mdata\u001b[0m\u001b[0;34m.\u001b[0m\u001b[0mdtype\u001b[0m\u001b[0;34m,\u001b[0m \u001b[0mStringDtype\u001b[0m\u001b[0;34m)\u001b[0m\u001b[0;34m\u001b[0m\u001b[0;34m\u001b[0m\u001b[0m\n",
      "\u001b[0;32m~/.pyenv/versions/3.9.0/lib/python3.9/site-packages/pandas/core/strings/accessor.py\u001b[0m in \u001b[0;36m_validate\u001b[0;34m(data)\u001b[0m\n\u001b[1;32m    216\u001b[0m \u001b[0;34m\u001b[0m\u001b[0m\n\u001b[1;32m    217\u001b[0m         \u001b[0;32mif\u001b[0m \u001b[0minferred_dtype\u001b[0m \u001b[0;32mnot\u001b[0m \u001b[0;32min\u001b[0m \u001b[0mallowed_types\u001b[0m\u001b[0;34m:\u001b[0m\u001b[0;34m\u001b[0m\u001b[0;34m\u001b[0m\u001b[0m\n\u001b[0;32m--> 218\u001b[0;31m             \u001b[0;32mraise\u001b[0m \u001b[0mAttributeError\u001b[0m\u001b[0;34m(\u001b[0m\u001b[0;34m\"Can only use .str accessor with string values!\"\u001b[0m\u001b[0;34m)\u001b[0m\u001b[0;34m\u001b[0m\u001b[0;34m\u001b[0m\u001b[0m\n\u001b[0m\u001b[1;32m    219\u001b[0m         \u001b[0;32mreturn\u001b[0m \u001b[0minferred_dtype\u001b[0m\u001b[0;34m\u001b[0m\u001b[0;34m\u001b[0m\u001b[0m\n\u001b[1;32m    220\u001b[0m \u001b[0;34m\u001b[0m\u001b[0m\n",
      "\u001b[0;31mAttributeError\u001b[0m: Can only use .str accessor with string values!"
     ]
    }
   ],
   "source": [
    "# get rid of comma separators in total_votes column\n",
    "series['total_votes'] = series['total_votes'].str.replace(',', '')\n",
    "\n",
    "# convert several columns to numeric\n",
    "cols = ['nmb', 'rating', 'total_votes']\n",
    "series[cols] = series[cols].apply(pd.to_numeric)"
   ]
  },
  {
   "cell_type": "code",
   "execution_count": 38,
   "metadata": {},
   "outputs": [
    {
     "name": "stdout",
     "output_type": "stream",
     "text": [
      "<class 'pandas.core.frame.DataFrame'>\n",
      "RangeIndex: 148 entries, 0 to 147\n",
      "Data columns (total 8 columns):\n",
      " #   Column       Non-Null Count  Dtype  \n",
      "---  ------       --------------  -----  \n",
      " 0   serie_name   148 non-null    object \n",
      " 1   season       148 non-null    int64  \n",
      " 2   title        148 non-null    object \n",
      " 3   nmb          148 non-null    int64  \n",
      " 4   date         148 non-null    object \n",
      " 5   rating       148 non-null    float64\n",
      " 6   total_votes  148 non-null    int64  \n",
      " 7   description  148 non-null    object \n",
      "dtypes: float64(1), int64(3), object(4)\n",
      "memory usage: 9.4+ KB\n"
     ]
    }
   ],
   "source": [
    "series.info()"
   ]
  },
  {
   "cell_type": "code",
   "execution_count": 39,
   "metadata": {},
   "outputs": [],
   "source": [
    "series['date'] = pd.to_datetime(series['date'])"
   ]
  },
  {
   "cell_type": "code",
   "execution_count": 42,
   "metadata": {},
   "outputs": [
    {
     "name": "stdout",
     "output_type": "stream",
     "text": [
      "<class 'pandas.core.frame.DataFrame'>\n",
      "RangeIndex: 148 entries, 0 to 147\n",
      "Data columns (total 8 columns):\n",
      " #   Column       Non-Null Count  Dtype         \n",
      "---  ------       --------------  -----         \n",
      " 0   serie_name   148 non-null    object        \n",
      " 1   season       148 non-null    int64         \n",
      " 2   title        148 non-null    object        \n",
      " 3   nmb          148 non-null    int64         \n",
      " 4   date         148 non-null    datetime64[ns]\n",
      " 5   rating       148 non-null    float64       \n",
      " 6   total_votes  148 non-null    int64         \n",
      " 7   description  148 non-null    object        \n",
      "dtypes: datetime64[ns](1), float64(1), int64(3), object(3)\n",
      "memory usage: 9.4+ KB\n"
     ]
    }
   ],
   "source": [
    "series.info()"
   ]
  }
 ],
 "metadata": {
  "kernelspec": {
   "display_name": "Python 3",
   "language": "python",
   "name": "python3"
  },
  "language_info": {
   "codemirror_mode": {
    "name": "ipython",
    "version": 3
   },
   "file_extension": ".py",
   "mimetype": "text/x-python",
   "name": "python",
   "nbconvert_exporter": "python",
   "pygments_lexer": "ipython3",
   "version": "3.9.0"
  }
 },
 "nbformat": 4,
 "nbformat_minor": 4
}
