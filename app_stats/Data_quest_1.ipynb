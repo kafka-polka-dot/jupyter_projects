{
 "cells": [
  {
   "cell_type": "markdown",
   "metadata": {},
   "source": [
    "# Profitable App Profiles for the App Store and Google Play Markets\n",
    "\n",
    "The _goal_ of that project is to analyze data to understand what type of apps are likely to attract more users on Google Play and the App Store. To do this, I'll need to collect, explore and analyze data about mobile apps available on these platforms.\n",
    "\n",
    "As of September 2018, there were approximately 2 million iOS apps available on the App Store, and 2.1 million Android apps on Google Play. Datasets that will be used in my analysis were found at Kaggle [here](https://www.kaggle.com/ramamet4/app-store-apple-data-set-10k-apps/metadata) and [here](https://www.kaggle.com/ramamet4/app-store-apple-data-set-10k-apps/metadata) and were scraped from roughly at the same time, in 2018.\n",
    "\n",
    "## Datasets\n",
    "- A data set containing data about approximately 10,000 Android apps from Google Play. You can download the data set directly from [this link](https://dq-content.s3.amazonaws.com/350/googleplaystore.csv).\n",
    "- A data set containing data about approximately 7,000 iOS apps from the App Store. You can download the data set directly from [this link](https://dq-content.s3.amazonaws.com/350/AppleStore.csv).\n",
    "\n",
    "### Open datasets\n",
    "\n",
    "The first step is to open csv files 'AppleStore.csv' and 'googleplaystore.csv'. For that task I have created a function read_csv()."
   ]
  },
  {
   "cell_type": "code",
   "execution_count": 1,
   "metadata": {},
   "outputs": [],
   "source": [
    "from csv import reader\n",
    "\n",
    "# create a function to read csv files\n",
    "def read_csv(csv):\n",
    "    opened_csv = open(csv)\n",
    "    read_csv = reader(opened_csv)\n",
    "    dataset = list(read_csv)\n",
    "    return dataset\n",
    "\n",
    "# read Apple Store\n",
    "ios = read_csv('AppleStore.csv')\n",
    "header_ios = ios[0]\n",
    "ios = ios[1:]\n",
    "\n",
    "# read Google Play Store\n",
    "android = read_csv('googleplaystore.csv')\n",
    "header_android = android[0]\n",
    "android = android[1:]"
   ]
  },
  {
   "cell_type": "markdown",
   "metadata": {},
   "source": [
    "### Explore datasets with explore_data() function\n",
    "\n",
    "To make it easier to explore datasets, I used a function named explore_data() that:\n",
    "- prints length\n",
    "- prints column names (or headers)\n",
    "- prints 3 first rows.\n",
    "\n",
    "Next that function was implemented for both datasets."
   ]
  },
  {
   "cell_type": "code",
   "execution_count": 2,
   "metadata": {},
   "outputs": [
    {
     "name": "stdout",
     "output_type": "stream",
     "text": [
      "Number of rows in dataset: 7197.\n",
      "Number of columns in dataset: 16.\n",
      "Column names are ['id', 'track_name', 'size_bytes', 'currency', 'price', 'rating_count_tot', 'rating_count_ver', 'user_rating', 'user_rating_ver', 'ver', 'cont_rating', 'prime_genre', 'sup_devices.num', 'ipadSc_urls.num', 'lang.num', 'vpp_lic']\n",
      "['284882215', 'Facebook', '389879808', 'USD', '0.0', '2974676', '212', '3.5', '3.5', '95.0', '4+', 'Social Networking', '37', '1', '29', '1']\n",
      "\n",
      "['389801252', 'Instagram', '113954816', 'USD', '0.0', '2161558', '1289', '4.5', '4.0', '10.23', '12+', 'Photo & Video', '37', '0', '29', '1']\n",
      "\n",
      "['529479190', 'Clash of Clans', '116476928', 'USD', '0.0', '2130805', '579', '4.5', '4.5', '9.24.12', '9+', 'Games', '38', '5', '18', '1']\n",
      "\n",
      "Number of rows in dataset: 10841.\n",
      "Number of columns in dataset: 13.\n",
      "Column names are ['App', 'Category', 'Rating', 'Reviews', 'Size', 'Installs', 'Type', 'Price', 'Content Rating', 'Genres', 'Last Updated', 'Current Ver', 'Android Ver']\n",
      "['Photo Editor & Candy Camera & Grid & ScrapBook', 'ART_AND_DESIGN', '4.1', '159', '19M', '10,000+', 'Free', '0', 'Everyone', 'Art & Design', 'January 7, 2018', '1.0.0', '4.0.3 and up']\n",
      "\n",
      "['Coloring book moana', 'ART_AND_DESIGN', '3.9', '967', '14M', '500,000+', 'Free', '0', 'Everyone', 'Art & Design;Pretend Play', 'January 15, 2018', '2.0.0', '4.0.3 and up']\n",
      "\n",
      "['U Launcher Lite – FREE Live Cool Themes, Hide Apps', 'ART_AND_DESIGN', '4.7', '87510', '8.7M', '5,000,000+', 'Free', '0', 'Everyone', 'Art & Design', 'August 1, 2018', '1.2.4', '4.0.3 and up']\n",
      "\n"
     ]
    }
   ],
   "source": [
    "# define the function\n",
    "def explore_data(dataset, start, end, header=None):\n",
    "    \n",
    "    print('Number of rows in dataset: {}.'.format(len(dataset)))\n",
    "    print('Number of columns in dataset: {}.'.format(len(dataset[0])))\n",
    "    \n",
    "    if header is None:\n",
    "          print('Column names are:', dataset[0])\n",
    "    else:\n",
    "          print('Column names are', header)\n",
    "          \n",
    "    dataset_slice = dataset[start:end]    \n",
    "    for row in dataset_slice:\n",
    "        print(row)\n",
    "        print() # adds a new (empty) line after each row\n",
    "        \n",
    "# explore ios dataset       \n",
    "explore_data(ios, 0, 3, header_ios)\n",
    "\n",
    "# explore android dataset\n",
    "explore_data(android, 0, 3, header_android)"
   ]
  },
  {
   "cell_type": "markdown",
   "metadata": {},
   "source": [
    "## Data cleaning\n",
    "\n",
    "To make sure the data we analyze is accurate we have to:\n",
    "\n",
    "- detect inaccurate data, and correct or remove it.\n",
    "- detect duplicate data, and remove the duplicates.\n",
    "\n",
    "\n",
    "### Remove paid apps\n",
    "\n",
    "The first step is to remove apps that aren't free."
   ]
  },
  {
   "cell_type": "code",
   "execution_count": 3,
   "metadata": {},
   "outputs": [
    {
     "name": "stdout",
     "output_type": "stream",
     "text": [
      "Apple Store free apps dataset includes 4056 rows \n",
      "\n",
      "Google Play Store free apps dataset includes 10039 rows \n",
      "\n"
     ]
    }
   ],
   "source": [
    "# find free apps in Apple Store dataset\n",
    "ios_free = []\n",
    "for row in ios:\n",
    "    if row[4] == '0.0':\n",
    "        ios_free.append(row)\n",
    "print('Apple Store free apps dataset includes', len(ios_free), 'rows', '\\n')\n",
    "\n",
    "# find free apps in Google Play Store dataset\n",
    "android_free = []\n",
    "for row in android:\n",
    "    if row[6] == 'Free':\n",
    "        android_free.append(row)\n",
    "print('Google Play Store free apps dataset includes', len(android_free), 'rows', '\\n')"
   ]
  },
  {
   "cell_type": "markdown",
   "metadata": {},
   "source": [
    "### Check for duplicates\n",
    "\n",
    "At the first step we check both datasets for duplicates and print some of them to see, how much are they identical to each other."
   ]
  },
  {
   "cell_type": "code",
   "execution_count": 4,
   "metadata": {},
   "outputs": [
    {
     "name": "stdout",
     "output_type": "stream",
     "text": [
      "There are 2 duplicates in the Apple Store dataset. \n",
      "\n",
      "['1173990889', 'Mannequin Challenge', '109705216', 'USD', '0.0', '668', '87', '3.0', '3.0', '1.4', '9+', 'Games', '37', '4', '1', '1']\n",
      "['1178454060', 'Mannequin Challenge', '59572224', 'USD', '0.0', '105', '58', '4.0', '4.5', '1.0.1', '4+', 'Games', '38', '5', '1', '1']\n"
     ]
    }
   ],
   "source": [
    "# check for duplicates in Apple Store dataset\n",
    "unique_names_ios = []\n",
    "duplicate_names_ios = []\n",
    "for row in ios_free:\n",
    "    name = row[1]\n",
    "    if name in unique_names_ios:\n",
    "        duplicate_names_ios.append(name)\n",
    "    else: \n",
    "        unique_names_ios.append(name)\n",
    "print('There are', len(duplicate_names_ios), 'duplicates in the Apple Store dataset.', '\\n')\n",
    "for row in ios_free:\n",
    "    name = row[1]\n",
    "    if name in duplicate_names_ios[:1]:\n",
    "        print(row)"
   ]
  },
  {
   "cell_type": "code",
   "execution_count": 5,
   "metadata": {},
   "outputs": [
    {
     "name": "stdout",
     "output_type": "stream",
     "text": [
      "There are 1135 duplicates in the Google Play Store dataset. \n",
      "\n",
      "Here are duplicate rows for one application. We can see how they differ from each other. \n",
      "\n",
      "['Quick PDF Scanner + OCR FREE', 'BUSINESS', '4.2', '80805', 'Varies with device', '5,000,000+', 'Free', '0', 'Everyone', 'Business', 'February 26, 2018', 'Varies with device', '4.0.3 and up']\n",
      "['Quick PDF Scanner + OCR FREE', 'BUSINESS', '4.2', '80805', 'Varies with device', '5,000,000+', 'Free', '0', 'Everyone', 'Business', 'February 26, 2018', 'Varies with device', '4.0.3 and up']\n",
      "['Quick PDF Scanner + OCR FREE', 'BUSINESS', '4.2', '80804', 'Varies with device', '5,000,000+', 'Free', '0', 'Everyone', 'Business', 'February 26, 2018', 'Varies with device', '4.0.3 and up']\n"
     ]
    }
   ],
   "source": [
    "# check for duplicates in Google Play Store dataset\n",
    "unique_names_android = []\n",
    "duplicate_names_android = []\n",
    "for row in android_free:\n",
    "    name = row[0]\n",
    "    if name in unique_names_android:\n",
    "        duplicate_names_android.append(name)\n",
    "    else: \n",
    "        unique_names_android.append(name)\n",
    "print('There are', len(duplicate_names_android), 'duplicates in the Google Play Store dataset.', '\\n')\n",
    "print('Here are duplicate rows for one application. We can see how they differ from each other.', '\\n')\n",
    "for row in android_free:\n",
    "    name = row[0]\n",
    "    if name in duplicate_names_android[:1]:# print only duplicates for one app\n",
    "        print(row)"
   ]
  },
  {
   "cell_type": "markdown",
   "metadata": {},
   "source": [
    "### Remove duplicates from datasets\n",
    "\n",
    "The main difference in duplicate rows happens on the the _number of users' ratings_ or _reviews_ (`column 6` in Apple Store dataset and `column 4` in Google Play Store dataset). The different numbers show that the data was collected _at different time_.\n",
    "\n",
    "Next step in my data cleaning process is to only leave rows with the maximum number of reviews or ratings and add them to the cleaned datasets.\n",
    "\n",
    "Finally I check the number of rows in datasets testing if I will get the same number with different methods of count."
   ]
  },
  {
   "cell_type": "code",
   "execution_count": 6,
   "metadata": {},
   "outputs": [
    {
     "name": "stdout",
     "output_type": "stream",
     "text": [
      "Expected length of cleaned Apple Store dataset is 4054\n",
      "Length of final clean Apple Store dataset is: 4054 \n",
      "\n"
     ]
    }
   ],
   "source": [
    "# select only rows with maximum number of ratings in Apple Store dataset\n",
    "clean_data_ios_dict = {}\n",
    "\n",
    "for row in ios_free:\n",
    "    name = row[1]\n",
    "    n_ratings = float(row[5])\n",
    "    \n",
    "    if name not in clean_data_ios_dict or n_ratings > float(clean_data_ios_dict[name][5]):\n",
    "        clean_data_ios_dict[name] = row\n",
    "        \n",
    "# convert dictionary with Apple Store data to list of lists\n",
    "clean_data_ios = clean_data_ios_dict.values()\n",
    "\n",
    "# check the result\n",
    "print('Expected length of cleaned Apple Store dataset is', len(ios_free)-len(duplicate_names_ios))\n",
    "print('Length of final clean Apple Store dataset is:', len(clean_data_ios), '\\n')"
   ]
  },
  {
   "cell_type": "code",
   "execution_count": 7,
   "metadata": {},
   "outputs": [
    {
     "name": "stdout",
     "output_type": "stream",
     "text": [
      "Expected length of cleaned Google Play Store dataset is 8904\n",
      "Length of final clean Google Play Store dataset is: 8904 \n",
      "\n"
     ]
    }
   ],
   "source": [
    "# select only rows with maximum number of reviews in Google Play Store dataset\n",
    "clean_data_android_dict = {}\n",
    "\n",
    "for row in android_free:\n",
    "    name = row[0]\n",
    "    n_reviews = float(row[3])\n",
    "    \n",
    "    if name not in clean_data_android_dict or n_reviews > float(clean_data_android_dict[name][3]):\n",
    "        clean_data_android_dict[name] = row\n",
    "\n",
    "# convert dictionary with Google Play Store data to list of lists\n",
    "clean_data_android = clean_data_android_dict.values()\n",
    "\n",
    "# check the result\n",
    "print('Expected length of cleaned Google Play Store dataset is', len(android_free)-len(duplicate_names_android))\n",
    "print('Length of final clean Google Play Store dataset is:', len(clean_data_android), '\\n')"
   ]
  },
  {
   "cell_type": "markdown",
   "metadata": {},
   "source": [
    "### Remove non-English apps\n",
    "\n",
    "Since my target markets are English-apeaking I'd like to _remove from both datasets applications with non-English names_.\n",
    "To do that I write a function _is_english()_ to check if the name of the application is English and initialize it for Apple Store and Google Play Store datasets."
   ]
  },
  {
   "cell_type": "code",
   "execution_count": 8,
   "metadata": {},
   "outputs": [
    {
     "name": "stdout",
     "output_type": "stream",
     "text": [
      "Final list of Apple Store apps has 3220 rows\n",
      "Final list of Google Play Store apps has 8863 rows\n"
     ]
    }
   ],
   "source": [
    "# define a function to check the name\n",
    "def is_english(app):\n",
    "    number_of_false = 0\n",
    "    \n",
    "    for letter in app:\n",
    "        if ord(letter) > 127:\n",
    "            number_of_false += 1\n",
    "            \n",
    "    if number_of_false < 4:\n",
    "        return True\n",
    "        \n",
    "# iterate over Apple Store dataset\n",
    "apple_store = []\n",
    "\n",
    "for row in clean_data_ios:\n",
    "    name = row[1]\n",
    "    if is_english(name):\n",
    "        apple_store.append(row)\n",
    "        \n",
    "print(\"Final list of Apple Store apps has {} rows\".format(len(apple_store)))\n",
    "\n",
    "# iterate over Google Play Store\n",
    "google_play_store = []\n",
    "\n",
    "for row in clean_data_android:\n",
    "    name = row[0]\n",
    "    if is_english(name):\n",
    "        google_play_store.append(row)\n",
    "        \n",
    "print(\"Final list of Google Play Store apps has {} rows\".format(len(google_play_store)))\n"
   ]
  },
  {
   "cell_type": "markdown",
   "metadata": {},
   "source": [
    "## Data analysis\n",
    "\n",
    "### Identify the most common apps by genre\n",
    "\n",
    "The goal of the analysis is to find an idea of application which could be successful at both markets, Apple Store and Google Play Store. According to the assignment at first an app will be developed for _Google Play Store_ and if it will be succesful, roll it out to _Apple Store_.\n",
    "My first step is to identify the most common genres for applications. We will use column `prime_genre` for AppleStore (12th position) and column `Genres` for Google Play Store (10th position) to count the most common genre."
   ]
  },
  {
   "cell_type": "code",
   "execution_count": 9,
   "metadata": {},
   "outputs": [
    {
     "name": "stdout",
     "output_type": "stream",
     "text": [
      "Column names for Apple Store dataset are:  ['id', 'track_name', 'size_bytes', 'currency', 'price', 'rating_count_tot', 'rating_count_ver', 'user_rating', 'user_rating_ver', 'ver', 'cont_rating', 'prime_genre', 'sup_devices.num', 'ipadSc_urls.num', 'lang.num', 'vpp_lic'] \n",
      "\n",
      "Column names for Google Play Store are:  ['App', 'Category', 'Rating', 'Reviews', 'Size', 'Installs', 'Type', 'Price', 'Content Rating', 'Genres', 'Last Updated', 'Current Ver', 'Android Ver'] \n",
      "\n"
     ]
    }
   ],
   "source": [
    "# display once more names of the columns\n",
    "print('Column names for Apple Store dataset are: ', header_ios, '\\n')\n",
    "print('Column names for Google Play Store are: ', header_android, '\\n')\n",
    "\n",
    "# define function to create a frequency table\n",
    "def freq_table(dataset, index):\n",
    "    freq_table = {}\n",
    "    total = len(dataset)\n",
    "    \n",
    "    for row in dataset:\n",
    "        token = row[index]\n",
    "        if token in freq_table:\n",
    "            freq_table[token] += 1\n",
    "        else:\n",
    "            freq_table[token] = 1\n",
    "    # calculate percentages\n",
    "    freq_percentages = {}\n",
    "    for key in freq_table:\n",
    "        percentage = (freq_table[key]/total)*100\n",
    "        freq_percentages[key] = round(percentage, 2)\n",
    "    # print result in descending order\n",
    "    for key in sorted(freq_percentages, key=freq_percentages.get, reverse=True):\n",
    "        print(key,':', freq_percentages[key])\n",
    "        \n",
    "    return freq_percentages"
   ]
  },
  {
   "cell_type": "code",
   "execution_count": 10,
   "metadata": {},
   "outputs": [
    {
     "name": "stdout",
     "output_type": "stream",
     "text": [
      "Games : 58.14\n",
      "Entertainment : 7.89\n",
      "Photo & Video : 4.97\n",
      "Education : 3.66\n",
      "Social Networking : 3.29\n",
      "Shopping : 2.61\n",
      "Utilities : 2.52\n",
      "Sports : 2.14\n",
      "Music : 2.05\n",
      "Health & Fitness : 2.02\n",
      "Productivity : 1.74\n",
      "Lifestyle : 1.58\n",
      "News : 1.34\n",
      "Travel : 1.24\n",
      "Finance : 1.12\n",
      "Weather : 0.87\n",
      "Food & Drink : 0.81\n",
      "Reference : 0.56\n",
      "Business : 0.53\n",
      "Book : 0.43\n",
      "Navigation : 0.19\n",
      "Medical : 0.19\n",
      "Catalogs : 0.12\n",
      "The column prime genre includes 23 genres total. \n",
      "\n"
     ]
    }
   ],
   "source": [
    "# iterate over Apple Store dataset\n",
    "prime_genres = freq_table(apple_store, 11)\n",
    "print('The column prime genre includes {} genres total.'.format(len(prime_genres)), '\\n')"
   ]
  },
  {
   "cell_type": "code",
   "execution_count": 11,
   "metadata": {},
   "outputs": [
    {
     "name": "stdout",
     "output_type": "stream",
     "text": [
      "Tools : 8.45\n",
      "Entertainment : 6.07\n",
      "Education : 5.35\n",
      "Business : 4.59\n",
      "Lifestyle : 3.89\n",
      "Productivity : 3.89\n",
      "Finance : 3.7\n",
      "Medical : 3.53\n",
      "Sports : 3.46\n",
      "Personalization : 3.32\n",
      "Communication : 3.24\n",
      "Action : 3.1\n",
      "Health & Fitness : 3.08\n",
      "Photography : 2.94\n",
      "News & Magazines : 2.8\n",
      "Social : 2.66\n",
      "Travel & Local : 2.32\n",
      "Shopping : 2.25\n",
      "Books & Reference : 2.14\n",
      "Simulation : 2.04\n",
      "Dating : 1.86\n",
      "Arcade : 1.85\n",
      "Video Players & Editors : 1.77\n",
      "Casual : 1.76\n",
      "Maps & Navigation : 1.4\n",
      "Food & Drink : 1.24\n",
      "Puzzle : 1.13\n",
      "Racing : 0.99\n",
      "Libraries & Demo : 0.94\n",
      "Role Playing : 0.94\n",
      "Auto & Vehicles : 0.93\n",
      "Strategy : 0.9\n",
      "House & Home : 0.82\n",
      "Weather : 0.8\n",
      "Events : 0.71\n",
      "Adventure : 0.68\n",
      "Comics : 0.61\n",
      "Art & Design : 0.6\n",
      "Beauty : 0.6\n",
      "Parenting : 0.5\n",
      "Card : 0.45\n",
      "Casino : 0.43\n",
      "Trivia : 0.42\n",
      "Educational;Education : 0.39\n",
      "Board : 0.38\n",
      "Educational : 0.37\n",
      "Education;Education : 0.34\n",
      "Word : 0.26\n",
      "Casual;Pretend Play : 0.24\n",
      "Music : 0.2\n",
      "Entertainment;Music & Video : 0.17\n",
      "Puzzle;Brain Games : 0.17\n",
      "Racing;Action & Adventure : 0.17\n",
      "Casual;Action & Adventure : 0.14\n",
      "Casual;Brain Games : 0.14\n",
      "Arcade;Action & Adventure : 0.12\n",
      "Action;Action & Adventure : 0.1\n",
      "Educational;Pretend Play : 0.09\n",
      "Entertainment;Brain Games : 0.08\n",
      "Simulation;Action & Adventure : 0.08\n",
      "Board;Brain Games : 0.08\n",
      "Parenting;Education : 0.08\n",
      "Art & Design;Creativity : 0.07\n",
      "Casual;Creativity : 0.07\n",
      "Educational;Brain Games : 0.07\n",
      "Parenting;Music & Video : 0.07\n",
      "Education;Pretend Play : 0.06\n",
      "Education;Creativity : 0.05\n",
      "Role Playing;Pretend Play : 0.05\n",
      "Education;Music & Video : 0.03\n",
      "Education;Action & Adventure : 0.03\n",
      "Education;Brain Games : 0.03\n",
      "Entertainment;Creativity : 0.03\n",
      "Adventure;Action & Adventure : 0.03\n",
      "Educational;Creativity : 0.03\n",
      "Role Playing;Action & Adventure : 0.03\n",
      "Educational;Action & Adventure : 0.03\n",
      "Entertainment;Action & Adventure : 0.03\n",
      "Puzzle;Action & Adventure : 0.03\n",
      "Casual;Education : 0.02\n",
      "Music;Music & Video : 0.02\n",
      "Simulation;Pretend Play : 0.02\n",
      "Puzzle;Creativity : 0.02\n",
      "Sports;Action & Adventure : 0.02\n",
      "Board;Action & Adventure : 0.02\n",
      "Entertainment;Pretend Play : 0.02\n",
      "Video Players & Editors;Music & Video : 0.02\n",
      "Art & Design;Pretend Play : 0.01\n",
      "Art & Design;Action & Adventure : 0.01\n",
      "Comics;Creativity : 0.01\n",
      "Lifestyle;Pretend Play : 0.01\n",
      "Entertainment;Education : 0.01\n",
      "Arcade;Pretend Play : 0.01\n",
      "Strategy;Action & Adventure : 0.01\n",
      "Music & Audio;Music & Video : 0.01\n",
      "Health & Fitness;Education : 0.01\n",
      "Adventure;Education : 0.01\n",
      "Casual;Music & Video : 0.01\n",
      "Video Players & Editors;Creativity : 0.01\n",
      "Travel & Local;Action & Adventure : 0.01\n",
      "Tools;Education : 0.01\n",
      "Parenting;Brain Games : 0.01\n",
      "Health & Fitness;Action & Adventure : 0.01\n",
      "Trivia;Education : 0.01\n",
      "Lifestyle;Education : 0.01\n",
      "Card;Action & Adventure : 0.01\n",
      "Books & Reference;Education : 0.01\n",
      "Simulation;Education : 0.01\n",
      "Puzzle;Education : 0.01\n",
      "Role Playing;Brain Games : 0.01\n",
      "Strategy;Education : 0.01\n",
      "Racing;Pretend Play : 0.01\n",
      "Communication;Creativity : 0.01\n",
      "Strategy;Creativity : 0.01\n",
      "The column Genres includes 114 genres total. \n",
      "\n",
      "FAMILY : 18.9\n",
      "GAME : 9.73\n",
      "TOOLS : 8.46\n",
      "BUSINESS : 4.59\n",
      "LIFESTYLE : 3.9\n",
      "PRODUCTIVITY : 3.89\n",
      "FINANCE : 3.7\n",
      "MEDICAL : 3.53\n",
      "SPORTS : 3.4\n",
      "PERSONALIZATION : 3.32\n",
      "COMMUNICATION : 3.24\n",
      "HEALTH_AND_FITNESS : 3.08\n",
      "PHOTOGRAPHY : 2.94\n",
      "NEWS_AND_MAGAZINES : 2.8\n",
      "SOCIAL : 2.66\n",
      "TRAVEL_AND_LOCAL : 2.34\n",
      "SHOPPING : 2.25\n",
      "BOOKS_AND_REFERENCE : 2.14\n",
      "DATING : 1.86\n",
      "VIDEO_PLAYERS : 1.79\n",
      "MAPS_AND_NAVIGATION : 1.4\n",
      "FOOD_AND_DRINK : 1.24\n",
      "EDUCATION : 1.16\n",
      "ENTERTAINMENT : 0.96\n",
      "LIBRARIES_AND_DEMO : 0.94\n",
      "AUTO_AND_VEHICLES : 0.93\n",
      "HOUSE_AND_HOME : 0.82\n",
      "WEATHER : 0.8\n",
      "EVENTS : 0.71\n",
      "PARENTING : 0.65\n",
      "ART_AND_DESIGN : 0.64\n",
      "COMICS : 0.62\n",
      "BEAUTY : 0.6\n",
      "The column Category includes 33 genres total.\n"
     ]
    }
   ],
   "source": [
    "# iterate over Google Play Store dataset\n",
    "# review column 'Genres'\n",
    "genres = freq_table(google_play_store, 9)\n",
    "print('The column Genres includes {} genres total.'.format(len(genres)), '\\n')\n",
    "\n",
    "# review column 'Category'\n",
    "category = freq_table(google_play_store, 1)\n",
    "print('The column Category includes {} genres total.'.format(len(category)))"
   ]
  },
  {
   "cell_type": "markdown",
   "metadata": {},
   "source": [
    "### What observations can we make based on most common genres?\n",
    "**Apple Store dataset**\n",
    "- Data from Apple Store shows less variety in genres. \n",
    "- The most common genre at Apple Store is Games (more than half of all apps belong to it).\n",
    "- 4 of 5 top genres are entertaining rather than designed for practical purposes.\n",
    "\n",
    "**Google Play Store**\n",
    "\n",
    "- Data from Google Play Store is harder to analyze because the column Genres can include multiple genres so the total number of genres (114 total) makes the data noisy. For further better-tailored analysis it could be used only after parsing. \n",
    "- Top 5 genres as well as categories show that more practically oriented apps are more numerous.\n",
    "\n",
    "**Comparison**\n",
    "\n",
    "- Apps that are numerous at Apple Store are more entertaining, at Google Play Store on contrary prevail apps for more practical usage.\n",
    "- The large amount of apps of the certain genre still doesn't mean that all of them are commercially succesful. Ideally I should also explore the amount of users for every app as well as user retention rate (for that though I should have historic data so it goes beyond the scope of current project).\n",
    "\n",
    "### Find the most popular apps\n",
    "\n",
    "One way to find out what genres are the most popular (have the most users) is to calculate the _average number of installs_ for each app genre. For the Google Play Store dataset, I can find this information in the `Installs` column, but this information is missing for the App Store data set. As a workaround, I'll take the total number of user ratings as a proxy, which can be found in the `rating_count_tot` column."
   ]
  },
  {
   "cell_type": "code",
   "execution_count": 12,
   "metadata": {},
   "outputs": [
    {
     "name": "stdout",
     "output_type": "stream",
     "text": [
      "Navigation 86090\n",
      "Reference 74942\n",
      "Social Networking 71548\n",
      "Music 57327\n",
      "Weather 52280\n",
      "Book 39758\n",
      "Food & Drink 33334\n",
      "Finance 31468\n",
      "Photo & Video 28442\n",
      "Travel 28244\n",
      "Shopping 26920\n",
      "Health & Fitness 23298\n",
      "Sports 23009\n",
      "Games 22813\n",
      "News 21248\n",
      "Productivity 21028\n",
      "Utilities 18684\n",
      "Lifestyle 16486\n",
      "Entertainment 14030\n",
      "Business 7491\n",
      "Education 7004\n",
      "Catalogs 4004\n",
      "Medical 612\n"
     ]
    }
   ],
   "source": [
    "# count sum of user ratings for every genre for Apple Store dataset\n",
    "ratings_dict = {}\n",
    "\n",
    "for row in apple_store:\n",
    "    genre = row[11]\n",
    "    rating = float(row[5])\n",
    "    ratings_dict.setdefault(genre, []).append(rating)\n",
    "    \n",
    "# calculate average\n",
    "\n",
    "for genre, rating in ratings_dict.items():\n",
    "    avg_rating = round(sum(rating)/len(rating))\n",
    "    ratings_dict[genre] = avg_rating\n",
    "    \n",
    "# sort and print resulting dictionary\n",
    "\n",
    "for genre in sorted(ratings_dict, key=ratings_dict.get, reverse=True):\n",
    "    print(genre, ratings_dict[genre])   "
   ]
  },
  {
   "cell_type": "markdown",
   "metadata": {},
   "source": [
    "To use the column `Installs` from Google Play Store dataset I need at first explore in which format and how is represented that data. \n",
    "After I print a few values from the column, I realise that:\n",
    "- it's a string format\n",
    "- it has '+' signs and ',' delimeters\n",
    "- it represents the ranges of values not specific ones.\n",
    "\n",
    "I will _clean_ and _convert_ the values from the column to integers and use these numbers as a certain _approximation_ to real sum of installs."
   ]
  },
  {
   "cell_type": "code",
   "execution_count": 13,
   "metadata": {},
   "outputs": [
    {
     "name": "stdout",
     "output_type": "stream",
     "text": [
      "10,000+\n",
      "500,000+\n",
      "5,000,000+\n",
      "50,000,000+\n",
      "100,000+\n"
     ]
    }
   ],
   "source": [
    "# check the format of the column Installs\n",
    "for row in google_play_store[:5]:\n",
    "    print(row[5])\n",
    "# convert the column Installs from Google Play Store dataset to floats\n",
    "for row in google_play_store:\n",
    "    row[5] = int(row[5].replace('+', '').replace(',', ''))"
   ]
  },
  {
   "cell_type": "code",
   "execution_count": 14,
   "metadata": {},
   "outputs": [
    {
     "name": "stdout",
     "output_type": "stream",
     "text": [
      "COMMUNICATION 38456119\n",
      "VIDEO_PLAYERS 24727872\n",
      "SOCIAL 23253652\n",
      "PHOTOGRAPHY 17840110\n",
      "PRODUCTIVITY 16787331\n",
      "GAME 15588016\n",
      "TRAVEL_AND_LOCAL 13984078\n",
      "ENTERTAINMENT 11640706\n",
      "TOOLS 10801391\n",
      "NEWS_AND_MAGAZINES 9549178\n",
      "BOOKS_AND_REFERENCE 8767812\n",
      "SHOPPING 7036877\n",
      "PERSONALIZATION 5201483\n",
      "WEATHER 5074486\n",
      "HEALTH_AND_FITNESS 4188822\n",
      "MAPS_AND_NAVIGATION 4056942\n",
      "FAMILY 3697848\n",
      "SPORTS 3638640\n",
      "ART_AND_DESIGN 1986335\n",
      "FOOD_AND_DRINK 1924898\n",
      "EDUCATION 1833495\n",
      "BUSINESS 1712290\n",
      "LIFESTYLE 1437816\n",
      "FINANCE 1387692\n",
      "HOUSE_AND_HOME 1331541\n",
      "DATING 854029\n",
      "COMICS 817657\n",
      "AUTO_AND_VEHICLES 647318\n",
      "LIBRARIES_AND_DEMO 638504\n",
      "PARENTING 542604\n",
      "BEAUTY 513152\n",
      "EVENTS 253542\n",
      "MEDICAL 120551\n"
     ]
    }
   ],
   "source": [
    "# count sum of installs for every category for Google Play Store\n",
    "installs_dict = {}\n",
    "\n",
    "for row in google_play_store:\n",
    "    category = row[1]\n",
    "    installs = row[5]\n",
    "    installs_dict.setdefault(category, []).append(installs)\n",
    "    \n",
    "# calculate average\n",
    "\n",
    "for category, installs in installs_dict.items():\n",
    "    avg_installs = round(sum(installs)/len(installs))\n",
    "    installs_dict[category] = avg_installs\n",
    "    \n",
    "# sort and print resulting dictionary\n",
    "\n",
    "for category in sorted(installs_dict, key=installs_dict.get, reverse=True):\n",
    "    print(category, installs_dict[category])"
   ]
  },
  {
   "cell_type": "markdown",
   "metadata": {},
   "source": [
    "For Apple Store dataset top-3 of the most popular genres are _Navigation_, _Reference_ and _Social Networking_. For Google Play Store top-3 categories are: _Communication_, _Video Players_, _Social_. But there is a high probability that the most popular are few leaders for specific category, e.g. Facebook with millions of users for _Social_ category. \n",
    "Let's now check next 3 \n",
    "\n",
    "To check that at first I'll examine the top-6 apps for every top-3 category from Google Play Store Dataset."
   ]
  },
  {
   "cell_type": "code",
   "execution_count": 15,
   "metadata": {},
   "outputs": [
    {
     "name": "stdout",
     "output_type": "stream",
     "text": [
      "The most popular apps in communication category are: \n",
      "\n",
      "Messenger – Text and Video Chat for Free : 1000000000\n",
      "WhatsApp Messenger : 1000000000\n",
      "Google Chrome: Fast & Secure : 1000000000\n",
      "Gmail : 1000000000\n",
      "Hangouts : 1000000000\n",
      "Viber Messenger : 500000000\n",
      "imo free video calls and chat : 500000000\n",
      "Google Duo - High Quality Video Calls : 500000000\n",
      "UC Browser - Fast Download Private & Secure : 500000000\n",
      "Skype - free IM & video calls : 1000000000\n",
      "LINE: Free Calls & Messages : 500000000\n",
      "\n",
      "\n",
      "The most popular apps in video players category are: \n",
      "\n",
      "YouTube : 1000000000\n",
      "Google Play Movies & TV : 1000000000\n",
      "MX Player : 500000000\n",
      "\n",
      "\n",
      "The most popular apps in social category are: \n",
      "\n",
      "Facebook : 1000000000\n",
      "Instagram : 1000000000\n",
      "Facebook Lite : 500000000\n",
      "Snapchat : 500000000\n",
      "Google+ : 1000000000\n"
     ]
    }
   ],
   "source": [
    "# check top-6 apps mostly installed at Google Play Store in top-3 categories\n",
    "# communication\n",
    "print('The most popular apps in communication category are:', '\\n')\n",
    "\n",
    "for row in google_play_store:\n",
    "    if row[1] == 'COMMUNICATION' and row[5] > 100000000:\n",
    "        print(row[0], ':', row[5])\n",
    "print('\\n')\n",
    "# video players\n",
    "print('The most popular apps in video players category are:', '\\n')\n",
    "for row in google_play_store:\n",
    "    if row[1] == 'VIDEO_PLAYERS' and row[5] > 100000000:\n",
    "        print(row[0], ':', row[5])\n",
    "print('\\n')\n",
    "#game\n",
    "print('The most popular apps in social category are:', '\\n')\n",
    "for row in google_play_store:\n",
    "    if row[1] == 'SOCIAL' and row[5] > 100000000:\n",
    "        print(row[0], ':', row[5])"
   ]
  },
  {
   "cell_type": "markdown",
   "metadata": {},
   "source": [
    "Indeed top-3 genres are dominated by few apps attracting millions of users. If we would like to succesfully compete with them the only way to do that is to offer a fundamentally new approaches or functionality. That is certainly not an easy task. \n",
    "Probably better approach will be to choose categories that are in the middle of the list. Let's check 3 categories from top-10 which : _Travel_and_local_ and _Game_."
   ]
  },
  {
   "cell_type": "code",
   "execution_count": 17,
   "metadata": {},
   "outputs": [
    {
     "name": "stdout",
     "output_type": "stream",
     "text": [
      "7281600\n"
     ]
    }
   ],
   "source": [
    "# calculate average total number of installs for Google Play Store\n",
    "total = 0\n",
    "for category in installs_dict:\n",
    "    total += int(installs_dict[category])\n",
    "mean_installs = total/len(installs_dict)\n",
    "print(round(mean_installs))"
   ]
  },
  {
   "cell_type": "markdown",
   "metadata": {},
   "source": [
    "Average number of installs estimates at 7,281,600, in our list of categories there are two with a total number of that range: _Books_and_reference_ and _Shopping_. Next I will explore them."
   ]
  },
  {
   "cell_type": "code",
   "execution_count": 18,
   "metadata": {},
   "outputs": [
    {
     "name": "stdout",
     "output_type": "stream",
     "text": [
      "The most popular apps in travel_and_local category are: \n",
      "\n",
      "Google Play Books : 1000000000\n",
      "Wattpad 📖 Free Books : 100000000\n",
      "Amazon Kindle : 100000000\n",
      "Bible : 100000000\n",
      "Audiobooks from Audible : 100000000\n",
      "\n",
      "\n",
      "The most popular apps in Game category are: \n",
      "\n",
      "Wish - Shopping Made Fun : 100000000\n",
      "AliExpress - Smarter Shopping, Better Living : 100000000\n",
      "eBay: Buy & Sell this Summer - Discover Deals Now! : 100000000\n",
      "Amazon Shopping : 100000000\n",
      "Flipkart Online Shopping App : 100000000\n",
      "letgo: Buy & Sell Used Stuff, Cars & Real Estate : 50000000\n",
      "Lazada - Online Shopping & Deals : 50000000\n",
      "OLX - Buy and Sell : 50000000\n",
      "The birth : 50000000\n",
      "Mercado Libre: Find your favorite brands : 50000000\n",
      "Myntra Online Shopping App : 50000000\n",
      "Groupon - Shop Deals, Discounts & Coupons : 50000000\n"
     ]
    }
   ],
   "source": [
    "sorted = sorted(google_play_store, key = lambda x: x[5], reverse=True)\n",
    "# books_and_references\n",
    "print('The most popular apps in Books_and_reference category are:', '\\n')\n",
    "\n",
    "for row in sorted:\n",
    "    if row[1] == 'BOOKS_AND_REFERENCE' and row[5] > 10000000:\n",
    "        print(row[0], ':', row[5])\n",
    "print('\\n')\n",
    "# game\n",
    "print('The most popular apps in Shopping category are:', '\\n')\n",
    "for row in sorted:\n",
    "    if row[1] == 'SHOPPING' and row[5] > 10000000:\n",
    "        print(row[0], ':', row[5])"
   ]
  },
  {
   "cell_type": "markdown",
   "metadata": {},
   "source": [
    "The category _Books_and_references_ looks more interesting mostly because apart from few leaders like Google Play books or Amazon Kindle selling all sorts of books it contains an app with free books - Wattpad as well as religious text. I'd like to check which apps are in the middle range regarding total number of installs."
   ]
  },
  {
   "cell_type": "code",
   "execution_count": 20,
   "metadata": {
    "scrolled": true
   },
   "outputs": [
    {
     "name": "stdout",
     "output_type": "stream",
     "text": [
      "Apps of the middle range in Books_and_reference category: \n",
      "\n",
      "AlReader -any text book reader : 5000000\n",
      "Ebook Reader : 5000000\n",
      "Read books online : 5000000\n",
      "Ancestry : 5000000\n",
      "Dictionary - WordWeb : 5000000\n",
      "50000 Free eBooks & Free AudioBooks : 5000000\n",
      "Al Quran : EAlim - Translations & MP3 Offline : 5000000\n",
      "Bible KJV : 5000000\n",
      "English to Hindi Dictionary : 5000000\n",
      "\n",
      "\n"
     ]
    }
   ],
   "source": [
    "# check middle range\n",
    "print('Apps of the middle range in Books_and_reference category:', '\\n')\n",
    "\n",
    "for row in sorted:\n",
    "    if row[1] == 'BOOKS_AND_REFERENCE' and (row[5] < 10000000 and row[5] > 4000000):\n",
    "        print(row[0], ':', row[5])\n",
    "print('\\n')"
   ]
  },
  {
   "cell_type": "markdown",
   "metadata": {},
   "source": [
    "Apps in the middle range also contain religiuos texts, not only whole-sellers of books or dictionaries.\n",
    "Next step is to find out if the same genres are popular among users of Apple Store. Let's check top-3 genres in Apple Store dataset."
   ]
  },
  {
   "cell_type": "code",
   "execution_count": 21,
   "metadata": {},
   "outputs": [
    {
     "name": "stdout",
     "output_type": "stream",
     "text": [
      "There are few apps at Navigation genre:\n",
      "Waze - GPS Navigation, Maps & Real-time Traffic : 345046\n",
      "Google Maps - Navigation & Transit : 154911\n",
      "Geocaching® : 12811\n",
      "CoPilot GPS – Car Navigation & Offline Maps : 3582\n",
      "ImmobilienScout24: Real Estate Search in Germany : 187\n",
      "Railway Route Search : 5\n",
      "\n",
      "\n",
      "There are more apps at Reference genre dominated by dictionaries and religious texts:\n",
      "Bible : 985920\n",
      "Dictionary.com Dictionary & Thesaurus : 200047\n",
      "Dictionary.com Dictionary & Thesaurus for iPad : 54175\n",
      "Google Translate : 26786\n",
      "Muslim Pro: Ramadan 2017 Prayer Times, Azan, Quran : 18418\n",
      "New Furniture Mods - Pocket Wiki & Game Tools for Minecraft PC Edition : 17588\n",
      "Merriam-Webster Dictionary : 16849\n",
      "Night Sky : 12122\n",
      "City Maps for Minecraft PE - The Best Maps for Minecraft Pocket Edition (MCPE) : 8535\n",
      "LUCKY BLOCK MOD ™ for Minecraft PC Edition - The Best Pocket Wiki & Mods Installer Tools : 4693\n",
      "GUNS MODS for Minecraft PC Edition - Mods Tools : 1497\n",
      "Guides for Pokémon GO - Pokemon GO News and Cheats : 826\n",
      "WWDC : 762\n",
      "Horror Maps for Minecraft PE - Download The Scariest Maps for Minecraft Pocket Edition (MCPE) Free : 718\n",
      "VPN Express : 14\n",
      "Real Bike Traffic Rider Virtual Reality Glasses : 8\n",
      "教えて!goo : 0\n",
      "Jishokun-Japanese English Dictionary & Translator : 0\n",
      "\n",
      "\n",
      "There are plenty apps at Social Networking genre but dominated by few of them:\n",
      "Facebook : 2974676\n",
      "Pinterest : 1061624\n",
      "Skype for iPhone : 373519\n",
      "Messenger : 351466\n",
      "Tumblr : 334293\n",
      "WhatsApp Messenger : 287589\n",
      "Kik : 260965\n",
      "ooVoo – Free Video Call, Text and Voice : 177501\n",
      "TextNow - Unlimited Text + Calls : 164963\n",
      "Viber Messenger – Text & Call : 164249\n",
      "Followers - Social Analytics For Instagram : 112778\n",
      "MeetMe - Chat and Meet New People : 97072\n",
      "We Heart It - Fashion, wallpapers, quotes, tattoos : 90414\n",
      "InsTrack for Instagram - Analytics Plus More : 85535\n",
      "Tango - Free Video Call, Voice and Chat : 75412\n",
      "LinkedIn : 71856\n",
      "Match™ - #1 Dating App. : 60659\n",
      "Skype for iPad : 60163\n",
      "POF - Best Dating App for Conversations : 52642\n",
      "Timehop : 49510\n",
      "Find My Family, Friends & iPhone - Life360 Locator : 43877\n",
      "Whisper - Share, Express, Meet : 39819\n",
      "Hangouts : 36404\n",
      "LINE PLAY - Your Avatar World : 34677\n",
      "WeChat : 34584\n",
      "Badoo - Meet New People, Chat, Socialize. : 34428\n",
      "Followers + for Instagram - Follower Analytics : 28633\n",
      "GroupMe : 28260\n",
      "Marco Polo Video Walkie Talkie : 27662\n",
      "Miitomo : 23965\n",
      "SimSimi : 23530\n",
      "Grindr - Gay and same sex guys chat, meet and date : 23201\n",
      "Wishbone - Compare Anything : 20649\n",
      "imo video calls and chat : 18841\n",
      "After School - Funny Anonymous School News : 18482\n",
      "Quick Reposter - Repost, Regram and Reshare Photos : 17694\n",
      "Weibo HD : 16772\n",
      "Repost for Instagram : 15185\n",
      "Live.me – Live Video Chat & Make Friends Nearby : 14724\n",
      "Nextdoor : 14402\n",
      "Followers Analytics for Instagram - InstaReport : 13914\n",
      "YouNow: Live Stream Video Chat : 12079\n",
      "FollowMeter for Instagram - Followers Tracking : 11976\n",
      "LINE : 11437\n",
      "eHarmony™ Dating App - Meet Singles : 11124\n",
      "Discord - Chat for Gamers : 9152\n",
      "QQ : 9109\n",
      "Telegram Messenger : 7573\n",
      "Weibo : 7265\n",
      "Periscope - Live Video Streaming Around the World : 6062\n",
      "Chat for Whatsapp - iPad Version : 5060\n",
      "QQ HD : 5058\n",
      "Followers Analysis Tool For Instagram App Free : 4253\n",
      "live.ly - live video streaming : 4145\n",
      "Houseparty - Group Video Chat : 3991\n",
      "SOMA Messenger : 3232\n",
      "Monkey : 3060\n",
      "Down To Lunch : 2535\n",
      "Flinch - Video Chat Staring Contest : 2134\n",
      "Highrise - Your Avatar Community : 2011\n",
      "LOVOO - Dating Chat : 1985\n",
      "PlayStation®Messages : 1918\n",
      "BOO! - Video chat camera with filters & stickers : 1805\n",
      "Qzone : 1649\n",
      "Chatous - Chat with new people : 1609\n",
      "Kiwi - Q&A : 1538\n",
      "GhostCodes - a discovery app for Snapchat : 1313\n",
      "Jodel : 1193\n",
      "FireChat : 1037\n",
      "Google Duo - simple video calling : 1033\n",
      "Fiesta by Tango - Chat & Meet New People : 885\n",
      "Google Allo — smart messaging : 862\n",
      "Peach — share vividly : 727\n",
      "Hey! VINA - Where Women Meet New Friends : 719\n",
      "Battlefield™ Companion : 689\n",
      "All Devices for WhatsApp - Messenger for iPad : 682\n",
      "Chat for Pokemon Go - GoChat : 500\n",
      "IAmNaughty – Dating App to Meet New People Online : 463\n",
      "Qzone HD : 458\n",
      "Zenly - Locate your friends in realtime : 427\n",
      "League of Legends Friends : 420\n",
      "豆瓣 : 407\n",
      "Candid - Speak Your Mind Freely : 398\n",
      "知乎 : 397\n",
      "Selfeo : 366\n",
      "Fake-A-Location Free ™ : 354\n",
      "Popcorn Buzz - Free Group Calls : 281\n",
      "Fam — Group video calling for iMessage : 279\n",
      "QQ International : 274\n",
      "Ameba : 269\n",
      "SoundCloud Pulse: for creators : 240\n",
      "Tantan : 235\n",
      "Cougar Dating & Life Style App for Mature Women : 213\n",
      "Rawr Messenger - Dab your chat : 180\n",
      "WhenToPost: Best Time to Post Photos for Instagram : 158\n",
      "Inke—Broadcast an amazing life : 147\n",
      "Mustknow - anonymous video Q&A : 53\n",
      "CTFxCmoji : 39\n",
      "Lobi : 36\n",
      "Chain: Collaborate On MyVideo Story/Group Video : 35\n",
      "botman - Real time video chat : 7\n",
      "BestieBox : 0\n",
      "MATCH ON LINE chat : 0\n",
      "niconico ch : 0\n",
      "LINE BLOG : 0\n",
      "bit-tube - Live Stream Video Chat : 0\n"
     ]
    }
   ],
   "source": [
    "# check apps mostly rated at Apple Store\n",
    "# navigation\n",
    "print('There are few apps at Navigation genre:')\n",
    "for row in apple_store:\n",
    "    if row[11] == 'Navigation':\n",
    "        print(row[1], ':', row[5])\n",
    "print('\\n')\n",
    "# reference\n",
    "print('There are more apps at Reference genre dominated by dictionaries and religious texts:')\n",
    "for row in apple_store:\n",
    "    if row[11] == 'Reference':\n",
    "        print(row[1], ':', row[5])\n",
    "print('\\n')\n",
    "# social networking\n",
    "print('There are plenty apps at Social Networking genre but dominated by few of them:')\n",
    "for row in apple_store:\n",
    "    if row[11] == 'Social Networking':\n",
    "        print(row[1], ':', row[5])"
   ]
  },
  {
   "cell_type": "markdown",
   "metadata": {},
   "source": [
    "After the exploration of Apple Store dataset I see that the _Reference_ genre is quite diverse dominated by dictionaries and religious texts but is not dominated by few leaders, so it could be an option to build an app in the same genre.\n",
    "\n",
    "# Final recommendation\n",
    "In this project, I analyzed datasets from Apple Store and Google Play Store with the goal of recommending an app genre that can be profitable for both markets.\n",
    "My final recommendation is to build some **application based around a niche but commonly used text**. Perfect candidate will be some sort of religiuos or quasi-religious qult text (Marie Kondo, Harry Potter or Satan Bible?). User experience can be enhanced with audio-versions or even gamification.\n",
    "Of course that recommendation should be backed by further study."
   ]
  }
 ],
 "metadata": {
  "kernelspec": {
   "display_name": "Python 3",
   "language": "python",
   "name": "python3"
  },
  "language_info": {
   "codemirror_mode": {
    "name": "ipython",
    "version": 3
   },
   "file_extension": ".py",
   "mimetype": "text/x-python",
   "name": "python",
   "nbconvert_exporter": "python",
   "pygments_lexer": "ipython3",
   "version": "3.9.0"
  }
 },
 "nbformat": 4,
 "nbformat_minor": 4
}
