{
 "cells": [
  {
   "cell_type": "markdown",
   "metadata": {},
   "source": [
    "# Profitable App Profiles for the App Store and Google Play Markets\n",
    "\n",
    "Our _goal_ for this project is to analyze data to help our developers understand what type of apps are likely to attract more users on Google Play and the App Store. To do this, we'll need to collect and analyze data about mobile apps available on Google Play and the App Store.\n",
    "\n",
    "As of September 2018, there were approximately 2 million iOS apps available on the App Store, and 2.1 million Android apps on Google Play.\n",
    "\n",
    "## Datasets\n",
    "- A data set containing data about approximately ten thousand Android apps from Google Play. You can download the data set directly from [this link](https://dq-content.s3.amazonaws.com/350/googleplaystore.csv).\n",
    "- A data set containing data about approximately seven thousand iOS apps from the App Store. You can download the data set directly from [this link](https://dq-content.s3.amazonaws.com/350/AppleStore.csv).\n"
   ]
  },
  {
   "cell_type": "code",
   "execution_count": 1,
   "metadata": {},
   "outputs": [],
   "source": [
    "from csv import reader\n",
    "\n",
    "# read Apple Store\n",
    "opened_ios = open('AppleStore.csv')\n",
    "read_ios = reader(opened_ios)\n",
    "ios = list(read_ios)\n",
    "header_ios = ios[0]\n",
    "ios = ios[1:]\n",
    "# read Google Play Store\n",
    "opened_android = open('googleplaystore.csv')\n",
    "read_android = reader(opened_android)\n",
    "android = list(read_android)\n",
    "header_android = android[0]\n",
    "android = android[1:]"
   ]
  },
  {
   "cell_type": "markdown",
   "metadata": {},
   "source": [
    "## Opening and exploring the data\n",
    "- To make them easier for you to explore, we created a function named explore_data() that you can repeatedly use to print rows in a readable way.\n",
    "- Print length of both datasets\n",
    "- Print column names (aka headers) for both datasets\n",
    "- Print 3 first rows of both datasets"
   ]
  },
  {
   "cell_type": "code",
   "execution_count": 2,
   "metadata": {},
   "outputs": [
    {
     "name": "stdout",
     "output_type": "stream",
     "text": [
      "Apple Store dataset includes 7197 rows \n",
      "\n",
      "Column names are:  ['id', 'track_name', 'size_bytes', 'currency', 'price', 'rating_count_tot', 'rating_count_ver', 'user_rating', 'user_rating_ver', 'ver', 'cont_rating', 'prime_genre', 'sup_devices.num', 'ipadSc_urls.num', 'lang.num', 'vpp_lic'] \n",
      "\n",
      "['284882215', 'Facebook', '389879808', 'USD', '0.0', '2974676', '212', '3.5', '3.5', '95.0', '4+', 'Social Networking', '37', '1', '29', '1']\n",
      "\n",
      "['389801252', 'Instagram', '113954816', 'USD', '0.0', '2161558', '1289', '4.5', '4.0', '10.23', '12+', 'Photo & Video', '37', '0', '29', '1']\n",
      "\n",
      "['529479190', 'Clash of Clans', '116476928', 'USD', '0.0', '2130805', '579', '4.5', '4.5', '9.24.12', '9+', 'Games', '38', '5', '18', '1']\n",
      "\n",
      "Google Play Store dataset includes 10841 rows \n",
      "\n",
      "Column names are:  ['App', 'Category', 'Rating', 'Reviews', 'Size', 'Installs', 'Type', 'Price', 'Content Rating', 'Genres', 'Last Updated', 'Current Ver', 'Android Ver']\n",
      "['Photo Editor & Candy Camera & Grid & ScrapBook', 'ART_AND_DESIGN', '4.1', '159', '19M', '10,000+', 'Free', '0', 'Everyone', 'Art & Design', 'January 7, 2018', '1.0.0', '4.0.3 and up']\n",
      "\n",
      "['Coloring book moana', 'ART_AND_DESIGN', '3.9', '967', '14M', '500,000+', 'Free', '0', 'Everyone', 'Art & Design;Pretend Play', 'January 15, 2018', '2.0.0', '4.0.3 and up']\n",
      "\n",
      "['U Launcher Lite – FREE Live Cool Themes, Hide Apps', 'ART_AND_DESIGN', '4.7', '87510', '8.7M', '5,000,000+', 'Free', '0', 'Everyone', 'Art & Design', 'August 1, 2018', '1.2.4', '4.0.3 and up']\n",
      "\n"
     ]
    }
   ],
   "source": [
    "def explore_data(dataset, start, end, rows_and_columns=False):\n",
    "    dataset_slice = dataset[start:end]    \n",
    "    for row in dataset_slice:\n",
    "        print(row)\n",
    "        print() # adds a new (empty) line after each row\n",
    "\n",
    "    if rows_and_columns:\n",
    "        print('Number of rows:', len(dataset))\n",
    "        print('Number of columns:', len(dataset[0]))\n",
    "        \n",
    "#exploring ios dataset       \n",
    "print('Apple Store dataset includes', len(ios), 'rows', '\\n')\n",
    "print('Column names are: ', header_ios, '\\n')\n",
    "explore_data(ios, 0, 3, False)\n",
    "\n",
    "#exploring android dataset\n",
    "print('Google Play Store dataset includes', len(android), 'rows','\\n')\n",
    "print('Column names are: ', header_android)\n",
    "explore_data(android, 0, 3, False)"
   ]
  },
  {
   "cell_type": "markdown",
   "metadata": {},
   "source": [
    "### Data cleaning\n",
    "To make sure the data we analyze is accurate we have to:\n",
    "\n",
    "- Detect inaccurate data, and correct or remove it.\n",
    "- Detect duplicate data, and remove the duplicates.\n",
    "\n",
    "The first step is to tailor the data for our aim:\n",
    "- Remove apps that aren't free."
   ]
  },
  {
   "cell_type": "code",
   "execution_count": 3,
   "metadata": {},
   "outputs": [
    {
     "name": "stdout",
     "output_type": "stream",
     "text": [
      "Apple Store free dataset includes 4056 rows \n",
      "\n",
      "Google Play Store free dataset includes 10039 rows \n",
      "\n"
     ]
    }
   ],
   "source": [
    "#finding free apps in English for Apple Store\n",
    "ios_free = []\n",
    "for row in ios:\n",
    "    if row[4] == '0.0':\n",
    "        ios_free.append(row)\n",
    "print('Apple Store free dataset includes', len(ios_free), 'rows', '\\n')\n",
    "\n",
    "#finding free apps in English for Google Play Store\n",
    "android_free = []\n",
    "for row in android:\n",
    "    if row[6] == 'Free':\n",
    "        android_free.append(row)\n",
    "print('Google Play Store free dataset includes', len(android_free), 'rows', '\\n')"
   ]
  },
  {
   "cell_type": "markdown",
   "metadata": {},
   "source": [
    "## Removing duplicates from the datasets_1\n",
    "At the first step we check both datasets for duplicates and print some of them to see, how much are they identical to each other."
   ]
  },
  {
   "cell_type": "code",
   "execution_count": 4,
   "metadata": {},
   "outputs": [
    {
     "name": "stdout",
     "output_type": "stream",
     "text": [
      "There are 2 duplicates in the Apple Store dataset. \n",
      "\n",
      "['1173990889', 'Mannequin Challenge', '109705216', 'USD', '0.0', '668', '87', '3.0', '3.0', '1.4', '9+', 'Games', '37', '4', '1', '1']\n",
      "['1178454060', 'Mannequin Challenge', '59572224', 'USD', '0.0', '105', '58', '4.0', '4.5', '1.0.1', '4+', 'Games', '38', '5', '1', '1']\n",
      "There are 1135 duplicates in the Google Play Store dataset. \n",
      "\n",
      "Here are duplicate rows for one application. We can see how they differ from each other. \n",
      "\n",
      "['Quick PDF Scanner + OCR FREE', 'BUSINESS', '4.2', '80805', 'Varies with device', '5,000,000+', 'Free', '0', 'Everyone', 'Business', 'February 26, 2018', 'Varies with device', '4.0.3 and up']\n",
      "['Quick PDF Scanner + OCR FREE', 'BUSINESS', '4.2', '80805', 'Varies with device', '5,000,000+', 'Free', '0', 'Everyone', 'Business', 'February 26, 2018', 'Varies with device', '4.0.3 and up']\n",
      "['Quick PDF Scanner + OCR FREE', 'BUSINESS', '4.2', '80804', 'Varies with device', '5,000,000+', 'Free', '0', 'Everyone', 'Business', 'February 26, 2018', 'Varies with device', '4.0.3 and up']\n"
     ]
    }
   ],
   "source": [
    "#checking for duplicates for Apple Store\n",
    "unique_names_ios = []\n",
    "duplicate_names_ios = []\n",
    "for row in ios_free:\n",
    "    name = row[1]\n",
    "    if name in unique_names_ios:\n",
    "        duplicate_names_ios.append(name)\n",
    "    else: \n",
    "        unique_names_ios.append(name)\n",
    "print('There are', len(duplicate_names_ios), 'duplicates in the Apple Store dataset.', '\\n')\n",
    "for row in ios_free:\n",
    "    name = row[1]\n",
    "    if name in duplicate_names_ios[:1]:\n",
    "        print(row)\n",
    "\n",
    "#checking for duplicates for Google Play Store\n",
    "unique_names_android = []\n",
    "duplicate_names_android = []\n",
    "for row in android_free:\n",
    "    name = row[0]\n",
    "    if name in unique_names_android:\n",
    "        duplicate_names_android.append(name)\n",
    "    else: \n",
    "        unique_names_android.append(name)\n",
    "print('There are', len(duplicate_names_android), 'duplicates in the Google Play Store dataset.', '\\n')\n",
    "print('Here are duplicate rows for one application. We can see how they differ from each other.', '\\n')\n",
    "for row in android_free:\n",
    "    name = row[0]\n",
    "    if name in duplicate_names_android[:1]:\n",
    "        print(row)"
   ]
  },
  {
   "cell_type": "markdown",
   "metadata": {},
   "source": [
    "## Removing duplicates from the datasets_2\n",
    "If you examine the rows for duplicates the main difference happens on the the number of users' ratings or reviews (column 6 in Apple Store dataset and column 4 in Google Play Store dataset). The different numbers show the data was collected at different times.\n",
    "So we choose only rows with the maximum number of reviews or ratings and add them to the cleaned datasets.\n",
    "Finally we check the number of rows in datasets testing if we will get the same number with different methods of count."
   ]
  },
  {
   "cell_type": "code",
   "execution_count": 5,
   "metadata": {},
   "outputs": [
    {
     "ename": "NameError",
     "evalue": "name 'ratings_max' is not defined",
     "output_type": "error",
     "traceback": [
      "\u001b[0;31m---------------------------------------------------------------------------\u001b[0m",
      "\u001b[0;31mNameError\u001b[0m                                 Traceback (most recent call last)",
      "\u001b[0;32m<ipython-input-5-e21ca97c5c72>\u001b[0m in \u001b[0;36m<module>\u001b[0;34m\u001b[0m\n\u001b[1;32m     11\u001b[0m \u001b[0mclean_data_ios\u001b[0m \u001b[0;34m=\u001b[0m \u001b[0mclean_data_ios_dict\u001b[0m\u001b[0;34m.\u001b[0m\u001b[0mvalues\u001b[0m\u001b[0;34m(\u001b[0m\u001b[0;34m)\u001b[0m\u001b[0;34m\u001b[0m\u001b[0;34m\u001b[0m\u001b[0m\n\u001b[1;32m     12\u001b[0m \u001b[0;31m# редактировать нижележащий код\u001b[0m\u001b[0;34m\u001b[0m\u001b[0;34m\u001b[0m\u001b[0;34m\u001b[0m\u001b[0m\n\u001b[0;32m---> 13\u001b[0;31m \u001b[0mprint\u001b[0m\u001b[0;34m(\u001b[0m\u001b[0;34m'Expected length of cleaned Apple Store dataset is'\u001b[0m\u001b[0;34m,\u001b[0m \u001b[0mlen\u001b[0m\u001b[0;34m(\u001b[0m\u001b[0mratings_max\u001b[0m\u001b[0;34m)\u001b[0m\u001b[0;34m)\u001b[0m\u001b[0;34m\u001b[0m\u001b[0;34m\u001b[0m\u001b[0m\n\u001b[0m\u001b[1;32m     14\u001b[0m \u001b[0mprint\u001b[0m\u001b[0;34m(\u001b[0m\u001b[0;34m'Test length of cleaned Apple Store dataset is'\u001b[0m\u001b[0;34m,\u001b[0m \u001b[0mlen\u001b[0m\u001b[0;34m(\u001b[0m\u001b[0mios_free\u001b[0m\u001b[0;34m)\u001b[0m\u001b[0;34m-\u001b[0m\u001b[0mlen\u001b[0m\u001b[0;34m(\u001b[0m\u001b[0mduplicate_names_ios\u001b[0m\u001b[0;34m)\u001b[0m\u001b[0;34m)\u001b[0m\u001b[0;34m\u001b[0m\u001b[0;34m\u001b[0m\u001b[0m\n\u001b[1;32m     15\u001b[0m \u001b[0mprint\u001b[0m\u001b[0;34m(\u001b[0m\u001b[0;34m'Length of final clean Apple Store dataset is:'\u001b[0m\u001b[0;34m,\u001b[0m \u001b[0mlen\u001b[0m\u001b[0;34m(\u001b[0m\u001b[0mclean_data_ios\u001b[0m\u001b[0;34m)\u001b[0m\u001b[0;34m,\u001b[0m \u001b[0;34m'\\n'\u001b[0m\u001b[0;34m)\u001b[0m\u001b[0;34m\u001b[0m\u001b[0;34m\u001b[0m\u001b[0m\n",
      "\u001b[0;31mNameError\u001b[0m: name 'ratings_max' is not defined"
     ]
    }
   ],
   "source": [
    "#iterate over Apple Store dataset\n",
    "clean_data_ios_dict = {}\n",
    "\n",
    "for row in ios_free:\n",
    "    name = row[1]\n",
    "    n_ratings = float(row[5])\n",
    "    \n",
    "    if name not in clean_data_ios_dict or n_ratings > float(clean_data_ios_dict[name][5]):\n",
    "        clean_data_ios_dict[name] = row\n",
    "\n",
    "clean_data_ios = clean_data_ios_dict.values()\n",
    "# редактировать нижележащий код       \n",
    "print('Expected length of cleaned Apple Store dataset is', len(ratings_max))\n",
    "print('Test length of cleaned Apple Store dataset is', len(ios_free)-len(duplicate_names_ios))\n",
    "print('Length of final clean Apple Store dataset is:', len(clean_data_ios), '\\n')\n",
    "        \n",
    "#iterate over Google Play Store dataset\n",
    "reviews_max = {}\n",
    "clean_data_android = []\n",
    "already_added_android = []\n",
    "\n",
    "for row in android_free:\n",
    "    name = row[0]\n",
    "    n_reviews = float(row[3])\n",
    "    \n",
    "    if name in reviews_max and reviews_max[name] < n_reviews:\n",
    "        reviews_max[name] = n_reviews\n",
    "        \n",
    "    elif name not in reviews_max:\n",
    "        reviews_max[name] = n_reviews\n",
    "        \n",
    "for row in android_free:\n",
    "    name = row[0]\n",
    "    n_reviews = float(row[3])\n",
    "    \n",
    "    if name not in already_added_android and reviews_max[name] == n_reviews:\n",
    "        clean_data_android.append(row)\n",
    "        already_added_android.append(name)\n",
    "        \n",
    "print('Expected length of cleaned Google Play Store dataset is', len(reviews_max))\n",
    "print('Test length of cleaned Google Play Store dataset is', len(android_free)-len(duplicate_names_android))\n",
    "print('Length of final clean Google Play Store dataset is:', len(clean_data_android), '\\n')"
   ]
  },
  {
   "cell_type": "markdown",
   "metadata": {},
   "source": [
    "Next step is to remove from both datasets applications with non-English names to ensure that we analyse only applications for English-speaking markets.\n",
    "To do that we write a function to check if the name of the application is English and initialize it for both datasets."
   ]
  },
  {
   "cell_type": "code",
   "execution_count": null,
   "metadata": {},
   "outputs": [],
   "source": [
    "#define a function to check the name\n",
    "def isEnglish(app):\n",
    "    number_of_false = 0\n",
    "    \n",
    "    for letter in app:\n",
    "        if ord(letter) > 127:\n",
    "            number_of_false += 1\n",
    "            \n",
    "    if number_of_false < 4:\n",
    "        return True\n",
    "        \n",
    "#iterate over Apple Store dataset\n",
    "AppleStore = []\n",
    "\n",
    "for row in clean_data_ios:\n",
    "    name = row[1]\n",
    "    if isEnglish(name):\n",
    "        AppleStore.append(row)\n",
    "print(\"Final list of Apple Store apps has {} rows\".format(len(AppleStore)))\n",
    "\n",
    "#iterate over Google Play Store\n",
    "GooglePlayStore = []\n",
    "\n",
    "for row in clean_data_android:\n",
    "    name = row[0]\n",
    "    if isEnglish(name):\n",
    "        GooglePlayStore.append(row)\n",
    "print(\"Final list of Apple Store apps has {} rows\".format(len(GooglePlayStore)))\n"
   ]
  },
  {
   "cell_type": "markdown",
   "metadata": {},
   "source": [
    "### Most common apps by genre\n",
    "Our end goal now is to find an idea of application which could be successful at both markets, Apple Store and Google Play Store.\n",
    "At first we will develop an app for Google Play Store and if it will be succesful, roll it out to Apple Store.\n",
    "First step now is to identify the most common genres for applications. We will use column 'prime_genre' for AppleStore (12th position) and column 'Genres' for Google Play Store (10th position) to count the most common genre."
   ]
  },
  {
   "cell_type": "code",
   "execution_count": null,
   "metadata": {},
   "outputs": [],
   "source": [
    "#refresh the names of the columns\n",
    "print('Column names for Apple Store dataset are: ', header_ios, '\\n')\n",
    "print('Column names for Google Play Store are: ', header_android, '\\n')\n",
    "\n",
    "#define function to create a frequency table\n",
    "def freq_table(dataset, index):\n",
    "    freq_table = {}\n",
    "    total = len(dataset)\n",
    "    \n",
    "    for row in dataset:\n",
    "        token = row[index]\n",
    "        if token in freq_table:\n",
    "            freq_table[token] += 1\n",
    "        else:\n",
    "            freq_table[token] = 1\n",
    "    \n",
    "    freq_percentages = {}\n",
    "    for key in freq_table:\n",
    "        percentage = (freq_table[key]/total)*100\n",
    "        freq_percentages[key] = round(percentage, 2)\n",
    "        \n",
    "    return freq_percentages\n",
    "\n",
    "#define function to present frequency table as a list of tuples\n",
    "def display_table(dataset, index):\n",
    "    table = freq_table(dataset, index)\n",
    "    table_display = []\n",
    "    for key in table:\n",
    "        key_val_as_tuple = (table[key], key)\n",
    "        table_display.append(key_val_as_tuple)\n",
    "\n",
    "    table_sorted = sorted(table_display, reverse = True)\n",
    "    for entry in table_sorted:\n",
    "        print(entry[1], ':', entry[0])\n",
    "\n",
    "#iterate over Apple Store dataset\n",
    "prime_genres = freq_table(AppleStore, 11)\n",
    "print('The column prime genre includes {} genres total.'.format(len(prime_genres)), '\\n')\n",
    "display_table(AppleStore, 11)\n",
    "print('\\n')\n",
    "\n",
    "#iterate over Google Play Store dataset\n",
    "genres = freq_table(GooglePlayStore, 9)\n",
    "print('The column Genres includes {} genres total.'.format(len(genres)), '\\n')\n",
    "display_table(GooglePlayStore, 9)\n",
    "print('\\n')\n",
    "category = freq_table(GooglePlayStore, 1)\n",
    "print('The column Category includes {} genres total.'.format(len(category)), '\\n')\n",
    "display_table(GooglePlayStore, 1)"
   ]
  },
  {
   "cell_type": "markdown",
   "metadata": {},
   "source": [
    "## What observations can we make based on this data?\n",
    "**Apple Store dataset**\n",
    "- Data from Apple Store shows less variety in genres. \n",
    "- The most common genre at Apple Store is Games (more than half of all apps).\n",
    "- 4 of 5 top genres are entertaining rather than designed for prectical purposes.\n",
    "\n",
    "**Google Play Store**\n",
    "\n",
    "- Data from Google Play Store is harder to analyze because the column Genres can include multiple genres so the total number of genres (114 total) make the data noisy. Maybe parce it somehow?\n",
    "- Top 5 genres as well as categories show that there are more practically focused apps there.\n",
    "\n",
    "**Comparison**\n",
    "\n",
    "- The large amount of apps of the certain genre still doesn't mean that all of them are commercially succesful. We should also explore the amount of users as well as user retention rate (for that though we should have historic data)."
   ]
  },
  {
   "cell_type": "markdown",
   "metadata": {},
   "source": [
    "One way to find out what genres are the most popular (have the most users) is to calculate the average number of installs for each app genre. For the Google Play data set, we can find this information in the Installs column, but this information is missing for the App Store data set. As a workaround, we'll take the total number of user ratings as a proxy, which we can find in the rating_count_column app."
   ]
  },
  {
   "cell_type": "code",
   "execution_count": null,
   "metadata": {},
   "outputs": [],
   "source": [
    "#count total number of user ratings (column rating_count_tot) for Apple Store dataset\n",
    "ratings_dict = {}\n",
    "# FIXME: can be simplified without the need for nested loop\n",
    "for genre in prime_genres:\n",
    "    total = 0\n",
    "    len_genre = 0\n",
    "    for row in AppleStore:\n",
    "        genre_app = row[11]\n",
    "        if genre_app == genre:\n",
    "            ratings = float(row[5])\n",
    "            total += ratings\n",
    "            len_genre += 1\n",
    "    avg_ratings = round(total/len_genre)\n",
    "    #create dictionary\n",
    "    ratings_dict[genre] = avg_ratings\n",
    "#sort and print resulting dictionary\n",
    "for genre in sorted(ratings_dict, key=ratings_dict.get, reverse=True):\n",
    "    print(genre, ratings_dict[genre])   \n",
    "print()\n",
    "\n",
    "###\n",
    "# FIXME: remove the older version\n",
    "# {genre: [app_1_rating, app_2_rating, ...], ...}\n",
    "ratings_dict_2 = {}\n",
    "for row in AppleStore:\n",
    "    genre_app = row[11]\n",
    "    rating = float(row[5])\n",
    "    ratings_dict_2.setdefault(genre_app, []).append(rating)\n",
    "# calculate\n",
    "avg_ratings = {genre: round(sum(ratings)/len(ratings)) for genre, ratings in ratings_dict_2.items()}\n",
    "assert ratings_dict == avg_ratings\n",
    "\n",
    "for genre in sorted(ratings_dict, key=ratings_dict.get, reverse=True)[:10]:\n",
    "    print(genre, ratings_dict[genre])   \n",
    "\n",
    "for genre in sorted(avg_ratings, key=avg_ratings.get, reverse=True)[:10]:\n",
    "    print(genre, avg_ratings[genre])   \n",
    "\n",
    "###\n",
    "\n",
    "#count number of Google Play\n",
    "installs_dict = {}\n",
    "# FIXME: can be simplified without the need for nested loop\n",
    "for cat in category:\n",
    "    total = 0\n",
    "    len_gen = 0\n",
    "    for row in GooglePlayStore:\n",
    "        category_app = row[1]\n",
    "        \n",
    "        if category_app == cat:\n",
    "            installs = (row[5])\n",
    "            #format number of intsalls to get rid of \"+\" and \",\" and convert to float\n",
    "            n_installs = installs.replace('+', '')\n",
    "            n_installs = n_installs.replace(',', '')\n",
    "            \n",
    "            total += float(n_installs)\n",
    "            len_genre += 1\n",
    "            \n",
    "    avg_installs = round(total/len_genre)\n",
    "    #create dictionary\n",
    "    installs_dict[cat] = avg_installs\n",
    "#sort and print resulting dictionary\n",
    "for cat in sorted(installs_dict, key=installs_dict.get, reverse=True):\n",
    "    print(cat, installs_dict[cat])"
   ]
  },
  {
   "cell_type": "markdown",
   "metadata": {},
   "source": [
    "To check the hypotesis that the most downloaded categories are dominated by the few leader of the industry we show the top apps in top 3 categories: communication, books_and_reference and game."
   ]
  },
  {
   "cell_type": "code",
   "execution_count": null,
   "metadata": {},
   "outputs": [],
   "source": [
    "#check apps mostly installed at Google Play Store\n",
    "#communication\n",
    "print('The most popular apps in communication category are:', '\\n')\n",
    "# FIXME: parse installations into integers?\n",
    "# FIXME: can the top categories be extracted programmatically?\n",
    "for row in GooglePlayStore:\n",
    "    if row[1] == 'COMMUNICATION' and row[5] == '1,000,000,000+':\n",
    "        print(row[0], ':', row[5])\n",
    "print('\\n')\n",
    "#books_and_reference\n",
    "print('The most popular apps in books_and_reference category are:', '\\n')\n",
    "for row in GooglePlayStore:\n",
    "    if row[1] == 'BOOKS_AND_REFERENCE' and (row[5] == '100,000,000+'\n",
    "                                            or row[5] == '500,000,000+' \n",
    "                                            or row[5] == '1,000,000,000+'):\n",
    "        print(row[0], ':', row[5])\n",
    "print('\\n')\n",
    "#game\n",
    "print('The most popular apps in game category are:', '\\n')\n",
    "for row in GooglePlayStore:\n",
    "    if row[1] == 'GAME' and (row[5] == '100,000,000+'\n",
    "                                            or row[5] == '500,000,000+' \n",
    "                                            or row[5] == '1,000,000,000+'):\n",
    "        print(row[0], ':', row[5])"
   ]
  },
  {
   "cell_type": "markdown",
   "metadata": {},
   "source": [
    "Games looks like very diverse category with a lot of players.\n",
    "Next check out top prime_genres at Apple Store dataset"
   ]
  },
  {
   "cell_type": "code",
   "execution_count": null,
   "metadata": {},
   "outputs": [],
   "source": [
    "#check apps mostly rated at Apple Store\n",
    "# FIXME: can the top genres be extracted programmatically?\n",
    "#navigation\n",
    "print('There are few apps at Navigation genre:')\n",
    "for row in AppleStore:\n",
    "    if row[11] == 'Navigation':\n",
    "        print(row[1], ':', row[5])\n",
    "print('\\n')\n",
    "#reference\n",
    "print('There are more apps at Reference genre also dominated by dictionaries and religious texts:')\n",
    "for row in AppleStore:\n",
    "    if row[11] == 'Reference':\n",
    "        print(row[1], ':', row[5])\n",
    "print('\\n')\n",
    "#social networking\n",
    "print('There are plenty apps at Social Networking genre but dominated by few of them:')\n",
    "for row in AppleStore:\n",
    "    if row[11] == 'Social Networking':\n",
    "        print(row[1], ':', row[5])"
   ]
  },
  {
   "cell_type": "markdown",
   "metadata": {},
   "source": [
    "### Final recommendation:\n",
    "- either create a game\n",
    "- or build an app based on some religious text\n",
    "- or mix both (like quest based on Satan Bible)"
   ]
  }
 ],
 "metadata": {
  "kernelspec": {
   "display_name": "Python 3",
   "language": "python",
   "name": "python3"
  },
  "language_info": {
   "codemirror_mode": {
    "name": "ipython",
    "version": 3
   },
   "file_extension": ".py",
   "mimetype": "text/x-python",
   "name": "python",
   "nbconvert_exporter": "python",
   "pygments_lexer": "ipython3",
   "version": "3.9.0"
  }
 },
 "nbformat": 4,
 "nbformat_minor": 4
}
