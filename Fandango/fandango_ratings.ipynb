{
 "cells": [
  {
   "cell_type": "markdown",
   "metadata": {},
   "source": [
    "# Fandango Movie Ratings: What Has Changed after the Bias Accusations\n",
    "\n",
    "Online movie ratings aggregators have recently become extremely popular. Top of them are: [Rotten Tomatoes](https://www.rottentomatoes.com/), [Metacritic](https://www.metacritic.com/) and [IMDb](https://www.imdb.com/), each one having a unique way of aggregating film ratings and reviews. Many of these systems calculate [an approximate average assessment](https://en.wikipedia.org/wiki/Review_aggregator), usually based on assigning a numeric value to each review related to its degree of positive rating of the work. Since aggregated scores can easily be a decisive factor for the choice in favor of one or another film, thus influencing sales, the question of *how objectively they are calculated* becomes relevant. More than that Fandango has an immediate interest in customers' choice: the website directly sells tickets.\n",
    "\n",
    "In October 2015, a data journalist named **Walt Hickey** analyzed movie ratings data from another online movie ratings aggregator **Fandango** and found enough evidence to suggest that Fandango's rating system was biased. He published his analysis [in this article](https://fivethirtyeight.com/features/fandango-movies-ratings/).\n",
    "\n",
    "On their website Fandango displays a 5-star rating system, with the minimum rating being 0 stars and the maximum 5 stars.\n",
    "\n",
    "Hickey found that there's a significant inconsistency between the rating showed to users and the actual rating, which could be found in the HTML of the page. \n",
    "\n",
    "He was able to find that:\n",
    "\n",
    " - The actual rating was almost always rounded up to the nearest half-star. For instance, a 4.1 movie would be rounded off to 4.5 stars, not to 4 stars, as you may expect.\n",
    " - In the case of 8% of the ratings analyzed, the rounding up was done to the nearest whole star. For instance, a 4.5 rating would be rounded off to 5 stars.\n",
    " - For one movie rating, the rounding off was completely bizarre: from a rating of 4 in the HTML of the page to a displayed rating of 5 stars.\n",
    " \n",
    "After Hickey sent a request to Fandango's officials they replied that the bias in rounding was caused by a bug in their system. They promised to fix it as soon as possible. We can't check if that has happened in the same way as the author of the article  found that bug out since the actual rating value doesn't seem to be displayed anymore in the pages' HTML.\n",
    "\n",
    "In this project my aim is to **analyze more recent movie ratings data to determine whether there has been any change in Fandango's rating system after Hickey's analysis.**\n",
    "\n",
    "## Data sets\n",
    "\n",
    "Walt Hickey made the data he analyzed publicly available [on GitHub](https://github.com/fivethirtyeight/data/tree/master/fandango). I'll use this data to analyze the characteristics of Fandango's rating system previous to his analysis.\n",
    "\n",
    "One of Dataquest's team members collected movie ratings data for movies released in 2016 and 2017. The data is publicly available [on GitHub](https://github.com/mircealex/Movie_ratings_2016_17) and I'll use it as a reference for the rating system's characteristics after Hickey's analysis."
   ]
  },
  {
   "cell_type": "code",
   "execution_count": 1,
   "metadata": {},
   "outputs": [],
   "source": [
    "import pandas as pd\n",
    "import numpy as np\n",
    "import matplotlib.pyplot as plt\n",
    "import seaborn as sns\n",
    "sns.set_theme(style=\"whitegrid\")\n",
    "\n",
    "rat_before = pd.read_csv('fandango_score_comparison.csv')\n",
    "rat_after = pd.read_csv('movie_ratings_16_17.csv')"
   ]
  },
  {
   "cell_type": "code",
   "execution_count": 2,
   "metadata": {},
   "outputs": [],
   "source": [
    "# leave only necessary columns\n",
    "rat_before = rat_before.loc[: , ['FILM', 'Fandango_Stars', 'Fandango_Ratingvalue', 'Fandango_votes', 'Fandango_Difference']]"
   ]
  },
  {
   "cell_type": "code",
   "execution_count": 3,
   "metadata": {},
   "outputs": [],
   "source": [
    "# leave only necessary columns\n",
    "rat_after = rat_after.loc[:, ['movie', 'year', 'fandango']]"
   ]
  },
  {
   "cell_type": "markdown",
   "metadata": {},
   "source": [
    "## What is the target population?\n",
    "\n",
    "`fandango_score_comparison.csv` contains every film that has a Rotten Tomatoes rating, a Metacritic score, a Metacritic User score, and IMDb score, and *at least 30* reviews on Fandango. The data from Fandango was pulled on Aug. 24, 2015.\n",
    "\n",
    "`movie_ratings_16_17.csv` contains movie ratings data for 214 of the most popular movies (with a significant number of votes) released in 2016 and 2017. As of March 22, 2017, the ratings were up to date. Significant changes in ratings since that time period could happen mostly for movies released in 2017.\n",
    "\n",
    " \n",
    "## Changed goal of the analysis\n",
    "\n",
    "Datasets represent data on the most popular films. The sampling process was not random, so it can only represent information about **most popular films**.\n",
    "\n",
    "With the new goal, I will choose two populations to describe and compare with each other:\n",
    "\n",
    " - All Fandango's ratings for popular movies released in 2015.\n",
    " - All Fandango's ratings for popular movies released in 2016.\n",
    "\n",
    "The term \"popular\" is vague and needs to be more precise. I’ll use Hickey's benchmark and consider a movie as \"popular\" only if it has 30 reviews or more on Fandango website.\n",
    "\n",
    "### Isolating the Sample\n",
    "\n",
    "\n",
    "Although one of the sampling criteria in our second sample is movie popularity, the sample doesn't provide information about the number of fan ratings. We should be skeptical once more and ask whether this sample is truly representative and contains popular movies (movies with over 30 fan ratings).\n",
    "\n",
    "One quick way to check the representativity of this sample is to sample randomly 10 movies from it and then check the number of fan ratings ourselves on Fandango's website. Ideally, at least 8 out of the 10 movies have 30 fan ratings or more."
   ]
  },
  {
   "cell_type": "code",
   "execution_count": 4,
   "metadata": {},
   "outputs": [
    {
     "data": {
      "text/html": [
       "<div>\n",
       "<style scoped>\n",
       "    .dataframe tbody tr th:only-of-type {\n",
       "        vertical-align: middle;\n",
       "    }\n",
       "\n",
       "    .dataframe tbody tr th {\n",
       "        vertical-align: top;\n",
       "    }\n",
       "\n",
       "    .dataframe thead th {\n",
       "        text-align: right;\n",
       "    }\n",
       "</style>\n",
       "<table border=\"1\" class=\"dataframe\">\n",
       "  <thead>\n",
       "    <tr style=\"text-align: right;\">\n",
       "      <th></th>\n",
       "      <th>movie</th>\n",
       "      <th>year</th>\n",
       "      <th>fandango</th>\n",
       "    </tr>\n",
       "  </thead>\n",
       "  <tbody>\n",
       "    <tr>\n",
       "      <th>108</th>\n",
       "      <td>Mechanic: Resurrection</td>\n",
       "      <td>2016</td>\n",
       "      <td>4.0</td>\n",
       "    </tr>\n",
       "    <tr>\n",
       "      <th>206</th>\n",
       "      <td>Warcraft</td>\n",
       "      <td>2016</td>\n",
       "      <td>4.0</td>\n",
       "    </tr>\n",
       "    <tr>\n",
       "      <th>106</th>\n",
       "      <td>Max Steel</td>\n",
       "      <td>2016</td>\n",
       "      <td>3.5</td>\n",
       "    </tr>\n",
       "    <tr>\n",
       "      <th>107</th>\n",
       "      <td>Me Before You</td>\n",
       "      <td>2016</td>\n",
       "      <td>4.5</td>\n",
       "    </tr>\n",
       "    <tr>\n",
       "      <th>51</th>\n",
       "      <td>Fantastic Beasts and Where to Find Them</td>\n",
       "      <td>2016</td>\n",
       "      <td>4.5</td>\n",
       "    </tr>\n",
       "    <tr>\n",
       "      <th>33</th>\n",
       "      <td>Cell</td>\n",
       "      <td>2016</td>\n",
       "      <td>3.0</td>\n",
       "    </tr>\n",
       "    <tr>\n",
       "      <th>59</th>\n",
       "      <td>Genius</td>\n",
       "      <td>2016</td>\n",
       "      <td>3.5</td>\n",
       "    </tr>\n",
       "    <tr>\n",
       "      <th>152</th>\n",
       "      <td>Sully</td>\n",
       "      <td>2016</td>\n",
       "      <td>4.5</td>\n",
       "    </tr>\n",
       "    <tr>\n",
       "      <th>4</th>\n",
       "      <td>A Hologram for the King</td>\n",
       "      <td>2016</td>\n",
       "      <td>3.0</td>\n",
       "    </tr>\n",
       "    <tr>\n",
       "      <th>31</th>\n",
       "      <td>Captain America: Civil War</td>\n",
       "      <td>2016</td>\n",
       "      <td>4.5</td>\n",
       "    </tr>\n",
       "  </tbody>\n",
       "</table>\n",
       "</div>"
      ],
      "text/plain": [
       "                                       movie  year  fandango\n",
       "108                   Mechanic: Resurrection  2016       4.0\n",
       "206                                 Warcraft  2016       4.0\n",
       "106                                Max Steel  2016       3.5\n",
       "107                            Me Before You  2016       4.5\n",
       "51   Fantastic Beasts and Where to Find Them  2016       4.5\n",
       "33                                      Cell  2016       3.0\n",
       "59                                    Genius  2016       3.5\n",
       "152                                    Sully  2016       4.5\n",
       "4                    A Hologram for the King  2016       3.0\n",
       "31                Captain America: Civil War  2016       4.5"
      ]
     },
     "execution_count": 4,
     "metadata": {},
     "output_type": "execute_result"
    }
   ],
   "source": [
    "# choose a random sample\n",
    "rat_after.sample(10, random_state = 1)"
   ]
  },
  {
   "cell_type": "markdown",
   "metadata": {},
   "source": [
    "Above I've used a value of 1 as the random seed. This is good practice because it suggests that I wasn't trying out various random seeds just to get a favorable sample.\n",
    "\n",
    "As of April 2018, these are the fan ratings we found:\n",
    "\n",
    " |Movie |\tFan ratings|\n",
    " |---|---|\n",
    " |Mechanic: Resurrection|\t2247|\n",
    " |---|---|\n",
    "|Warcraft|\t7271|\n",
    "|Max Steel|\t493|\n",
    "|Me Before You|\t5263|\n",
    "|Fantastic Beasts and Where to Find Them|\t13400|\n",
    "|Cell|\t17|\n",
    "|Genius|\t127|\n",
    "|Sully|\t11877|\n",
    "|A Hologram for the King|\t500|\n",
    "|Captain America: Civil War|\t35057|\n",
    "\n",
    "\n",
    "90% of the movies in the sample are popular. This is enough and we move forward with a bit more confidence.\n",
    "\n",
    "Let's also double-check the other data set for popular movies. The documentation states clearly that there are only movies with at least 30 fan ratings, but it should take only a couple of seconds to double-check here."
   ]
  },
  {
   "cell_type": "code",
   "execution_count": 5,
   "metadata": {},
   "outputs": [
    {
     "data": {
      "text/plain": [
       "0"
      ]
     },
     "execution_count": 5,
     "metadata": {},
     "output_type": "execute_result"
    }
   ],
   "source": [
    "(rat_before['Fandango_votes'] < 30).sum()"
   ]
  },
  {
   "cell_type": "markdown",
   "metadata": {},
   "source": [
    "As I was stating before, I am only interested in film released in 2015 and 2016 for `rat_before` and `rat_after` respectively."
   ]
  },
  {
   "cell_type": "code",
   "execution_count": 6,
   "metadata": {},
   "outputs": [],
   "source": [
    "# leave movies released at 2015 in rat_before\n",
    "mask_2015 = rat_before['FILM'].str.contains('\\(2015\\)')\n",
    "rat_2015 = rat_before[mask_2015].copy()"
   ]
  },
  {
   "cell_type": "code",
   "execution_count": 7,
   "metadata": {},
   "outputs": [],
   "source": [
    "# leave movies released at 2016 in rat_after\n",
    "rat_2016 = rat_after[rat_after['year'] == 2016].copy()"
   ]
  },
  {
   "cell_type": "markdown",
   "metadata": {},
   "source": [
    "## Comparing distributions of ratings for 2015 and 2016\n",
    "\n",
    "First step is a high-level comparison between the shapes of the distributions of movie ratings for both samples."
   ]
  },
  {
   "cell_type": "code",
   "execution_count": 8,
   "metadata": {},
   "outputs": [
    {
     "data": {
      "text/plain": [
       "<matplotlib.legend.Legend at 0x12cd52f10>"
      ]
     },
     "execution_count": 8,
     "metadata": {},
     "output_type": "execute_result"
    },
    {
     "data": {
      "image/png": "[encoded data removed]",
      "text/plain": [
       "<Figure size 432x288 with 1 Axes>"
      ]
     },
     "metadata": {},
     "output_type": "display_data"
    }
   ],
   "source": [
    "# match kde plots\n",
    "\n",
    "# plot for 2015\n",
    "sns.kdeplot(data = rat_2015, x = 'Fandango_Stars', fill=True,\n",
    "   alpha=.5, linewidth=0, label=2015, legend = True)\n",
    "\n",
    "# plot for 2016\n",
    "sns.kdeplot(data = rat_2016, x = 'fandango',\n",
    "   fill=True, alpha=.5, linewidth=0, label = '2016', legend = True)\n",
    "\n",
    "plt.title('Distribution of ratings')\n",
    "plt.xlabel('Stars')\n",
    "plt.xlim(0, 5)\n",
    "plt.xticks(np.arange(0, 5.5, step=0.5))\n",
    "plt.legend(loc=2)"
   ]
  },
  {
   "cell_type": "markdown",
   "metadata": {},
   "source": [
    "Both distributions are skewed to the left, but the distribution for 2015 is more skewed as for 2016.\n",
    "Most distributions show that popular movies tend to get high or very high ratings, but ratings from 2016 are relatively lower and start from 2 stars (not from 2.5 stars as for 2015).\n",
    "\n",
    "There was a change in ratings after the article was published and moved in the direction of lower ratings.\n",
    "Since the number of films in the both samples are different (129 films for 2015 and 191 for 2016) it's better to focus on proportional distribution of ratings.\n",
    "\n",
    "## Frequency distribution of ratings\n"
   ]
  },
  {
   "cell_type": "code",
   "execution_count": 9,
   "metadata": {},
   "outputs": [
    {
     "data": {
      "text/plain": [
       "4.5    0.379845\n",
       "4.0    0.286822\n",
       "3.5    0.178295\n",
       "3.0    0.085271\n",
       "5.0    0.069767\n",
       "Name: Fandango_Stars, dtype: float64"
      ]
     },
     "execution_count": 9,
     "metadata": {},
     "output_type": "execute_result"
    }
   ],
   "source": [
    "rat_2015['Fandango_Stars'].value_counts(normalize=True)"
   ]
  },
  {
   "cell_type": "code",
   "execution_count": 10,
   "metadata": {},
   "outputs": [
    {
     "data": {
      "text/plain": [
       "4.0    0.403141\n",
       "4.5    0.246073\n",
       "3.5    0.240838\n",
       "3.0    0.073298\n",
       "2.5    0.031414\n",
       "5.0    0.005236\n",
       "Name: fandango, dtype: float64"
      ]
     },
     "execution_count": 10,
     "metadata": {},
     "output_type": "execute_result"
    }
   ],
   "source": [
    "rat_2016['fandango'].value_counts(normalize = True)"
   ]
  },
  {
   "cell_type": "markdown",
   "metadata": {},
   "source": [
    "Observations on frequency tables confirm what I found out for cumulative distributions:\n",
    " - proportion of films with 5 starts decreased from circa 7% for 2015 to 0.5% for 2016\n",
    " - for 2016 most numerous group is with 4 starts (40% for 2016 vs 29% for 2015) while for 2015 more often films were rated with 4.5 stars (38% vs 25% for 2016) \n",
    " - the lowest rating for 2015 was 3 stars while for 2016 3% of films got 2.5 stars\n",
    "\n",
    "## Summary statistics\n",
    "\n",
    " I’lll take each distribution of movie ratings and compute its mean, median, and mode, and then compare these statistics to determine what they tell about the direction of the difference."
   ]
  },
  {
   "cell_type": "code",
   "execution_count": 11,
   "metadata": {},
   "outputs": [],
   "source": [
    "# descriptive statistics for 2015\n",
    "mean_2015 = rat_2015['Fandango_Stars'].mean()\n",
    "mode_2015 = rat_2015['Fandango_Stars'].mode()[0]\n",
    "median_2015 = rat_2015['Fandango_Stars'].median()"
   ]
  },
  {
   "cell_type": "code",
   "execution_count": 12,
   "metadata": {},
   "outputs": [],
   "source": [
    "# descriptive statistics for 2016\n",
    "mean_2016 = rat_2016['fandango'].mean()\n",
    "median_2016 = rat_2016['fandango'].median()\n",
    "mode_2016 = rat_2016['fandango'].mode()[0]"
   ]
  },
  {
   "cell_type": "code",
   "execution_count": 13,
   "metadata": {},
   "outputs": [],
   "source": [
    "summary = pd.DataFrame()\n",
    "summary['2015'] = [mean_2015, median_2015, mode_2015]\n",
    "summary['2016'] = [mean_2016, median_2016, mode_2016]\n",
    "summary.index = ['mean', 'median', 'mode']"
   ]
  },
  {
   "cell_type": "code",
   "execution_count": 15,
   "metadata": {},
   "outputs": [
    {
     "data": {
      "text/plain": [
       "<matplotlib.legend.Legend at 0x12eff0a60>"
      ]
     },
     "execution_count": 15,
     "metadata": {},
     "output_type": "execute_result"
    },
    {
     "data": {
      "image/png": "[encoded data removed]",
      "text/plain": [
       "<Figure size 432x288 with 1 Axes>"
      ]
     },
     "metadata": {},
     "output_type": "display_data"
    }
   ],
   "source": [
    "summary.plot(kind='bar')\n",
    "plt.xticks(rotation=45)\n",
    "plt.ylim(0, 5)\n",
    "plt.title('Comparing summary staistics: 2015 vs 2016', fontsize='large')\n",
    "plt.legend(loc='lower right')"
   ]
  },
  {
   "cell_type": "markdown",
   "metadata": {},
   "source": [
    "# Conclusion\n",
    "\n",
    "Our analysis showed that *there was indeed a slight difference* between Fandango's ratings for popular movies in 2015 and Fandango's ratings for popular movies in 2016:\n",
    " - lowest ratings start from 2.5 for 2015 and from 2.0 for 2016\n",
    " - on average, popular movies released in 2016 were rated **lower** on Fandango than popular movies released in 2015\n",
    " \n",
    "Still for both years popular releases tend to get high or very high ratings."
   ]
  }
 ],
 "metadata": {
  "kernelspec": {
   "display_name": "Python 3",
   "language": "python",
   "name": "python3"
  },
  "language_info": {
   "codemirror_mode": {
    "name": "ipython",
    "version": 3
   },
   "file_extension": ".py",
   "mimetype": "text/x-python",
   "name": "python",
   "nbconvert_exporter": "python",
   "pygments_lexer": "ipython3",
   "version": "3.9.0"
  }
 },
 "nbformat": 4,
 "nbformat_minor": 4
}
