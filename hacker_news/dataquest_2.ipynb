{
 "cells": [
  {
   "cell_type": "markdown",
   "metadata": {},
   "source": [
    "# Exploring Hacker News Posts\n",
    "**Hacker News** is a site started by the startup incubator Y Combinator, where user-submitted stories (known as \"posts\") are voted and commented upon, similar to Reddit. Hacker News is extremely popular in technology and startup circles, and posts that make it to the top of Hacker News' listings can get hundreds of thousands of visitors as a result.\n",
    "The main goal of our project is to **determine what kind of posts attract more attention** and when is it better to post on that website to get noticed.\n",
    "\n",
    "The dataset was taken [here](https://www.kaggle.com/hacker-news/hacker-news-posts).\n",
    "I was specifically interested in posts whose titles begin with either `Ask HN` or `Show HN`. Users submit `Ask HN` posts to ask the Hacker News community a specific question. Likewise, users submit `Show HN` posts to show the Hacker News community a project, product, or just generally something interesting.\n",
    " \n",
    "I'll compare these two types of posts to determine the following:\n",
    "- Do Ask HN or Show HN receive more comments on average?\n",
    "- Do posts created at a certain time receive more comments on average?"
   ]
  },
  {
   "cell_type": "code",
   "execution_count": 1,
   "metadata": {},
   "outputs": [
    {
     "name": "stdout",
     "output_type": "stream",
     "text": [
      "Headers of the table:  ['id', 'title', 'url', 'num_points', 'num_comments', 'author', 'created_at'] \n",
      "\n",
      "Total number of rows in dataset is: 293119\n"
     ]
    }
   ],
   "source": [
    "from csv import reader\n",
    "\n",
    "# open and read the file as a list of lists\n",
    "opened_file = open(\"hacker_news.csv\")\n",
    "read_file = reader(opened_file)\n",
    "hn_raw = list(read_file)\n",
    "\n",
    "# separate and display the row containing the column header\n",
    "header = hn_raw[0]\n",
    "hn_raw = hn_raw[1:]\n",
    "print(\"Headers of the table: \", header, \"\\n\")\n",
    "print(\"Total number of rows in dataset is: {}\".format(len(hn_raw)))"
   ]
  },
  {
   "cell_type": "markdown",
   "metadata": {},
   "source": [
    "The original dataset includes *293119* rows and *7* columns.\n",
    "\n",
    "Below are descriptions of the columns of the dataset:\n",
    "\n",
    " - `id`: The unique identifier from Hacker News for the post\n",
    " - `title`: The title of the post\n",
    " - `url`: The URL that the posts links to, if the post has a URL\n",
    " - `num_points`: The number of points the post acquired, calculated as the total number of upvotes minus the total number of downvotes\n",
    " - `num_comments`: The number of comments that were made on the post\n",
    " - `author`: The username of the person who submitted the post\n",
    " - `created_at`: The date and time at which the post was submitted\n",
    "\n",
    "Next step is to leave only rows with posts with at least one comment and separate posts beginning with Ask HN and Show HN.  "
   ]
  },
  {
   "cell_type": "code",
   "execution_count": 2,
   "metadata": {},
   "outputs": [
    {
     "name": "stdout",
     "output_type": "stream",
     "text": [
      "Number of commented posts in dataset is: 80401\n",
      "There are 6911 posts Ask HN\n",
      "It is 8.6% of the total posts Ask HN with at least one comment\n",
      "There are 5059 posts Show HN\n",
      "It is 6.29% of the total posts Show HN with at least one comment\n",
      "There are 68431 other posts\n"
     ]
    }
   ],
   "source": [
    "# leave only rows with posts which had some comments\n",
    "hn = []\n",
    "\n",
    "for row in hn_raw:\n",
    "    numb_comments = row[4]\n",
    "    if numb_comments != \"0\":\n",
    "        hn.append(row)\n",
    "\n",
    "print(\"Number of commented posts in dataset is: {}\".format(len(hn)))\n",
    "\n",
    "# separate posts and append them to lists\n",
    "ask_posts = []\n",
    "show_posts = []\n",
    "other_posts = []\n",
    "\n",
    "for row in hn:\n",
    "    title = row[1]\n",
    "    if title.lower().startswith(\"ask hn\"):\n",
    "        ask_posts.append(row)\n",
    "    elif title.lower().startswith(\"show hn\"):\n",
    "        show_posts.append(row)\n",
    "    else:\n",
    "        other_posts.append(row)\n",
    "        \n",
    "percentage_to_total_ask = round((len(ask_posts)/len(hn))*100, 2)\n",
    "percentage_to_total_show = round((len(show_posts)/len(hn))*100, 2)\n",
    "\n",
    "print(\"There are {} posts Ask HN\".format(len(ask_posts)))\n",
    "print(\"It is {}% of the total posts Ask HN with at least one comment\".format(percentage_to_total_ask))\n",
    "print(\"There are {} posts Show HN\".format(len(show_posts)))\n",
    "print(\"It is {}% of the total posts Show HN with at least one comment\".format(percentage_to_total_show))\n",
    "print(\"There are {} other posts\".format(len(other_posts)))"
   ]
  },
  {
   "cell_type": "markdown",
   "metadata": {},
   "source": [
    "As we can see, there are more posts Ask HN as Show HN: 8.6% versus 6.29% of the total number of posts with at least one comment.\n",
    "Next step is to idenitfy which type of posts attracts more attention."
   ]
  },
  {
   "cell_type": "code",
   "execution_count": 3,
   "metadata": {},
   "outputs": [
    {
     "name": "stdout",
     "output_type": "stream",
     "text": [
      "On average Ask HN posts get more comments as Show HN posts: 14 versus 9.81\n"
     ]
    }
   ],
   "source": [
    "# determine if ask posts or show posts receive more comments on average\n",
    "ask_comments = 0\n",
    "show_comments = 0\n",
    "\n",
    "# calculate average number of comments for Ask HN\n",
    "for row in ask_posts:\n",
    "    num_comments = int(row[4])\n",
    "    ask_comments += num_comments\n",
    "avg_ask_comments = round(ask_comments/len(ask_posts))\n",
    "\n",
    "# calculate average number of comments for Show HN\n",
    "for row in show_posts:\n",
    "    num_comments = int(row[4])\n",
    "    show_comments += num_comments\n",
    "avg_show_comments = round(show_comments/len(show_posts), 2)\n",
    "\n",
    "# print the result\n",
    "if avg_ask_comments > avg_show_comments:\n",
    "    print(\"On average Ask HN posts get more comments as Show HN posts: {} versus {}\".format(avg_ask_comments, avg_show_comments))\n",
    "else:\n",
    "    print(\"On average Show HN posts get more comments as Ask HN posts: {} versus {}\".format(avg_show_comments, avg_ask_comments))"
   ]
  },
  {
   "cell_type": "markdown",
   "metadata": {},
   "source": [
    "Ask HN posts get on average more comments as Show HN posts: 14% versus 9.81%\n",
    "\n",
    "Further I'll focus only *on posts Ask HN*\n",
    "\n",
    "I'll determine if ask posts created at a *certain time* are more likely to attract comments. At first I'll calculate the amount of ask posts created in each hour of the day, along with the number of comments received."
   ]
  },
  {
   "cell_type": "code",
   "execution_count": 4,
   "metadata": {},
   "outputs": [
    {
     "name": "stdout",
     "output_type": "stream",
     "text": [
      "24\n"
     ]
    }
   ],
   "source": [
    "import datetime as dt\n",
    "\n",
    "#count how many posts were created at any hour and how much comments did they get\n",
    "comments_by_hour = {}\n",
    "\n",
    "for row in ask_posts:\n",
    "    \n",
    "    date_str = row[6]\n",
    "    num_comments = int(row[4])\n",
    "    # parse date from created_at column and extract hours\n",
    "    date_1 = dt.datetime.strptime(date_str, \"%m/%d/%Y %H:%M\")\n",
    "    hour = date_1.strftime(\"%H\")\n",
    "    comments_by_hour.setdefault(hour, []).append(num_comments)\n",
    "\n",
    "print(len(comments_by_hour)) "
   ]
  },
  {
   "cell_type": "markdown",
   "metadata": {},
   "source": [
    "- Calculate the average number of comments ask posts receive by hour created."
   ]
  },
  {
   "cell_type": "code",
   "execution_count": 5,
   "metadata": {},
   "outputs": [
    {
     "name": "stdout",
     "output_type": "stream",
     "text": [
      "15 : 40\n",
      "13 : 22\n",
      "12 : 15\n",
      "17 : 14\n",
      "10 : 14\n",
      "02 : 13\n",
      "14 : 13\n",
      "04 : 13\n",
      "22 : 12\n",
      "08 : 12\n",
      "21 : 11\n",
      "11 : 11\n",
      "16 : 11\n",
      "20 : 11\n",
      "18 : 11\n",
      "05 : 11\n",
      "07 : 10\n",
      "03 : 10\n",
      "00 : 10\n",
      "01 : 9\n",
      "19 : 9\n",
      "06 : 9\n",
      "09 : 8\n",
      "23 : 8\n"
     ]
    }
   ],
   "source": [
    "# calculate average\n",
    "for hour, num_comments in comments_by_hour.items():\n",
    "    avg_comments = round(sum(num_comments)/len(num_comments))\n",
    "    comments_by_hour[hour] = avg_comments\n",
    "    \n",
    "# sort and print resulting dictionary\n",
    "for hour in sorted(comments_by_hour, key=comments_by_hour.get, reverse=True):\n",
    "    print(hour, ':', comments_by_hour[hour])   "
   ]
  },
  {
   "cell_type": "markdown",
   "metadata": {},
   "source": [
    "I identified the hours when Ask HN posts draws more attention: top result is 15:00, followed by 13:00 and 12:00.\n",
    "\n",
    "## Conclusion\n",
    "As my analysis has showed that the most suitable time to write a Ask post on Hacker News is around 15:00, or following the dataset [documentation](https://www.kaggle.com/hacker-news/hacker-news-posts) 3:00 pm est. The longer time span to post - from 01 pm to 03 pm est."
   ]
  }
 ],
 "metadata": {
  "kernelspec": {
   "display_name": "Python 3",
   "language": "python",
   "name": "python3"
  },
  "language_info": {
   "codemirror_mode": {
    "name": "ipython",
    "version": 3
   },
   "file_extension": ".py",
   "mimetype": "text/x-python",
   "name": "python",
   "nbconvert_exporter": "python",
   "pygments_lexer": "ipython3",
   "version": "3.9.0"
  }
 },
 "nbformat": 4,
 "nbformat_minor": 4
}
