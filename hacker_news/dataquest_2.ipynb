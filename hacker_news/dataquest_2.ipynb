{
 "cells": [
  {
   "cell_type": "markdown",
   "metadata": {},
   "source": [
    "### Exploring Hacker News Posts\n",
    "**Hacker News** is a site started by the startup incubator Y Combinator, where user-submitted stories (known as \"posts\") are voted and commented upon, similar to reddit. Hacker News is extremely popular in technology and startup circles, and posts that make it to the top of Hacker News' listings can get hundreds of thousands of visitors as a result.\n",
    "You can find the data set [here](https://www.kaggle.com/hacker-news/hacker-news-posts), but note that it has been reduced from almost 300,000 rows to approximately 20,000 rows by removing all submissions that did not receive any comments, and then randomly sampling from the remaining submissions. \n",
    "Below are descriptions of the columns of the dataset:\n",
    "\n",
    " - `id`: The unique identifier from Hacker News for the post\n",
    " - `title`: The title of the post\n",
    " - `url`: The URL that the posts links to, if the post has a URL\n",
    " - `num_points`: The number of points the post acquired, calculated as the total number of upvotes minus the total number of downvotes\n",
    " - `num_comments`: The number of comments that were made on the post\n",
    " - `author`: The username of the person who submitted the post"
   ]
  },
  {
   "cell_type": "markdown",
   "metadata": {},
   "source": [
    " - `created_at`: The date and time at which the post was submitted\n",
    "\n",
    "We're specifically interested in posts whose titles begin with either `Ask HN` or `Show HN`. Users submit `Ask HN` posts to ask the Hacker News community a specific question. Likewise, users submit `Show HN` posts to show the Hacker News community a project, product, or just generally something interesting.\n",
    " \n",
    "We'll compare these two types of posts to determine the following:\n",
    "- Do Ask HN or Show HN receive more comments on average?\n",
    "- Do posts created at a certain time receive more comments on average?"
   ]
  },
  {
   "cell_type": "code",
   "execution_count": 1,
   "metadata": {},
   "outputs": [
    {
     "name": "stdout",
     "output_type": "stream",
     "text": [
      "Headers of the table:  ['id', 'title', 'url', 'num_points', 'num_comments', 'author', 'created_at'] \n",
      "\n",
      "Total number of rows in dataset is: 293119\n",
      "Number of commented posts in dataset is: 80401\n",
      "There are 6911 posts Ask HN\n",
      "It is 8.6% of the total posts Ask HN with at least one comment\n",
      "There are 5059 posts Show HN\n",
      "It is 6.29% of the total posts Show HN with at least one comment\n",
      "There are 68431 other posts\n",
      "On average Ask HN posts get more comments as Show HN posts: 14 versus 9.81\n"
     ]
    }
   ],
   "source": [
    "from csv import reader\n",
    "#open and read the file as a list of lists\n",
    "opened_file = open(\"hacker_news.csv\")\n",
    "read_file = reader(opened_file)\n",
    "hn_raw = list(read_file)\n",
    "\n",
    "#separate and display the row containing the column header\n",
    "header = hn_raw[0]\n",
    "hn_raw = hn_raw[1:]\n",
    "print(\"Headers of the table: \", header, \"\\n\")\n",
    "print(\"Total number of rows in dataset is: {}\".format(len(hn_raw)))\n",
    "\n",
    "# leave only rows with posts which had some comments\n",
    "hn = []\n",
    "\n",
    "for row in hn_raw:\n",
    "    numb_comments = row[4]\n",
    "    if numb_comments != \"0\":\n",
    "        hn.append(row)\n",
    "\n",
    "print(\"Number of commented posts in dataset is: {}\".format(len(hn)))\n",
    "\n",
    "# separate posts beginning with Ask HN and Show HN and append them to lists\n",
    "ask_posts = []\n",
    "show_posts = []\n",
    "other_posts = []\n",
    "\n",
    "for row in hn:\n",
    "    title = row[1]\n",
    "    if title.lower().startswith(\"ask hn\"):\n",
    "        ask_posts.append(row)\n",
    "    elif title.lower().startswith(\"show hn\"):\n",
    "        show_posts.append(row)\n",
    "    else:\n",
    "        other_posts.append(row)\n",
    "        \n",
    "percentage_to_total_ask = round((len(ask_posts)/len(hn))*100, 2)\n",
    "percentage_to_total_show = round((len(show_posts)/len(hn))*100, 2)\n",
    "\n",
    "print(\"There are {} posts Ask HN\".format(len(ask_posts)))\n",
    "print(\"It is {}% of the total posts Ask HN with at least one comment\".format(percentage_to_total_ask))\n",
    "print(\"There are {} posts Show HN\".format(len(show_posts)))\n",
    "print(\"It is {}% of the total posts Show HN with at least one comment\".format(percentage_to_total_show))\n",
    "print(\"There are {} other posts\".format(len(other_posts)))\n",
    "\n",
    "#determine if ask posts or show posts receive more comments on average\n",
    "ask_comments = 0\n",
    "show_comments = 0\n",
    "#calculate average number of comments for Ask HN\n",
    "for row in ask_posts:\n",
    "    num_comments = int(row[4])\n",
    "    ask_comments += num_comments\n",
    "avg_ask_comments = round(ask_comments/len(ask_posts))\n",
    "#calculate average number of comments for Show HN\n",
    "for row in show_posts:\n",
    "    num_comments = int(row[4])\n",
    "    show_comments += num_comments\n",
    "avg_show_comments = round(show_comments/len(show_posts), 2)\n",
    "#print the result\n",
    "if avg_ask_comments > avg_show_comments:\n",
    "    print(\"On average Ask HN posts get more comments as Show HN posts: {} versus {}\".format(avg_ask_comments, avg_show_comments))\n",
    "else:\n",
    "    print(\"On average Show HN posts get more comments as Ask HN posts: {} versus {}\".format(avg_show_comments, avg_ask_comments))"
   ]
  },
  {
   "cell_type": "markdown",
   "metadata": {},
   "source": [
    "As we can see, there are more posts Ask HN as Show HN as well as first ones attract more attention:\n",
    " - there are more posts Ask HN as Show HN: 8.6% versus 6.29% of the total number of posts with at least one comment\n",
    " - Ask HN posts get on average more comments as Show HN posts: 14% versus 9.81%\n",
    "\n",
    "Further we will focus only *on posts Ask HN*\n",
    "\n",
    "We'll determine if ask posts created at a *certain time* are more likely to attract comments. We'll use the following steps to perform this analysis:\n",
    "\n",
    "- Calculate the amount of ask posts created in each hour of the day, along with the number of comments received.\n",
    "- Calculate the average number of comments ask posts receive by hour created.\n"
   ]
  },
  {
   "cell_type": "code",
   "execution_count": 2,
   "metadata": {},
   "outputs": [
    {
     "name": "stdout",
     "output_type": "stream",
     "text": [
      "['15', 39.67]\n",
      "['13', 22.22]\n",
      "['12', 15.45]\n",
      "['10', 13.76]\n",
      "['17', 13.73]\n",
      "['02', 13.2]\n",
      "['14', 13.15]\n",
      "['04', 12.69]\n",
      "['08', 12.43]\n",
      "['22', 11.75]\n",
      "['20', 11.38]\n",
      "['11', 11.14]\n",
      "['05', 11.14]\n",
      "['21', 11.06]\n",
      "['18', 10.79]\n",
      "['16', 10.76]\n",
      "['03', 10.16]\n",
      "['07', 10.1]\n",
      "['00', 9.86]\n",
      "['19', 9.41]\n",
      "['01', 9.37]\n",
      "['06', 9.02]\n",
      "['09', 8.39]\n",
      "['23', 8.32]\n"
     ]
    }
   ],
   "source": [
    "import datetime as dt\n",
    "\n",
    "#count how many posts were created at any hour and how much comments did they get\n",
    "counts_by_hour = {}\n",
    "comments_by_hour = {}\n",
    "\n",
    "for row in ask_posts:\n",
    "    date_str = row[6]\n",
    "    num_comments = int(row[4])\n",
    "    #parse date from created_at column and extract hours\n",
    "    date_1 = dt.datetime.strptime(date_str, \"%m/%d/%Y %H:%M\")\n",
    "    hour = date_1.strftime(\"%H\")\n",
    "    \n",
    "    if hour not in counts_by_hour:\n",
    "        counts_by_hour[hour] = 1\n",
    "    else:\n",
    "        counts_by_hour[hour] += 1\n",
    "    if hour not in comments_by_hour:\n",
    "        comments_by_hour[hour] = num_comments\n",
    "    else:\n",
    "        comments_by_hour[hour] += num_comments\n",
    "        \n",
    "#calculate average number of comments for any hour\n",
    "avg_posts = []\n",
    "\n",
    "for hour, num_comments in comments_by_hour.items():\n",
    "    numb_posts = counts_by_hour[hour]\n",
    "    avg_post = round(num_comments/numb_posts, 2)\n",
    "    avg_posts.append([hour, avg_post])\n",
    "    \n",
    "#sort the list in reverse way and print line by line  \n",
    "avg_posts.sort(key=lambda x:x[1], reverse = True)\n",
    "for row in avg_posts:\n",
    "    print(row)"
   ]
  },
  {
   "cell_type": "markdown",
   "metadata": {},
   "source": [
    "## Conclusion\n",
    "As our analysis has showed the most popular time to write a post on Hacker News is around 15:00, or following the dataset [documentation](https://www.kaggle.com/hacker-news/hacker-news-posts) 3:00 pm est. The longer time span to post - from 01 pm to 03 pm est."
   ]
  }
 ],
 "metadata": {
  "kernelspec": {
   "display_name": "Python 3",
   "language": "python",
   "name": "python3"
  },
  "language_info": {
   "codemirror_mode": {
    "name": "ipython",
    "version": 3
   },
   "file_extension": ".py",
   "mimetype": "text/x-python",
   "name": "python",
   "nbconvert_exporter": "python",
   "pygments_lexer": "ipython3",
   "version": "3.9.0"
  }
 },
 "nbformat": 4,
 "nbformat_minor": 4
}
